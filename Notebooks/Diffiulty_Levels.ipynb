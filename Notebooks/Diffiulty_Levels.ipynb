{
 "cells": [
  {
   "cell_type": "code",
   "execution_count": 1,
   "metadata": {},
   "outputs": [],
   "source": [
    "from main import *\n",
    "from ai import *\n",
    "import pandas as pd\n",
    "import numpy as np"
   ]
  },
  {
   "cell_type": "code",
   "execution_count": 2,
   "metadata": {},
   "outputs": [],
   "source": [
    "# import sys\n",
    "# sys.setrecursionlimit(15000)"
   ]
  },
  {
   "cell_type": "code",
   "execution_count": 3,
   "metadata": {},
   "outputs": [
    {
     "data": {
      "text/html": [
       "<div>\n",
       "<style scoped>\n",
       "    .dataframe tbody tr th:only-of-type {\n",
       "        vertical-align: middle;\n",
       "    }\n",
       "\n",
       "    .dataframe tbody tr th {\n",
       "        vertical-align: top;\n",
       "    }\n",
       "\n",
       "    .dataframe thead th {\n",
       "        text-align: right;\n",
       "    }\n",
       "</style>\n",
       "<table border=\"1\" class=\"dataframe\">\n",
       "  <thead>\n",
       "    <tr style=\"text-align: right;\">\n",
       "      <th></th>\n",
       "      <th>Id</th>\n",
       "      <th>Sudoku</th>\n",
       "      <th>Solution</th>\n",
       "      <th>Level</th>\n",
       "      <th>People</th>\n",
       "      <th>Average-Time</th>\n",
       "    </tr>\n",
       "  </thead>\n",
       "  <tbody>\n",
       "    <tr>\n",
       "      <th>0</th>\n",
       "      <td>0</td>\n",
       "      <td>8...74...1.........7.5.9.4....65.4..73.....296...</td>\n",
       "      <td>8591742361648325973725698412916574837354186296...</td>\n",
       "      <td>Diabolical</td>\n",
       "      <td>254</td>\n",
       "      <td>25</td>\n",
       "    </tr>\n",
       "    <tr>\n",
       "      <th>1</th>\n",
       "      <td>1</td>\n",
       "      <td>.5.....7.9......6...21.75.8.4..69.3...8...4......</td>\n",
       "      <td>8539461729175823644621375981458692376283754197...</td>\n",
       "      <td>Moderate</td>\n",
       "      <td>281</td>\n",
       "      <td>12</td>\n",
       "    </tr>\n",
       "    <tr>\n",
       "      <th>2</th>\n",
       "      <td>2</td>\n",
       "      <td>...45.2..3.........8....4..7...94.3.9..5.2.76....</td>\n",
       "      <td>6974532183248617955819274637186945329435128762...</td>\n",
       "      <td>Diabolical</td>\n",
       "      <td>265</td>\n",
       "      <td>22</td>\n",
       "    </tr>\n",
       "    <tr>\n",
       "      <th>3</th>\n",
       "      <td>3</td>\n",
       "      <td>9......31.3...8.....5.7.9..3...4...8.916..54.4...</td>\n",
       "      <td>9274568316341982758153729643527496187916835424...</td>\n",
       "      <td>Tough</td>\n",
       "      <td>279</td>\n",
       "      <td>19</td>\n",
       "    </tr>\n",
       "    <tr>\n",
       "      <th>4</th>\n",
       "      <td>4</td>\n",
       "      <td>9.......2784.1.5.....4.....2.53.1.7...7...8......</td>\n",
       "      <td>9615387427846125395234796182953814761479568236...</td>\n",
       "      <td>Moderate</td>\n",
       "      <td>301</td>\n",
       "      <td>14</td>\n",
       "    </tr>\n",
       "  </tbody>\n",
       "</table>\n",
       "</div>"
      ],
      "text/plain": [
       "   Id                                             Sudoku  \\\n",
       "0   0  8...74...1.........7.5.9.4....65.4..73.....296...   \n",
       "1   1  .5.....7.9......6...21.75.8.4..69.3...8...4......   \n",
       "2   2  ...45.2..3.........8....4..7...94.3.9..5.2.76....   \n",
       "3   3  9......31.3...8.....5.7.9..3...4...8.916..54.4...   \n",
       "4   4  9.......2784.1.5.....4.....2.53.1.7...7...8......   \n",
       "\n",
       "                                            Solution       Level  People  \\\n",
       "0  8591742361648325973725698412916574837354186296...  Diabolical     254   \n",
       "1  8539461729175823644621375981458692376283754197...    Moderate     281   \n",
       "2  6974532183248617955819274637186945329435128762...  Diabolical     265   \n",
       "3  9274568316341982758153729643527496187916835424...       Tough     279   \n",
       "4  9615387427846125395234796182953814761479568236...    Moderate     301   \n",
       "\n",
       "   Average-Time  \n",
       "0            25  \n",
       "1            12  \n",
       "2            22  \n",
       "3            19  \n",
       "4            14  "
      ]
     },
     "execution_count": 3,
     "metadata": {},
     "output_type": "execute_result"
    }
   ],
   "source": [
    "df = pd.read_csv('data/dataset.csv').drop('Unnamed: 0', axis=1)\n",
    "df.head()"
   ]
  },
  {
   "cell_type": "code",
   "execution_count": 4,
   "metadata": {},
   "outputs": [
    {
     "data": {
      "text/plain": [
       "'Not solved'"
      ]
     },
     "execution_count": 4,
     "metadata": {},
     "output_type": "execute_result"
    }
   ],
   "source": [
    "#solve(df['Sudoku'][0])\n",
    "solve_technique(df['Sudoku'][0],'single_position')[0]"
   ]
  },
  {
   "cell_type": "code",
   "execution_count": 5,
   "metadata": {},
   "outputs": [
    {
     "data": {
      "text/plain": [
       "'Not solved'"
      ]
     },
     "execution_count": 5,
     "metadata": {},
     "output_type": "execute_result"
    }
   ],
   "source": [
    "solve_technique(df['Sudoku'][0],'single_candidate')[0]"
   ]
  },
  {
   "cell_type": "code",
   "execution_count": 6,
   "metadata": {},
   "outputs": [
    {
     "data": {
      "text/plain": [
       "'Not solved'"
      ]
     },
     "execution_count": 6,
     "metadata": {},
     "output_type": "execute_result"
    }
   ],
   "source": [
    "solve_technique(df['Sudoku'][0],'naked_twins')[0]"
   ]
  },
  {
   "cell_type": "code",
   "execution_count": 7,
   "metadata": {
    "collapsed": true,
    "jupyter": {
     "outputs_hidden": true
    }
   },
   "outputs": [
    {
     "data": {
      "text/plain": [
       "('Solved',\n",
       " {'A1': '8',\n",
       "  'A2': '5',\n",
       "  'A3': '9',\n",
       "  'A4': '1',\n",
       "  'A5': '7',\n",
       "  'A6': '4',\n",
       "  'A7': '2',\n",
       "  'A8': '3',\n",
       "  'A9': '6',\n",
       "  'B1': '1',\n",
       "  'B2': '6',\n",
       "  'B3': '4',\n",
       "  'B4': '8',\n",
       "  'B5': '3',\n",
       "  'B6': '2',\n",
       "  'B7': '5',\n",
       "  'B8': '9',\n",
       "  'B9': '7',\n",
       "  'C1': '3',\n",
       "  'C2': '7',\n",
       "  'C3': '2',\n",
       "  'C4': '5',\n",
       "  'C5': '6',\n",
       "  'C6': '9',\n",
       "  'C7': '8',\n",
       "  'C8': '4',\n",
       "  'C9': '1',\n",
       "  'D1': '2',\n",
       "  'D2': '9',\n",
       "  'D3': '1',\n",
       "  'D4': '6',\n",
       "  'D5': '5',\n",
       "  'D6': '7',\n",
       "  'D7': '4',\n",
       "  'D8': '8',\n",
       "  'D9': '3',\n",
       "  'E1': '7',\n",
       "  'E2': '3',\n",
       "  'E3': '5',\n",
       "  'E4': '4',\n",
       "  'E5': '1',\n",
       "  'E6': '8',\n",
       "  'E7': '6',\n",
       "  'E8': '2',\n",
       "  'E9': '9',\n",
       "  'F1': '6',\n",
       "  'F2': '4',\n",
       "  'F3': '8',\n",
       "  'F4': '2',\n",
       "  'F5': '9',\n",
       "  'F6': '3',\n",
       "  'F7': '1',\n",
       "  'F8': '7',\n",
       "  'F9': '5',\n",
       "  'G1': '9',\n",
       "  'G2': '2',\n",
       "  'G3': '6',\n",
       "  'G4': '3',\n",
       "  'G5': '8',\n",
       "  'G6': '1',\n",
       "  'G7': '7',\n",
       "  'G8': '5',\n",
       "  'G9': '4',\n",
       "  'H1': '4',\n",
       "  'H2': '1',\n",
       "  'H3': '3',\n",
       "  'H4': '7',\n",
       "  'H5': '2',\n",
       "  'H6': '5',\n",
       "  'H7': '9',\n",
       "  'H8': '6',\n",
       "  'H9': '8',\n",
       "  'I1': '5',\n",
       "  'I2': '8',\n",
       "  'I3': '7',\n",
       "  'I4': '9',\n",
       "  'I5': '4',\n",
       "  'I6': '6',\n",
       "  'I7': '3',\n",
       "  'I8': '1',\n",
       "  'I9': '2'})"
      ]
     },
     "execution_count": 7,
     "metadata": {},
     "output_type": "execute_result"
    }
   ],
   "source": [
    "solve(df['Sudoku'][0])"
   ]
  },
  {
   "cell_type": "code",
   "execution_count": 8,
   "metadata": {},
   "outputs": [],
   "source": [
    "import json\n",
    "a =solve(df['Sudoku'][0])[1]"
   ]
  },
  {
   "cell_type": "code",
   "execution_count": 9,
   "metadata": {},
   "outputs": [
    {
     "data": {
      "text/plain": [
       "'859174236164832597372569841291657483735418629648293175926381754413725968587946312'"
      ]
     },
     "execution_count": 9,
     "metadata": {},
     "output_type": "execute_result"
    }
   ],
   "source": [
    "\"\".join([value if len(value) == 1 else \".\" for value in a.values()])"
   ]
  },
  {
   "cell_type": "code",
   "execution_count": 10,
   "metadata": {},
   "outputs": [],
   "source": [
    "rows = 'ABCDEFGHI'\n",
    "cols = '123456789'\n",
    "boxes = [s+t for s in rows for t in cols]\n",
    "\n",
    "def display(values):\n",
    "    \"\"\"\n",
    "    Display the values as a 2-D grid.\n",
    "    Input: The sudoku in dictionary form\n",
    "    Output: None\n",
    "    \"\"\"\n",
    "    width = 1+max(len(values[s]) for s in boxes)\n",
    "    line = '+'.join(['-'*(width*3)]*3)\n",
    "    for r in rows:\n",
    "        print(''.join(values[r+c].center(width)+('|' if c in '36' else '')\n",
    "                      for c in cols))\n",
    "        if r in 'CF': print(line)\n",
    "    print"
   ]
  },
  {
   "cell_type": "code",
   "execution_count": 11,
   "metadata": {},
   "outputs": [
    {
     "name": "stdout",
     "output_type": "stream",
     "text": [
      "8 5 9 |1 7 4 |2 3 6 \n",
      "1 6 4 |8 3 2 |5 9 7 \n",
      "3 7 2 |5 6 9 |8 4 1 \n",
      "------+------+------\n",
      "2 9 1 |6 5 7 |4 8 3 \n",
      "7 3 5 |4 1 8 |6 2 9 \n",
      "6 4 8 |2 9 3 |1 7 5 \n",
      "------+------+------\n",
      "9 2 6 |3 8 1 |7 5 4 \n",
      "4 1 3 |7 2 5 |9 6 8 \n",
      "5 8 7 |9 4 6 |3 1 2 \n"
     ]
    }
   ],
   "source": [
    "display(a)"
   ]
  },
  {
   "cell_type": "code",
   "execution_count": 12,
   "metadata": {},
   "outputs": [],
   "source": [
    "df['Solved_single_position'] = df['Sudoku'].apply(lambda x: solve_technique(x, 'single_position')[0])"
   ]
  },
  {
   "cell_type": "code",
   "execution_count": 13,
   "metadata": {},
   "outputs": [
    {
     "data": {
      "text/plain": [
       "Not solved    4813\n",
       "Solved         216\n",
       "Name: Solved_single_position, dtype: int64"
      ]
     },
     "execution_count": 13,
     "metadata": {},
     "output_type": "execute_result"
    }
   ],
   "source": [
    "df['Solved_single_position'].value_counts()"
   ]
  },
  {
   "cell_type": "code",
   "execution_count": 14,
   "metadata": {},
   "outputs": [],
   "source": [
    "df['Solved_single_candidate'] = df['Sudoku'].apply(lambda x: solve_technique(x, 'single_candidate')[0])"
   ]
  },
  {
   "cell_type": "code",
   "execution_count": 15,
   "metadata": {},
   "outputs": [
    {
     "data": {
      "text/plain": [
       "Not solved    5029\n",
       "Name: Solved_single_candidate, dtype: int64"
      ]
     },
     "execution_count": 15,
     "metadata": {},
     "output_type": "execute_result"
    }
   ],
   "source": [
    "df['Solved_single_candidate'].value_counts()"
   ]
  },
  {
   "cell_type": "code",
   "execution_count": 16,
   "metadata": {},
   "outputs": [],
   "source": [
    "df['Solved_naked_twins']= df['Sudoku'].apply(lambda x: solve_technique(x, 'naked_twins')[0])"
   ]
  },
  {
   "cell_type": "code",
   "execution_count": 17,
   "metadata": {},
   "outputs": [
    {
     "data": {
      "text/plain": [
       "Not solved    5029\n",
       "Name: Solved_naked_twins, dtype: int64"
      ]
     },
     "execution_count": 17,
     "metadata": {},
     "output_type": "execute_result"
    }
   ],
   "source": [
    "df['Solved_naked_twins'].value_counts()"
   ]
  },
  {
   "cell_type": "code",
   "execution_count": 18,
   "metadata": {},
   "outputs": [],
   "source": [
    "df['Solved']= df['Sudoku'].apply(lambda x: solve(x)[0])"
   ]
  },
  {
   "cell_type": "code",
   "execution_count": 19,
   "metadata": {},
   "outputs": [
    {
     "data": {
      "text/plain": [
       "Solved    5029\n",
       "Name: Solved, dtype: int64"
      ]
     },
     "execution_count": 19,
     "metadata": {},
     "output_type": "execute_result"
    }
   ],
   "source": [
    "df['Solved'].value_counts()"
   ]
  },
  {
   "cell_type": "code",
   "execution_count": 20,
   "metadata": {},
   "outputs": [
    {
     "data": {
      "text/html": [
       "<div>\n",
       "<style scoped>\n",
       "    .dataframe tbody tr th:only-of-type {\n",
       "        vertical-align: middle;\n",
       "    }\n",
       "\n",
       "    .dataframe tbody tr th {\n",
       "        vertical-align: top;\n",
       "    }\n",
       "\n",
       "    .dataframe thead th {\n",
       "        text-align: right;\n",
       "    }\n",
       "</style>\n",
       "<table border=\"1\" class=\"dataframe\">\n",
       "  <thead>\n",
       "    <tr style=\"text-align: right;\">\n",
       "      <th></th>\n",
       "      <th>Id</th>\n",
       "      <th>Sudoku</th>\n",
       "      <th>Solution</th>\n",
       "      <th>Level</th>\n",
       "      <th>People</th>\n",
       "      <th>Average-Time</th>\n",
       "      <th>Solved_single_position</th>\n",
       "      <th>Solved_single_candidate</th>\n",
       "      <th>Solved_naked_twins</th>\n",
       "      <th>Solved</th>\n",
       "    </tr>\n",
       "  </thead>\n",
       "  <tbody>\n",
       "    <tr>\n",
       "      <th>0</th>\n",
       "      <td>0</td>\n",
       "      <td>8...74...1.........7.5.9.4....65.4..73.....296...</td>\n",
       "      <td>8591742361648325973725698412916574837354186296...</td>\n",
       "      <td>Diabolical</td>\n",
       "      <td>254</td>\n",
       "      <td>25</td>\n",
       "      <td>Not solved</td>\n",
       "      <td>Not solved</td>\n",
       "      <td>Not solved</td>\n",
       "      <td>Solved</td>\n",
       "    </tr>\n",
       "    <tr>\n",
       "      <th>1</th>\n",
       "      <td>1</td>\n",
       "      <td>.5.....7.9......6...21.75.8.4..69.3...8...4......</td>\n",
       "      <td>8539461729175823644621375981458692376283754197...</td>\n",
       "      <td>Moderate</td>\n",
       "      <td>281</td>\n",
       "      <td>12</td>\n",
       "      <td>Not solved</td>\n",
       "      <td>Not solved</td>\n",
       "      <td>Not solved</td>\n",
       "      <td>Solved</td>\n",
       "    </tr>\n",
       "    <tr>\n",
       "      <th>2</th>\n",
       "      <td>2</td>\n",
       "      <td>...45.2..3.........8....4..7...94.3.9..5.2.76....</td>\n",
       "      <td>6974532183248617955819274637186945329435128762...</td>\n",
       "      <td>Diabolical</td>\n",
       "      <td>265</td>\n",
       "      <td>22</td>\n",
       "      <td>Not solved</td>\n",
       "      <td>Not solved</td>\n",
       "      <td>Not solved</td>\n",
       "      <td>Solved</td>\n",
       "    </tr>\n",
       "    <tr>\n",
       "      <th>3</th>\n",
       "      <td>3</td>\n",
       "      <td>9......31.3...8.....5.7.9..3...4...8.916..54.4...</td>\n",
       "      <td>9274568316341982758153729643527496187916835424...</td>\n",
       "      <td>Tough</td>\n",
       "      <td>279</td>\n",
       "      <td>19</td>\n",
       "      <td>Not solved</td>\n",
       "      <td>Not solved</td>\n",
       "      <td>Not solved</td>\n",
       "      <td>Solved</td>\n",
       "    </tr>\n",
       "    <tr>\n",
       "      <th>4</th>\n",
       "      <td>4</td>\n",
       "      <td>9.......2784.1.5.....4.....2.53.1.7...7...8......</td>\n",
       "      <td>9615387427846125395234796182953814761479568236...</td>\n",
       "      <td>Moderate</td>\n",
       "      <td>301</td>\n",
       "      <td>14</td>\n",
       "      <td>Not solved</td>\n",
       "      <td>Not solved</td>\n",
       "      <td>Not solved</td>\n",
       "      <td>Solved</td>\n",
       "    </tr>\n",
       "  </tbody>\n",
       "</table>\n",
       "</div>"
      ],
      "text/plain": [
       "   Id                                             Sudoku  \\\n",
       "0   0  8...74...1.........7.5.9.4....65.4..73.....296...   \n",
       "1   1  .5.....7.9......6...21.75.8.4..69.3...8...4......   \n",
       "2   2  ...45.2..3.........8....4..7...94.3.9..5.2.76....   \n",
       "3   3  9......31.3...8.....5.7.9..3...4...8.916..54.4...   \n",
       "4   4  9.......2784.1.5.....4.....2.53.1.7...7...8......   \n",
       "\n",
       "                                            Solution       Level  People  \\\n",
       "0  8591742361648325973725698412916574837354186296...  Diabolical     254   \n",
       "1  8539461729175823644621375981458692376283754197...    Moderate     281   \n",
       "2  6974532183248617955819274637186945329435128762...  Diabolical     265   \n",
       "3  9274568316341982758153729643527496187916835424...       Tough     279   \n",
       "4  9615387427846125395234796182953814761479568236...    Moderate     301   \n",
       "\n",
       "   Average-Time Solved_single_position Solved_single_candidate  \\\n",
       "0            25             Not solved              Not solved   \n",
       "1            12             Not solved              Not solved   \n",
       "2            22             Not solved              Not solved   \n",
       "3            19             Not solved              Not solved   \n",
       "4            14             Not solved              Not solved   \n",
       "\n",
       "  Solved_naked_twins  Solved  \n",
       "0         Not solved  Solved  \n",
       "1         Not solved  Solved  \n",
       "2         Not solved  Solved  \n",
       "3         Not solved  Solved  \n",
       "4         Not solved  Solved  "
      ]
     },
     "execution_count": 20,
     "metadata": {},
     "output_type": "execute_result"
    }
   ],
   "source": [
    "df.head()"
   ]
  },
  {
   "cell_type": "code",
   "execution_count": 21,
   "metadata": {},
   "outputs": [
    {
     "name": "stdout",
     "output_type": "stream",
     "text": [
      "8 5 9 |1 7 4 |2 3 6 \n",
      "1 6 4 |8 3 2 |5 9 7 \n",
      "3 7 2 |5 6 9 |8 4 1 \n",
      "------+------+------\n",
      "2 9 1 |6 5 7 |4 8 3 \n",
      "7 3 5 |4 1 8 |6 2 9 \n",
      "6 4 8 |2 9 3 |1 7 5 \n",
      "------+------+------\n",
      "9 2 6 |3 8 1 |7 5 4 \n",
      "4 1 3 |7 2 5 |9 6 8 \n",
      "5 8 7 |9 4 6 |3 1 2 \n"
     ]
    }
   ],
   "source": [
    "display(solve(df['Sudoku'][0])[1])"
   ]
  },
  {
   "cell_type": "code",
   "execution_count": 22,
   "metadata": {},
   "outputs": [
    {
     "name": "stdout",
     "output_type": "stream",
     "text": [
      "8 5 3 |9 4 6 |1 7 2 \n",
      "9 1 7 |5 8 2 |3 6 4 \n",
      "4 6 2 |1 3 7 |5 9 8 \n",
      "------+------+------\n",
      "1 4 5 |8 6 9 |2 3 7 \n",
      "6 2 8 |3 7 5 |4 1 9 \n",
      "7 3 9 |4 2 1 |8 5 6 \n",
      "------+------+------\n",
      "3 7 1 |2 9 8 |6 4 5 \n",
      "2 9 4 |6 5 3 |7 8 1 \n",
      "5 8 6 |7 1 4 |9 2 3 \n"
     ]
    }
   ],
   "source": [
    "display(solve(df['Sudoku'][1])[1])"
   ]
  },
  {
   "cell_type": "code",
   "execution_count": 23,
   "metadata": {},
   "outputs": [
    {
     "data": {
      "text/plain": [
       "'.5.....7.9......6...21.75.8.4..69.3...8...4...3.42..5.3.12.86...9......1.8.....2.'"
      ]
     },
     "execution_count": 23,
     "metadata": {},
     "output_type": "execute_result"
    }
   ],
   "source": [
    "df['Sudoku'][1]"
   ]
  },
  {
   "cell_type": "code",
   "execution_count": 26,
   "metadata": {},
   "outputs": [],
   "source": [
    "test_wrong = \".55....7.9......6...21.75.8.4..69.3...8...4...3.42..5.3.12.86...9......1.8.....2.\""
   ]
  },
  {
   "cell_type": "code",
   "execution_count": 27,
   "metadata": {},
   "outputs": [
    {
     "ename": "AttributeError",
     "evalue": "'bool' object has no attribute 'keys'",
     "output_type": "error",
     "traceback": [
      "\u001b[0;31m---------------------------------------------------------------------------\u001b[0m",
      "\u001b[0;31mAttributeError\u001b[0m                            Traceback (most recent call last)",
      "\u001b[0;32m<ipython-input-27-c19fe51d6a8f>\u001b[0m in \u001b[0;36m<module>\u001b[0;34m()\u001b[0m\n\u001b[0;32m----> 1\u001b[0;31m \u001b[0msolve\u001b[0m\u001b[0;34m(\u001b[0m\u001b[0mtest_wrong\u001b[0m\u001b[0;34m)\u001b[0m\u001b[0;34m[\u001b[0m\u001b[0;36m1\u001b[0m\u001b[0;34m]\u001b[0m\u001b[0;34m\u001b[0m\u001b[0m\n\u001b[0m",
      "\u001b[0;32m~/SageMaker/omega2020-ds/Notebooks/main.py\u001b[0m in \u001b[0;36msolve\u001b[0;34m(grid)\u001b[0m\n\u001b[1;32m     16\u001b[0m     \u001b[0;31m#solving the sudoku\u001b[0m\u001b[0;34m\u001b[0m\u001b[0;34m\u001b[0m\u001b[0m\n\u001b[1;32m     17\u001b[0m     \u001b[0mvalues\u001b[0m \u001b[0;34m=\u001b[0m \u001b[0msearch\u001b[0m\u001b[0;34m(\u001b[0m\u001b[0mvalues\u001b[0m\u001b[0;34m)\u001b[0m\u001b[0;34m\u001b[0m\u001b[0m\n\u001b[0;32m---> 18\u001b[0;31m     \u001b[0mvalues_solved\u001b[0m \u001b[0;34m=\u001b[0m \u001b[0mlen\u001b[0m\u001b[0;34m(\u001b[0m\u001b[0;34m[\u001b[0m\u001b[0mbox\u001b[0m \u001b[0;32mfor\u001b[0m \u001b[0mbox\u001b[0m \u001b[0;32min\u001b[0m \u001b[0mvalues\u001b[0m\u001b[0;34m.\u001b[0m\u001b[0mkeys\u001b[0m\u001b[0;34m(\u001b[0m\u001b[0;34m)\u001b[0m \u001b[0;32mif\u001b[0m \u001b[0mlen\u001b[0m\u001b[0;34m(\u001b[0m\u001b[0mvalues\u001b[0m\u001b[0;34m[\u001b[0m\u001b[0mbox\u001b[0m\u001b[0;34m]\u001b[0m\u001b[0;34m)\u001b[0m \u001b[0;34m==\u001b[0m \u001b[0;36m1\u001b[0m\u001b[0;34m]\u001b[0m\u001b[0;34m)\u001b[0m\u001b[0;34m\u001b[0m\u001b[0m\n\u001b[0m\u001b[1;32m     19\u001b[0m     \u001b[0;32mif\u001b[0m \u001b[0mvalues_solved\u001b[0m \u001b[0;34m==\u001b[0m \u001b[0;36m81\u001b[0m\u001b[0;34m:\u001b[0m\u001b[0;34m\u001b[0m\u001b[0m\n\u001b[1;32m     20\u001b[0m         \u001b[0;32mreturn\u001b[0m \u001b[0;34m(\u001b[0m\u001b[0;34m\"Solved\"\u001b[0m\u001b[0;34m,\u001b[0m \u001b[0mvalues\u001b[0m\u001b[0;34m)\u001b[0m\u001b[0;34m\u001b[0m\u001b[0m\n",
      "\u001b[0;31mAttributeError\u001b[0m: 'bool' object has no attribute 'keys'"
     ]
    }
   ],
   "source": [
    "solve(test_wrong)[1]"
   ]
  },
  {
   "cell_type": "code",
   "execution_count": 29,
   "metadata": {
    "collapsed": true,
    "jupyter": {
     "outputs_hidden": true
    }
   },
   "outputs": [
    {
     "name": "stdout",
     "output_type": "stream",
     "text": [
      ".\n",
      "5\n",
      "5\n",
      ".\n",
      ".\n",
      ".\n",
      ".\n",
      "7\n",
      ".\n",
      "9\n",
      ".\n",
      ".\n",
      ".\n",
      ".\n",
      ".\n",
      ".\n",
      "6\n",
      ".\n",
      ".\n",
      ".\n",
      "2\n",
      "1\n",
      ".\n",
      "7\n",
      "5\n",
      ".\n",
      "8\n",
      ".\n",
      "4\n",
      ".\n",
      ".\n",
      "6\n",
      "9\n",
      ".\n",
      "3\n",
      ".\n",
      ".\n",
      ".\n",
      "8\n",
      ".\n",
      ".\n",
      ".\n",
      "4\n",
      ".\n",
      ".\n",
      ".\n",
      "3\n",
      ".\n",
      "4\n",
      "2\n",
      ".\n",
      ".\n",
      "5\n",
      ".\n",
      "3\n",
      ".\n",
      "1\n",
      "2\n",
      ".\n",
      "8\n",
      "6\n",
      ".\n",
      ".\n",
      ".\n",
      "9\n",
      ".\n",
      ".\n",
      ".\n",
      ".\n",
      ".\n",
      ".\n",
      "1\n",
      ".\n",
      "8\n",
      ".\n",
      ".\n",
      ".\n",
      ".\n",
      ".\n",
      "2\n",
      ".\n"
     ]
    }
   ],
   "source": [
    "rows = 'ABCDEFGHI'\n",
    "cols = '123456789'\n",
    "\n",
    "boxes = [s+t for s in rows for t in cols]\n",
    "\n",
    "values = dict(zip(boxes, [\".\" if element == \".\" else element for element in test_wrong]))\n",
    "for a in values.values():\n",
    "    print(a)"
   ]
  },
  {
   "cell_type": "code",
   "execution_count": 99,
   "metadata": {},
   "outputs": [],
   "source": [
    "# def checker(grid):\n",
    "    \n",
    "#     rows = 'ABCDEFGHI'\n",
    "#     cols = '123456789'\n",
    "\n",
    "#     boxes = [s+t for s in rows for t in cols]\n",
    "#     values_grid = dict(zip(boxes, [\".\" if element == \".\" else element for element in grid]))\n",
    "#     row_units = [[s+t for s in r for t in cols] for r in rows]\n",
    "#     column_units = [[s+t for s in rows for t in c] for c in cols]\n",
    "#     square_units = [[s+t for s in rs for t in cs]for rs in ('ABC','DEF','GHI') for cs in ('123','456','789')]\n",
    "#     unitlist = row_units + column_units + square_units\n",
    "#     units = dict((s, [u for u in unitlist if s in u]) for s in boxes)\n",
    "#     peers = dict((s, set(sum(units[s],[]))-set([s])) for s in boxes)\n",
    "    \n",
    "# #     print(values_grid.keys())\n",
    "# #     print('hiiiiiiiii',row_units)\n",
    "#     if 'A1' in row_units:\n",
    "#         print(row_units)\n",
    "\n",
    "# #     for a in values_grid.values():\n",
    "# #         if a == '.':\n",
    "# #             print('no')\n",
    "# #         else:\n",
    "# #             if a in values_grid[a]:\n",
    "# #                 print('yes')\n"
   ]
  },
  {
   "cell_type": "code",
   "execution_count": 15,
   "metadata": {},
   "outputs": [],
   "source": [
    "def split(element): \n",
    "    return [char for char in element]  \n",
    "\n",
    "def transform_matrix(element):\n",
    "  return np.reshape(split(element), (-1, 9))"
   ]
  },
  {
   "cell_type": "code",
   "execution_count": 15,
   "metadata": {},
   "outputs": [
    {
     "data": {
      "text/plain": [
       "array([['.', '4', '8', '.', '.', '.', '.', '7', '.'],\n",
       "       ['.', '.', '.', '.', '.', '.', '.', '.', '.'],\n",
       "       ['.', '7', '3', '2', '.', '6', '5', '1', '.'],\n",
       "       ['7', '.', '.', '4', '.', '5', '.', '.', '.'],\n",
       "       ['3', '.', '.', '.', '7', '.', '.', '.', '8'],\n",
       "       ['.', '.', '.', '8', '.', '3', '.', '.', '5'],\n",
       "       ['.', '5', '4', '1', '.', '7', '3', '6', '.'],\n",
       "       ['.', '.', '.', '.', '.', '.', '.', '.', '.'],\n",
       "       ['.', '1', '.', '.', '.', '.', '2', '5', '.']], dtype='<U1')"
      ]
     },
     "execution_count": 15,
     "metadata": {},
     "output_type": "execute_result"
    }
   ],
   "source": [
    "transform_matrix(a)"
   ]
  },
  {
   "cell_type": "code",
   "execution_count": null,
   "metadata": {},
   "outputs": [],
   "source": []
  }
 ],
 "metadata": {
  "kernelspec": {
   "display_name": "conda_tensorflow_p36",
   "language": "python",
   "name": "conda_tensorflow_p36"
  },
  "language_info": {
   "codemirror_mode": {
    "name": "ipython",
    "version": 3
   },
   "file_extension": ".py",
   "mimetype": "text/x-python",
   "name": "python",
   "nbconvert_exporter": "python",
   "pygments_lexer": "ipython3",
   "version": "3.6.5"
  }
 },
 "nbformat": 4,
 "nbformat_minor": 4
}
