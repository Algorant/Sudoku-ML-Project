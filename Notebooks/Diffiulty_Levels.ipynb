{
 "cells": [
  {
   "cell_type": "code",
   "execution_count": 22,
   "metadata": {},
   "outputs": [],
   "source": [
    "from ai import Sudoku\n",
    "import pandas as pd\n",
    "import numpy as np"
   ]
  },
  {
   "cell_type": "code",
   "execution_count": 13,
   "metadata": {},
   "outputs": [
    {
     "data": {
      "text/html": [
       "<div>\n",
       "<style scoped>\n",
       "    .dataframe tbody tr th:only-of-type {\n",
       "        vertical-align: middle;\n",
       "    }\n",
       "\n",
       "    .dataframe tbody tr th {\n",
       "        vertical-align: top;\n",
       "    }\n",
       "\n",
       "    .dataframe thead th {\n",
       "        text-align: right;\n",
       "    }\n",
       "</style>\n",
       "<table border=\"1\" class=\"dataframe\">\n",
       "  <thead>\n",
       "    <tr style=\"text-align: right;\">\n",
       "      <th></th>\n",
       "      <th>Id</th>\n",
       "      <th>Sudoku</th>\n",
       "      <th>Solution</th>\n",
       "      <th>Level</th>\n",
       "      <th>People</th>\n",
       "      <th>Average-Time</th>\n",
       "    </tr>\n",
       "  </thead>\n",
       "  <tbody>\n",
       "    <tr>\n",
       "      <th>0</th>\n",
       "      <td>0</td>\n",
       "      <td>8...74...1.........7.5.9.4....65.4..73.....296...</td>\n",
       "      <td>8591742361648325973725698412916574837354186296...</td>\n",
       "      <td>Diabolical</td>\n",
       "      <td>254</td>\n",
       "      <td>25</td>\n",
       "    </tr>\n",
       "    <tr>\n",
       "      <th>1</th>\n",
       "      <td>1</td>\n",
       "      <td>.5.....7.9......6...21.75.8.4..69.3...8...4......</td>\n",
       "      <td>8539461729175823644621375981458692376283754197...</td>\n",
       "      <td>Moderate</td>\n",
       "      <td>281</td>\n",
       "      <td>12</td>\n",
       "    </tr>\n",
       "    <tr>\n",
       "      <th>2</th>\n",
       "      <td>2</td>\n",
       "      <td>...45.2..3.........8....4..7...94.3.9..5.2.76....</td>\n",
       "      <td>6974532183248617955819274637186945329435128762...</td>\n",
       "      <td>Diabolical</td>\n",
       "      <td>265</td>\n",
       "      <td>22</td>\n",
       "    </tr>\n",
       "    <tr>\n",
       "      <th>3</th>\n",
       "      <td>3</td>\n",
       "      <td>9......31.3...8.....5.7.9..3...4...8.916..54.4...</td>\n",
       "      <td>9274568316341982758153729643527496187916835424...</td>\n",
       "      <td>Tough</td>\n",
       "      <td>279</td>\n",
       "      <td>19</td>\n",
       "    </tr>\n",
       "    <tr>\n",
       "      <th>4</th>\n",
       "      <td>4</td>\n",
       "      <td>9.......2784.1.5.....4.....2.53.1.7...7...8......</td>\n",
       "      <td>9615387427846125395234796182953814761479568236...</td>\n",
       "      <td>Moderate</td>\n",
       "      <td>301</td>\n",
       "      <td>14</td>\n",
       "    </tr>\n",
       "  </tbody>\n",
       "</table>\n",
       "</div>"
      ],
      "text/plain": [
       "   Id                                             Sudoku  \\\n",
       "0   0  8...74...1.........7.5.9.4....65.4..73.....296...   \n",
       "1   1  .5.....7.9......6...21.75.8.4..69.3...8...4......   \n",
       "2   2  ...45.2..3.........8....4..7...94.3.9..5.2.76....   \n",
       "3   3  9......31.3...8.....5.7.9..3...4...8.916..54.4...   \n",
       "4   4  9.......2784.1.5.....4.....2.53.1.7...7...8......   \n",
       "\n",
       "                                            Solution       Level  People  \\\n",
       "0  8591742361648325973725698412916574837354186296...  Diabolical     254   \n",
       "1  8539461729175823644621375981458692376283754197...    Moderate     281   \n",
       "2  6974532183248617955819274637186945329435128762...  Diabolical     265   \n",
       "3  9274568316341982758153729643527496187916835424...       Tough     279   \n",
       "4  9615387427846125395234796182953814761479568236...    Moderate     301   \n",
       "\n",
       "   Average-Time  \n",
       "0            25  \n",
       "1            12  \n",
       "2            22  \n",
       "3            19  \n",
       "4            14  "
      ]
     },
     "execution_count": 13,
     "metadata": {},
     "output_type": "execute_result"
    }
   ],
   "source": [
    "df = pd.read_csv('data/dataset.csv').drop('Unnamed: 0', axis=1)\n",
    "df.head()"
   ]
  },
  {
   "cell_type": "code",
   "execution_count": 55,
   "metadata": {},
   "outputs": [],
   "source": [
    "df['Solved_single_position'] = df['Sudoku'].apply(lambda x: Sudoku(x, 'single_position').solve()[0])\n",
    "df['Solved_single candidate'] = df['Sudoku'].apply(lambda x: Sudoku(x, 'single_candidate').solve()[0])"
   ]
  },
  {
   "cell_type": "code",
   "execution_count": 56,
   "metadata": {},
   "outputs": [
    {
     "data": {
      "text/html": [
       "<div>\n",
       "<style scoped>\n",
       "    .dataframe tbody tr th:only-of-type {\n",
       "        vertical-align: middle;\n",
       "    }\n",
       "\n",
       "    .dataframe tbody tr th {\n",
       "        vertical-align: top;\n",
       "    }\n",
       "\n",
       "    .dataframe thead th {\n",
       "        text-align: right;\n",
       "    }\n",
       "</style>\n",
       "<table border=\"1\" class=\"dataframe\">\n",
       "  <thead>\n",
       "    <tr style=\"text-align: right;\">\n",
       "      <th></th>\n",
       "      <th>Id</th>\n",
       "      <th>Sudoku</th>\n",
       "      <th>Solution</th>\n",
       "      <th>Level</th>\n",
       "      <th>People</th>\n",
       "      <th>Average-Time</th>\n",
       "      <th>Solved</th>\n",
       "      <th>Solved_single candidate</th>\n",
       "      <th>Solved_single_position</th>\n",
       "    </tr>\n",
       "  </thead>\n",
       "  <tbody>\n",
       "    <tr>\n",
       "      <th>0</th>\n",
       "      <td>0</td>\n",
       "      <td>8...74...1.........7.5.9.4....65.4..73.....296...</td>\n",
       "      <td>8591742361648325973725698412916574837354186296...</td>\n",
       "      <td>Diabolical</td>\n",
       "      <td>254</td>\n",
       "      <td>25</td>\n",
       "      <td>(Not solved, {'A1': '8', 'A2': '569', 'A3': '2...</td>\n",
       "      <td>Not solved</td>\n",
       "      <td>Not solved</td>\n",
       "    </tr>\n",
       "    <tr>\n",
       "      <th>1</th>\n",
       "      <td>1</td>\n",
       "      <td>.5.....7.9......6...21.75.8.4..69.3...8...4......</td>\n",
       "      <td>8539461729175823644621375981458692376283754197...</td>\n",
       "      <td>Moderate</td>\n",
       "      <td>281</td>\n",
       "      <td>12</td>\n",
       "      <td>(Not solved, {'A1': '8', 'A2': '5', 'A3': '3',...</td>\n",
       "      <td>Not solved</td>\n",
       "      <td>Not solved</td>\n",
       "    </tr>\n",
       "    <tr>\n",
       "      <th>2</th>\n",
       "      <td>2</td>\n",
       "      <td>...45.2..3.........8....4..7...94.3.9..5.2.76....</td>\n",
       "      <td>6974532183248617955819274637186945329435128762...</td>\n",
       "      <td>Diabolical</td>\n",
       "      <td>265</td>\n",
       "      <td>22</td>\n",
       "      <td>(Not solved, {'A1': '16', 'A2': '79', 'A3': '1...</td>\n",
       "      <td>Not solved</td>\n",
       "      <td>Not solved</td>\n",
       "    </tr>\n",
       "    <tr>\n",
       "      <th>3</th>\n",
       "      <td>3</td>\n",
       "      <td>9......31.3...8.....5.7.9..3...4...8.916..54.4...</td>\n",
       "      <td>9274568316341982758153729643527496187916835424...</td>\n",
       "      <td>Tough</td>\n",
       "      <td>279</td>\n",
       "      <td>19</td>\n",
       "      <td>(Not solved, {'A1': '9', 'A2': '2678', 'A3': '...</td>\n",
       "      <td>Not solved</td>\n",
       "      <td>Not solved</td>\n",
       "    </tr>\n",
       "    <tr>\n",
       "      <th>4</th>\n",
       "      <td>4</td>\n",
       "      <td>9.......2784.1.5.....4.....2.53.1.7...7...8......</td>\n",
       "      <td>9615387427846125395234796182953814761479568236...</td>\n",
       "      <td>Moderate</td>\n",
       "      <td>301</td>\n",
       "      <td>14</td>\n",
       "      <td>(Not solved, {'A1': '9', 'A2': '156', 'A3': '1...</td>\n",
       "      <td>Not solved</td>\n",
       "      <td>Not solved</td>\n",
       "    </tr>\n",
       "  </tbody>\n",
       "</table>\n",
       "</div>"
      ],
      "text/plain": [
       "   Id                                             Sudoku  \\\n",
       "0   0  8...74...1.........7.5.9.4....65.4..73.....296...   \n",
       "1   1  .5.....7.9......6...21.75.8.4..69.3...8...4......   \n",
       "2   2  ...45.2..3.........8....4..7...94.3.9..5.2.76....   \n",
       "3   3  9......31.3...8.....5.7.9..3...4...8.916..54.4...   \n",
       "4   4  9.......2784.1.5.....4.....2.53.1.7...7...8......   \n",
       "\n",
       "                                            Solution       Level  People  \\\n",
       "0  8591742361648325973725698412916574837354186296...  Diabolical     254   \n",
       "1  8539461729175823644621375981458692376283754197...    Moderate     281   \n",
       "2  6974532183248617955819274637186945329435128762...  Diabolical     265   \n",
       "3  9274568316341982758153729643527496187916835424...       Tough     279   \n",
       "4  9615387427846125395234796182953814761479568236...    Moderate     301   \n",
       "\n",
       "   Average-Time                                             Solved  \\\n",
       "0            25  (Not solved, {'A1': '8', 'A2': '569', 'A3': '2...   \n",
       "1            12  (Not solved, {'A1': '8', 'A2': '5', 'A3': '3',...   \n",
       "2            22  (Not solved, {'A1': '16', 'A2': '79', 'A3': '1...   \n",
       "3            19  (Not solved, {'A1': '9', 'A2': '2678', 'A3': '...   \n",
       "4            14  (Not solved, {'A1': '9', 'A2': '156', 'A3': '1...   \n",
       "\n",
       "  Solved_single candidate Solved_single_position  \n",
       "0              Not solved             Not solved  \n",
       "1              Not solved             Not solved  \n",
       "2              Not solved             Not solved  \n",
       "3              Not solved             Not solved  \n",
       "4              Not solved             Not solved  "
      ]
     },
     "execution_count": 56,
     "metadata": {},
     "output_type": "execute_result"
    }
   ],
   "source": [
    "df.head()"
   ]
  },
  {
   "cell_type": "code",
   "execution_count": 59,
   "metadata": {},
   "outputs": [
    {
     "data": {
      "text/plain": [
       "Not solved    4813\n",
       "Solved         216\n",
       "Name: Solved_single_position, dtype: int64"
      ]
     },
     "execution_count": 59,
     "metadata": {},
     "output_type": "execute_result"
    }
   ],
   "source": [
    "df['Solved_single_position'].value_counts()"
   ]
  },
  {
   "cell_type": "code",
   "execution_count": 60,
   "metadata": {},
   "outputs": [
    {
     "data": {
      "text/plain": [
       "Not solved    4813\n",
       "Solved         216\n",
       "Name: Solved_single candidate, dtype: int64"
      ]
     },
     "execution_count": 60,
     "metadata": {},
     "output_type": "execute_result"
    }
   ],
   "source": [
    "df['Solved_single candidate'].value_counts()"
   ]
  },
  {
   "cell_type": "code",
   "execution_count": 34,
   "metadata": {},
   "outputs": [],
   "source": []
  },
  {
   "cell_type": "code",
   "execution_count": 48,
   "metadata": {},
   "outputs": [],
   "source": [
    "solved2 = df[df['Solved_single candidate']=='Solved']"
   ]
  },
  {
   "cell_type": "code",
   "execution_count": 49,
   "metadata": {},
   "outputs": [
    {
     "data": {
      "text/plain": [
       "Gentle      214\n",
       "Moderate      2\n",
       "Name: Level, dtype: int64"
      ]
     },
     "execution_count": 49,
     "metadata": {},
     "output_type": "execute_result"
    }
   ],
   "source": [
    "solved2['Level'].value_counts()"
   ]
  },
  {
   "cell_type": "code",
   "execution_count": 52,
   "metadata": {},
   "outputs": [
    {
     "data": {
      "text/plain": [
       "Id                         718\n",
       "Sudoku                     718\n",
       "Solution                   718\n",
       "Level                      718\n",
       "People                     718\n",
       "Average-Time               718\n",
       "Solved                     718\n",
       "Solved_single candidate    718\n",
       "dtype: int64"
      ]
     },
     "execution_count": 52,
     "metadata": {},
     "output_type": "execute_result"
    }
   ],
   "source": [
    "df[df['Level']=='Gentle'].count()"
   ]
  },
  {
   "cell_type": "code",
   "execution_count": 54,
   "metadata": {},
   "outputs": [
    {
     "data": {
      "text/plain": [
       "Moderate      2156\n",
       "Diabolical    1436\n",
       "Tough          719\n",
       "Gentle         718\n",
       "Name: Level, dtype: int64"
      ]
     },
     "execution_count": 54,
     "metadata": {},
     "output_type": "execute_result"
    }
   ],
   "source": [
    "df['Level'].value_counts()"
   ]
  },
  {
   "cell_type": "code",
   "execution_count": null,
   "metadata": {},
   "outputs": [],
   "source": []
  }
 ],
 "metadata": {
  "kernelspec": {
   "display_name": "conda_tensorflow_p36",
   "language": "python",
   "name": "conda_tensorflow_p36"
  },
  "language_info": {
   "codemirror_mode": {
    "name": "ipython",
    "version": 3
   },
   "file_extension": ".py",
   "mimetype": "text/x-python",
   "name": "python",
   "nbconvert_exporter": "python",
   "pygments_lexer": "ipython3",
   "version": "3.6.5"
  }
 },
 "nbformat": 4,
 "nbformat_minor": 4
}
