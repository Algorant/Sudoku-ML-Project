{
 "cells": [
  {
   "cell_type": "code",
   "execution_count": 1,
   "metadata": {},
   "outputs": [],
   "source": [
    "from main import *\n",
    "from ai import *\n",
    "import pandas as pd\n",
    "import numpy as np"
   ]
  },
  {
   "cell_type": "markdown",
   "metadata": {},
   "source": [
    "#### Test Solver"
   ]
  },
  {
   "cell_type": "code",
   "execution_count": 2,
   "metadata": {},
   "outputs": [
    {
     "data": {
      "text/html": [
       "<div>\n",
       "<style scoped>\n",
       "    .dataframe tbody tr th:only-of-type {\n",
       "        vertical-align: middle;\n",
       "    }\n",
       "\n",
       "    .dataframe tbody tr th {\n",
       "        vertical-align: top;\n",
       "    }\n",
       "\n",
       "    .dataframe thead th {\n",
       "        text-align: right;\n",
       "    }\n",
       "</style>\n",
       "<table border=\"1\" class=\"dataframe\">\n",
       "  <thead>\n",
       "    <tr style=\"text-align: right;\">\n",
       "      <th></th>\n",
       "      <th>Id</th>\n",
       "      <th>Sudoku</th>\n",
       "      <th>Solution</th>\n",
       "      <th>Level</th>\n",
       "      <th>People</th>\n",
       "      <th>Average-Time</th>\n",
       "    </tr>\n",
       "  </thead>\n",
       "  <tbody>\n",
       "    <tr>\n",
       "      <th>0</th>\n",
       "      <td>0</td>\n",
       "      <td>8...74...1.........7.5.9.4....65.4..73.....296...</td>\n",
       "      <td>8591742361648325973725698412916574837354186296...</td>\n",
       "      <td>Diabolical</td>\n",
       "      <td>254</td>\n",
       "      <td>25</td>\n",
       "    </tr>\n",
       "    <tr>\n",
       "      <th>1</th>\n",
       "      <td>1</td>\n",
       "      <td>.5.....7.9......6...21.75.8.4..69.3...8...4......</td>\n",
       "      <td>8539461729175823644621375981458692376283754197...</td>\n",
       "      <td>Moderate</td>\n",
       "      <td>281</td>\n",
       "      <td>12</td>\n",
       "    </tr>\n",
       "    <tr>\n",
       "      <th>2</th>\n",
       "      <td>2</td>\n",
       "      <td>...45.2..3.........8....4..7...94.3.9..5.2.76....</td>\n",
       "      <td>6974532183248617955819274637186945329435128762...</td>\n",
       "      <td>Diabolical</td>\n",
       "      <td>265</td>\n",
       "      <td>22</td>\n",
       "    </tr>\n",
       "    <tr>\n",
       "      <th>3</th>\n",
       "      <td>3</td>\n",
       "      <td>9......31.3...8.....5.7.9..3...4...8.916..54.4...</td>\n",
       "      <td>9274568316341982758153729643527496187916835424...</td>\n",
       "      <td>Tough</td>\n",
       "      <td>279</td>\n",
       "      <td>19</td>\n",
       "    </tr>\n",
       "    <tr>\n",
       "      <th>4</th>\n",
       "      <td>4</td>\n",
       "      <td>9.......2784.1.5.....4.....2.53.1.7...7...8......</td>\n",
       "      <td>9615387427846125395234796182953814761479568236...</td>\n",
       "      <td>Moderate</td>\n",
       "      <td>301</td>\n",
       "      <td>14</td>\n",
       "    </tr>\n",
       "  </tbody>\n",
       "</table>\n",
       "</div>"
      ],
      "text/plain": [
       "   Id                                             Sudoku  \\\n",
       "0   0  8...74...1.........7.5.9.4....65.4..73.....296...   \n",
       "1   1  .5.....7.9......6...21.75.8.4..69.3...8...4......   \n",
       "2   2  ...45.2..3.........8....4..7...94.3.9..5.2.76....   \n",
       "3   3  9......31.3...8.....5.7.9..3...4...8.916..54.4...   \n",
       "4   4  9.......2784.1.5.....4.....2.53.1.7...7...8......   \n",
       "\n",
       "                                            Solution       Level  People  \\\n",
       "0  8591742361648325973725698412916574837354186296...  Diabolical     254   \n",
       "1  8539461729175823644621375981458692376283754197...    Moderate     281   \n",
       "2  6974532183248617955819274637186945329435128762...  Diabolical     265   \n",
       "3  9274568316341982758153729643527496187916835424...       Tough     279   \n",
       "4  9615387427846125395234796182953814761479568236...    Moderate     301   \n",
       "\n",
       "   Average-Time  \n",
       "0            25  \n",
       "1            12  \n",
       "2            22  \n",
       "3            19  \n",
       "4            14  "
      ]
     },
     "execution_count": 2,
     "metadata": {},
     "output_type": "execute_result"
    }
   ],
   "source": [
    "df = pd.read_csv('../Omega2020/data/dataset.csv').drop('Unnamed: 0', axis=1)\n",
    "df.head()"
   ]
  },
  {
   "cell_type": "code",
   "execution_count": 3,
   "metadata": {},
   "outputs": [
    {
     "data": {
      "text/plain": [
       "'8...74...1.........7.5.9.4....65.4..73.....296.8.......2.3.1.5.........8...9....2'"
      ]
     },
     "execution_count": 3,
     "metadata": {},
     "output_type": "execute_result"
    }
   ],
   "source": [
    "df['Sudoku'][0]"
   ]
  },
  {
   "cell_type": "code",
   "execution_count": 4,
   "metadata": {},
   "outputs": [
    {
     "data": {
      "text/plain": [
       "(3,\n",
       " '859174236164832597372569841291657483735418629648293175926381754413725968587946312',\n",
       " {'A1': '8',\n",
       "  'A2': '5',\n",
       "  'A3': '9',\n",
       "  'A4': '1',\n",
       "  'A5': '7',\n",
       "  'A6': '4',\n",
       "  'A7': '2',\n",
       "  'A8': '3',\n",
       "  'A9': '6',\n",
       "  'B1': '1',\n",
       "  'B2': '6',\n",
       "  'B3': '4',\n",
       "  'B4': '8',\n",
       "  'B5': '3',\n",
       "  'B6': '2',\n",
       "  'B7': '5',\n",
       "  'B8': '9',\n",
       "  'B9': '7',\n",
       "  'C1': '3',\n",
       "  'C2': '7',\n",
       "  'C3': '2',\n",
       "  'C4': '5',\n",
       "  'C5': '6',\n",
       "  'C6': '9',\n",
       "  'C7': '8',\n",
       "  'C8': '4',\n",
       "  'C9': '1',\n",
       "  'D1': '2',\n",
       "  'D2': '9',\n",
       "  'D3': '1',\n",
       "  'D4': '6',\n",
       "  'D5': '5',\n",
       "  'D6': '7',\n",
       "  'D7': '4',\n",
       "  'D8': '8',\n",
       "  'D9': '3',\n",
       "  'E1': '7',\n",
       "  'E2': '3',\n",
       "  'E3': '5',\n",
       "  'E4': '4',\n",
       "  'E5': '1',\n",
       "  'E6': '8',\n",
       "  'E7': '6',\n",
       "  'E8': '2',\n",
       "  'E9': '9',\n",
       "  'F1': '6',\n",
       "  'F2': '4',\n",
       "  'F3': '8',\n",
       "  'F4': '2',\n",
       "  'F5': '9',\n",
       "  'F6': '3',\n",
       "  'F7': '1',\n",
       "  'F8': '7',\n",
       "  'F9': '5',\n",
       "  'G1': '9',\n",
       "  'G2': '2',\n",
       "  'G3': '6',\n",
       "  'G4': '3',\n",
       "  'G5': '8',\n",
       "  'G6': '1',\n",
       "  'G7': '7',\n",
       "  'G8': '5',\n",
       "  'G9': '4',\n",
       "  'H1': '4',\n",
       "  'H2': '1',\n",
       "  'H3': '3',\n",
       "  'H4': '7',\n",
       "  'H5': '2',\n",
       "  'H6': '5',\n",
       "  'H7': '9',\n",
       "  'H8': '6',\n",
       "  'H9': '8',\n",
       "  'I1': '5',\n",
       "  'I2': '8',\n",
       "  'I3': '7',\n",
       "  'I4': '9',\n",
       "  'I5': '4',\n",
       "  'I6': '6',\n",
       "  'I7': '3',\n",
       "  'I8': '1',\n",
       "  'I9': '2'},\n",
       " {'A1': '8',\n",
       "  'A2': '.',\n",
       "  'A3': '.',\n",
       "  'A4': '.',\n",
       "  'A5': '7',\n",
       "  'A6': '4',\n",
       "  'A7': '.',\n",
       "  'A8': '.',\n",
       "  'A9': '.',\n",
       "  'B1': '1',\n",
       "  'B2': '.',\n",
       "  'B3': '.',\n",
       "  'B4': '.',\n",
       "  'B5': '.',\n",
       "  'B6': '.',\n",
       "  'B7': '.',\n",
       "  'B8': '.',\n",
       "  'B9': '.',\n",
       "  'C1': '.',\n",
       "  'C2': '7',\n",
       "  'C3': '.',\n",
       "  'C4': '5',\n",
       "  'C5': '.',\n",
       "  'C6': '9',\n",
       "  'C7': '.',\n",
       "  'C8': '4',\n",
       "  'C9': '.',\n",
       "  'D1': '.',\n",
       "  'D2': '.',\n",
       "  'D3': '.',\n",
       "  'D4': '6',\n",
       "  'D5': '5',\n",
       "  'D6': '.',\n",
       "  'D7': '4',\n",
       "  'D8': '.',\n",
       "  'D9': '.',\n",
       "  'E1': '7',\n",
       "  'E2': '3',\n",
       "  'E3': '.',\n",
       "  'E4': '.',\n",
       "  'E5': '.',\n",
       "  'E6': '.',\n",
       "  'E7': '.',\n",
       "  'E8': '2',\n",
       "  'E9': '9',\n",
       "  'F1': '6',\n",
       "  'F2': '.',\n",
       "  'F3': '8',\n",
       "  'F4': '.',\n",
       "  'F5': '.',\n",
       "  'F6': '.',\n",
       "  'F7': '.',\n",
       "  'F8': '.',\n",
       "  'F9': '.',\n",
       "  'G1': '.',\n",
       "  'G2': '2',\n",
       "  'G3': '.',\n",
       "  'G4': '3',\n",
       "  'G5': '.',\n",
       "  'G6': '1',\n",
       "  'G7': '.',\n",
       "  'G8': '5',\n",
       "  'G9': '.',\n",
       "  'H1': '.',\n",
       "  'H2': '.',\n",
       "  'H3': '.',\n",
       "  'H4': '.',\n",
       "  'H5': '.',\n",
       "  'H6': '.',\n",
       "  'H7': '.',\n",
       "  'H8': '.',\n",
       "  'H9': '8',\n",
       "  'I1': '.',\n",
       "  'I2': '.',\n",
       "  'I3': '.',\n",
       "  'I4': '9',\n",
       "  'I5': '.',\n",
       "  'I6': '.',\n",
       "  'I7': '.',\n",
       "  'I8': '.',\n",
       "  'I9': '2'})"
      ]
     },
     "execution_count": 4,
     "metadata": {},
     "output_type": "execute_result"
    }
   ],
   "source": [
    "solve(df['Sudoku'][0])"
   ]
  },
  {
   "cell_type": "code",
   "execution_count": 14,
   "metadata": {},
   "outputs": [],
   "source": [
    "import json\n",
    "a =solve(df['Sudoku'][0])[2]"
   ]
  },
  {
   "cell_type": "code",
   "execution_count": 15,
   "metadata": {},
   "outputs": [
    {
     "data": {
      "text/plain": [
       "'859174236164832597372569841291657483735418629648293175926381754413725968587946312'"
      ]
     },
     "execution_count": 15,
     "metadata": {},
     "output_type": "execute_result"
    }
   ],
   "source": [
    "\"\".join([value if len(value) == 1 else \".\" for value in a.values()])"
   ]
  },
  {
   "cell_type": "code",
   "execution_count": 11,
   "metadata": {},
   "outputs": [
    {
     "name": "stdout",
     "output_type": "stream",
     "text": [
      "8 5 9 |1 7 4 |2 3 6 \n",
      "1 6 4 |8 3 2 |5 9 7 \n",
      "3 7 2 |5 6 9 |8 4 1 \n",
      "------+------+------\n",
      "2 9 1 |6 5 7 |4 8 3 \n",
      "7 3 5 |4 1 8 |6 2 9 \n",
      "6 4 8 |2 9 3 |1 7 5 \n",
      "------+------+------\n",
      "9 2 6 |3 8 1 |7 5 4 \n",
      "4 1 3 |7 2 5 |9 6 8 \n",
      "5 8 7 |9 4 6 |3 1 2 \n"
     ]
    }
   ],
   "source": [
    "display(a)"
   ]
  },
  {
   "cell_type": "code",
   "execution_count": 17,
   "metadata": {},
   "outputs": [],
   "source": [
    "test1 = '88..74...1.........7.5.9.4....65.4..73.....296.8.......2.3.1.5.........8...9....2'\n",
    "test2 = '.5.....7.9......6...21.75.8.4..69.3...8...4...3.42..5.3.12.86...9......1.8.....2.'\n",
    "test3 = '8...74...1.........7.5.9.4....65.4..73.....296.8.......2.3.1.5.........8...9....2'\n",
    "test_triple = '...29438....17864.48.3561....48375.1...4157..5..629834953782416126543978.4.961253'\n",
    "test_triple2='4..5..37.32......4.........8....2.3.21.84...........9..7..9.1..94.651.......7....'\n",
    "test_triple3='39....7........65.5.7...349.4938.5.66.1.54983853...4..9..8..134..294.8654.....297'\n",
    "test_rob='...2....58....9..4...18..2.3.....5.95......7..6.....4.........6..1.3498.92.85...3'\n",
    "names_tests= ['test2','test3','test_triple','test_triple2','test_triple3','test_rob']\n",
    "tests= [test2,test3,test_triple,test_triple2,test_triple3,test_rob]\n",
    "# tests= [test2,test3,test_triple,test_triple3,test_rob]"
   ]
  },
  {
   "cell_type": "code",
   "execution_count": 19,
   "metadata": {},
   "outputs": [],
   "source": [
    "# solve_technique(test2, 'single_candidate')"
   ]
  },
  {
   "cell_type": "code",
   "execution_count": 59,
   "metadata": {},
   "outputs": [],
   "source": [
    "def transf(values):\n",
    "    return(\"\".join([value if len(value) == 1 else \".\" for value in values.values()]))"
   ]
  },
  {
   "cell_type": "code",
   "execution_count": 73,
   "metadata": {},
   "outputs": [],
   "source": [
    "def reduce2(values):\n",
    "    solved_values = [box for box in values.keys() if len(values[box]) == 1]\n",
    "    single = 0\n",
    "    candidate = 0\n",
    "    twins = 0\n",
    "    triples = 0\n",
    "    stalled = False\n",
    "    while not stalled:\n",
    "        solved_values_before = len([box for box in values.keys() if len(values[box]) == 1])\n",
    "        valuesb = transf(values.copy())\n",
    "        values = single_position(values)\n",
    "        if valuesb != transf(values):\n",
    "            single += 1\n",
    "            valuesb = transf(values.copy())\n",
    "        values = single_candidate(values)\n",
    "        if transf(values)!=valuesb:\n",
    "            candidate += 1\n",
    "            valuesb = transf(values.copy())\n",
    "        values = naked_twins(values)\n",
    "        if transf(values)!=valuesb:\n",
    "            twins += 1\n",
    "            valuesb = transf(values.copy())\n",
    "        values = naked_triple(values)\n",
    "        if transf(values)!=valuesb:\n",
    "            triples += 1\n",
    "            valuesb = transf(values.copy())\n",
    "        solved_values_after = len([box for box in values.keys() if len(values[box]) == 1])\n",
    "        stalled = solved_values_before == solved_values_after\n",
    "        if len([box for box in values.keys() if len(values[box]) == 0]):\n",
    "            answer=False\n",
    "    return(values,single, candidate, twins, triples)"
   ]
  },
  {
   "cell_type": "code",
   "execution_count": 78,
   "metadata": {},
   "outputs": [],
   "source": [
    "values_test = dict(zip(boxes, [\"123456789\" if element == \".\" else element for element in test_rob]))\n",
    "# reduce2(values_test)"
   ]
  },
  {
   "cell_type": "code",
   "execution_count": 79,
   "metadata": {},
   "outputs": [],
   "source": [
    "def search2(values):\n",
    "    \"Using depth-first search and propagation, try all possible values.\"\n",
    "    # First, reduce the puzzle using the previous function\n",
    "    values, a, b, c, d = reduce2(values)\n",
    "#     single = single.append(a)\n",
    "#     candidate = candidate.append(b)\n",
    "#     twins = twins.append(c)\n",
    "#     triples = triples.append(d)\n",
    "    if values is False:\n",
    "        return False ## Failed earlier\n",
    "    if all(len(values[s]) == 1 for s in boxes): \n",
    "        return (values,a, b, c, d) ## Solved!\n",
    "    n,s = min((len(values[s]), s) for s in boxes if len(values[s]) > 1)\n",
    "    for value in values[s]:\n",
    "        new_sudoku = values.copy()\n",
    "        new_sudoku[s] = value\n",
    "        attempt = search(new_sudoku)\n",
    "        if attempt:\n",
    "            return attempt"
   ]
  },
  {
   "cell_type": "code",
   "execution_count": 80,
   "metadata": {},
   "outputs": [],
   "source": [
    "# reduce2(values_test)"
   ]
  },
  {
   "cell_type": "code",
   "execution_count": 81,
   "metadata": {},
   "outputs": [],
   "source": [
    "search2(values_test)"
   ]
  },
  {
   "cell_type": "code",
   "execution_count": null,
   "metadata": {},
   "outputs": [],
   "source": []
  }
 ],
 "metadata": {
  "kernelspec": {
   "display_name": "conda_python3",
   "language": "python",
   "name": "conda_python3"
  },
  "language_info": {
   "codemirror_mode": {
    "name": "ipython",
    "version": 3
   },
   "file_extension": ".py",
   "mimetype": "text/x-python",
   "name": "python",
   "nbconvert_exporter": "python",
   "pygments_lexer": "ipython3",
   "version": "3.6.5"
  }
 },
 "nbformat": 4,
 "nbformat_minor": 4
}
