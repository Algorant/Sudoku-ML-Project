{
 "cells": [
  {
   "cell_type": "code",
   "execution_count": 1,
   "metadata": {},
   "outputs": [],
   "source": [
    "from main import *\n",
    "from ai import *\n",
    "import pandas as pd\n",
    "import numpy as np"
   ]
  },
  {
   "cell_type": "markdown",
   "metadata": {},
   "source": [
    "#### Test Solver"
   ]
  },
  {
   "cell_type": "code",
   "execution_count": 4,
   "metadata": {},
   "outputs": [],
   "source": [
    "test_triple = '...29438....17864.48.3561....48375.1...4157..5..629834953782416126543978.4.961253'\n",
    "test2 = '.5.....7.9......6...21.75.8.4..69.3...8...4...3.42..5.3.12.86...9......1.8.....2.'\n",
    "test3 = '8...74...1.........7.5.9.4....65.4..73.....296.8.......2.3.1.5.........8...9....2'\n",
    "test_triple2='4..5. 37.32......4.........8....2.3.21.84...........9..7..9.1..94.651.......7....'\n",
    "test_triple3='39....7........65.5.7...349.4938.5.66.1.54983853...4..9..8..134..294.8654.....297'"
   ]
  },
  {
   "cell_type": "code",
   "execution_count": 136,
   "metadata": {},
   "outputs": [],
   "source": [
    "rows = 'ABCDEFGHI'\n",
    "cols = '123456789'\n",
    "boxes = [s+t for s in rows for t in cols]\n",
    "row_units = [[s+t for s in r for t in cols] for r in rows]\n",
    "column_units = [[s+t for s in rows for t in c] for c in cols]\n",
    "square_units = [[s+t for s in rs for t in cs]for rs in ('ABC','DEF','GHI') for cs in ('123','456','789')]\n",
    "unitlist = row_units + column_units + square_units\n",
    "units = dict((s, [u for u in unitlist if s in u]) for s in boxes)\n",
    "peers = dict((s, set(sum(units[s],[]))-set([s])) for s in boxes)"
   ]
  },
  {
   "cell_type": "code",
   "execution_count": 346,
   "metadata": {},
   "outputs": [
    {
     "data": {
      "text/plain": [
       "['126', '128', '127']"
      ]
     },
     "execution_count": 346,
     "metadata": {},
     "output_type": "execute_result"
    }
   ],
   "source": [
    "from collections import Counter\n",
    "\n",
    "a=solve_technique(test_triple3,'single_position')[1]\n",
    "answer=[]\n",
    "values_triples = [c for c,b in Counter([v for k,v in a.items() if len(v)==3]).items() if b>2]\n",
    "triples= [([k for k,v in a.items() if v == vv]) for vv in values_triples]\n",
    "values_triples"
   ]
  },
  {
   "cell_type": "code",
   "execution_count": 348,
   "metadata": {},
   "outputs": [
    {
     "name": "stdout",
     "output_type": "stream",
     "text": [
      "['A5', 'C4', 'C5']\n",
      "['A9', 'B2', 'B9']\n",
      "['D6', 'D8', 'F8']\n"
     ]
    }
   ],
   "source": [
    "for t in triples:\n",
    "    print(t)"
   ]
  },
  {
   "cell_type": "code",
   "execution_count": 349,
   "metadata": {},
   "outputs": [
    {
     "name": "stdout",
     "output_type": "stream",
     "text": [
      "126\n",
      "128\n",
      "127\n"
     ]
    }
   ],
   "source": [
    "for bb in range(len(values_triples)):\n",
    "    print(values_triples[bb])"
   ]
  },
  {
   "cell_type": "code",
   "execution_count": 350,
   "metadata": {},
   "outputs": [
    {
     "name": "stdout",
     "output_type": "stream",
     "text": [
      "['A4', 'A6', 'B4', 'B5', 'B6', 'C6']\n"
     ]
    }
   ],
   "source": [
    "\n",
    "for triple in triples:\n",
    "    for unit in unitlist:\n",
    "        if(set(triple).issubset(set(unit))): \n",
    "            print([x for x in unit if x not in triple])"
   ]
  },
  {
   "cell_type": "code",
   "execution_count": 351,
   "metadata": {},
   "outputs": [
    {
     "name": "stdout",
     "output_type": "stream",
     "text": [
      "['A4', 'A6', 'B4', 'B5', 'B6', 'C6']\n",
      "126\n"
     ]
    }
   ],
   "source": [
    "for triple in triples:\n",
    "    for unit in unitlist:\n",
    "        if(set(triple).issubset(set(unit))): \n",
    "            print([x for x in unit if x not in triple])\n",
    "            print(values[triple[0]])\n",
    "    "
   ]
  },
  {
   "cell_type": "code",
   "execution_count": 352,
   "metadata": {},
   "outputs": [],
   "source": [
    "valuesa= a"
   ]
  },
  {
   "cell_type": "code",
   "execution_count": 353,
   "metadata": {},
   "outputs": [],
   "source": [
    "hi='126'\n",
    "jiji= ['A4', 'A6', 'B4', 'B5', 'B6', 'C6']\n",
    "for ji in jiji: \n",
    "    for digit in hi:\n",
    "        valuesa[ji] = valuesa[ji].replace(digit, \"\")"
   ]
  },
  {
   "cell_type": "code",
   "execution_count": 347,
   "metadata": {},
   "outputs": [
    {
     "name": "stdout",
     "output_type": "stream",
     "text": [
      "   3      9     468  | 12456   126   12568 |   7      12    128  \n",
      "   12    128     48  |  1247  12379  123789|   6      5     128  \n",
      "   5     1268    7   |  126    126    1268 |   3      4      9   \n",
      "---------------------+---------------------+---------------------\n",
      "   27     4      9   |   3      8     127  |   5     127     6   \n",
      "   6      27     1   |   27     5      4   |   9      8      3   \n",
      "   8      5      3   |  1267  12679  12679 |   4     127     12  \n",
      "---------------------+---------------------+---------------------\n",
      "   9      67     56  |   8     267    2567 |   1      3      4   \n",
      "   17    137     2   |   9      4     137  |   8      6      5   \n",
      "   4     1368   568  |  156    136    1356 |   2      9      7   \n",
      "\n"
     ]
    }
   ],
   "source": [
    "display(a)"
   ]
  },
  {
   "cell_type": "code",
   "execution_count": 354,
   "metadata": {},
   "outputs": [
    {
     "name": "stdout",
     "output_type": "stream",
     "text": [
      "  3     9    468  |  45   126    58  |  7     12   128  \n",
      "  12   128    48  |  47   379   3789 |  6     5    128  \n",
      "  5    1268   7   | 126   126    8   |  3     4     9   \n",
      "------------------+------------------+------------------\n",
      "  27    4     9   |  3     8    127  |  5    127    6   \n",
      "  6     27    1   |  27    5     4   |  9     8     3   \n",
      "  8     5     3   | 1267 12679 12679 |  4    127    12  \n",
      "------------------+------------------+------------------\n",
      "  9     67    56  |  8    267   2567 |  1     3     4   \n",
      "  17   137    2   |  9     4    137  |  8     6     5   \n",
      "  4    1368  568  | 156   136   1356 |  2     9     7   \n",
      "\n"
     ]
    }
   ],
   "source": [
    "display(valuesa)"
   ]
  },
  {
   "cell_type": "code",
   "execution_count": 5,
   "metadata": {},
   "outputs": [
    {
     "data": {
      "text/plain": [
       "('Solved',\n",
       " {'A1': '3',\n",
       "  'A2': '9',\n",
       "  'A3': '6',\n",
       "  'A4': '4',\n",
       "  'A5': '2',\n",
       "  'A6': '5',\n",
       "  'A7': '7',\n",
       "  'A8': '1',\n",
       "  'A9': '8',\n",
       "  'B1': '1',\n",
       "  'B2': '8',\n",
       "  'B3': '4',\n",
       "  'B4': '7',\n",
       "  'B5': '3',\n",
       "  'B6': '9',\n",
       "  'B7': '6',\n",
       "  'B8': '5',\n",
       "  'B9': '2',\n",
       "  'C1': '5',\n",
       "  'C2': '2',\n",
       "  'C3': '7',\n",
       "  'C4': '1',\n",
       "  'C5': '6',\n",
       "  'C6': '8',\n",
       "  'C7': '3',\n",
       "  'C8': '4',\n",
       "  'C9': '9',\n",
       "  'D1': '2',\n",
       "  'D2': '4',\n",
       "  'D3': '9',\n",
       "  'D4': '3',\n",
       "  'D5': '8',\n",
       "  'D6': '1',\n",
       "  'D7': '5',\n",
       "  'D8': '7',\n",
       "  'D9': '6',\n",
       "  'E1': '6',\n",
       "  'E2': '7',\n",
       "  'E3': '1',\n",
       "  'E4': '2',\n",
       "  'E5': '5',\n",
       "  'E6': '4',\n",
       "  'E7': '9',\n",
       "  'E8': '8',\n",
       "  'E9': '3',\n",
       "  'F1': '8',\n",
       "  'F2': '5',\n",
       "  'F3': '3',\n",
       "  'F4': '6',\n",
       "  'F5': '9',\n",
       "  'F6': '7',\n",
       "  'F7': '4',\n",
       "  'F8': '2',\n",
       "  'F9': '1',\n",
       "  'G1': '9',\n",
       "  'G2': '6',\n",
       "  'G3': '5',\n",
       "  'G4': '8',\n",
       "  'G5': '7',\n",
       "  'G6': '2',\n",
       "  'G7': '1',\n",
       "  'G8': '3',\n",
       "  'G9': '4',\n",
       "  'H1': '7',\n",
       "  'H2': '1',\n",
       "  'H3': '2',\n",
       "  'H4': '9',\n",
       "  'H5': '4',\n",
       "  'H6': '3',\n",
       "  'H7': '8',\n",
       "  'H8': '6',\n",
       "  'H9': '5',\n",
       "  'I1': '4',\n",
       "  'I2': '3',\n",
       "  'I3': '8',\n",
       "  'I4': '5',\n",
       "  'I5': '1',\n",
       "  'I6': '6',\n",
       "  'I7': '2',\n",
       "  'I8': '9',\n",
       "  'I9': '7'},\n",
       " 'Number of iterations made: 18')"
      ]
     },
     "execution_count": 5,
     "metadata": {},
     "output_type": "execute_result"
    }
   ],
   "source": [
    "solve_technique(test_triple3,'naked_triple')"
   ]
  },
  {
   "cell_type": "code",
   "execution_count": 6,
   "metadata": {},
   "outputs": [
    {
     "name": "stdout",
     "output_type": "stream",
     "text": [
      "3 9 6 |4 2 5 |7 1 8 \n",
      "1 8 4 |7 3 9 |6 5 2 \n",
      "5 2 7 |1 6 8 |3 4 9 \n",
      "------+------+------\n",
      "2 4 9 |3 8 1 |5 7 6 \n",
      "6 7 1 |2 5 4 |9 8 3 \n",
      "8 5 3 |6 9 7 |4 2 1 \n",
      "------+------+------\n",
      "9 6 5 |8 7 2 |1 3 4 \n",
      "7 1 2 |9 4 3 |8 6 5 \n",
      "4 3 8 |5 1 6 |2 9 7 \n",
      "\n"
     ]
    }
   ],
   "source": [
    "display(solve_technique(test_triple3,'naked_triple')[1])"
   ]
  },
  {
   "cell_type": "code",
   "execution_count": 157,
   "metadata": {},
   "outputs": [],
   "source": [
    "\n",
    "#values = dict(zip(boxes, [\"123456789\" if element == \".\" else element for element in test_triple]))\n",
    "values = solve_technique(test_triple3,'single_position')[1]\n",
    "# def naked_triple(values):\n",
    "#     for unit in unitlist:\n",
    "#         triples= dict(filter(lambda elem: len(elem[1]) == 3,values.items()))\n",
    "#         for box in unit:\n",
    "#             if values[box] in triples:\n",
    "#                 continuefor digit in triple:\n",
    "#                     values[box] = values[box].replace(digit, \"\")\n",
    "#             for triple in triples :\n",
    "#                 print(triple)\n",
    "# #                 \n",
    "#     return values"
   ]
  },
  {
   "cell_type": "code",
   "execution_count": 156,
   "metadata": {},
   "outputs": [],
   "source": [
    "#  naked_triple(values)"
   ]
  },
  {
   "cell_type": "code",
   "execution_count": 158,
   "metadata": {},
   "outputs": [
    {
     "name": "stdout",
     "output_type": "stream",
     "text": [
      "   3      9     468  | 12456   126   12568 |   7      12    128  \n",
      "   12    128     48  |  1247  12379  123789|   6      5     128  \n",
      "   5     1268    7   |  126    126    1268 |   3      4      9   \n",
      "---------------------+---------------------+---------------------\n",
      "   27     4      9   |   3      8     127  |   5     127     6   \n",
      "   6      27     1   |   27     5      4   |   9      8      3   \n",
      "   8      5      3   |  1267  12679  12679 |   4     127     12  \n",
      "---------------------+---------------------+---------------------\n",
      "   9      67     56  |   8     267    2567 |   1      3      4   \n",
      "   17    137     2   |   9      4     137  |   8      6      5   \n",
      "   4     1368   568  |  156    136    1356 |   2      9      7   \n",
      "\n"
     ]
    }
   ],
   "source": [
    "display(values)"
   ]
  },
  {
   "cell_type": "code",
   "execution_count": 12,
   "metadata": {},
   "outputs": [
    {
     "name": "stdout",
     "output_type": "stream",
     "text": [
      "            | 1   1   1  | 7   1   1  \n",
      " 1   1      | 17  17  17 |         1  \n",
      "     1   7  | 1   1   1  |         9  \n",
      "------------+------------+------------\n",
      " 7       9  |         17 |     17     \n",
      "     7   1  | 7          | 9          \n",
      "            | 17 179 179 |     17  1  \n",
      "------------+------------+------------\n",
      " 9   7      | 8   7   7  | 1          \n",
      " 17  17     | 9       17 | 8          \n",
      "     18  8  | 1   1   1  | 2   9   7  \n",
      "\n"
     ]
    }
   ],
   "source": [
    "display(naked_triple(values))"
   ]
  },
  {
   "cell_type": "code",
   "execution_count": 3,
   "metadata": {},
   "outputs": [],
   "source": [
    "# def display2(values):\n",
    "#     \"\"\"\n",
    "#     Display the values as a 2-D grid.\n",
    "#     Input: The sudoku in dictionary form\n",
    "#     Output: None\n",
    "#     \"\"\"\n",
    "#     width = 1+max(len(values[s]) for s in boxes)\n",
    "#     line = '+'.join(['-'*(width*3)]*3)\n",
    "#     for r in rows:\n",
    "#         print(''.join(values[r+c].center(width)+('|' if c in '36' else '')\n",
    "#                       for c in cols))\n",
    "#         if r in 'CF': print(line)       \n",
    "#     print()\n"
   ]
  },
  {
   "cell_type": "code",
   "execution_count": 6,
   "metadata": {},
   "outputs": [
    {
     "name": "stdout",
     "output_type": "stream",
     "text": [
      "8 5 3 |9 4 6 |1 7 2 \n",
      "9 1 7 |5 8 2 |3 6 4 \n",
      "4 6 2 |1 3 7 |5 9 8 \n",
      "------+------+------\n",
      "1 4 5 |8 6 9 |2 3 7 \n",
      "6 2 8 |3 7 5 |4 1 9 \n",
      "7 3 9 |4 2 1 |8 5 6 \n",
      "------+------+------\n",
      "3 7 1 |2 9 8 |6 4 5 \n",
      "2 9 4 |6 5 3 |7 8 1 \n",
      "5 8 6 |7 1 4 |9 2 3 \n",
      "\n"
     ]
    }
   ],
   "source": [
    "display(a[2])"
   ]
  },
  {
   "cell_type": "code",
   "execution_count": 7,
   "metadata": {},
   "outputs": [
    {
     "name": "stdout",
     "output_type": "stream",
     "text": [
      ". 5 . |. . . |. 7 . \n",
      "9 . . |. . . |. 6 . \n",
      ". . 2 |1 . 7 |5 . 8 \n",
      "------+------+------\n",
      ". 4 . |. 6 9 |. 3 . \n",
      ". . 8 |. . . |4 . . \n",
      ". 3 . |4 2 . |. 5 . \n",
      "------+------+------\n",
      "3 . 1 |2 . 8 |6 . . \n",
      ". 9 . |. . . |. . 1 \n",
      ". 8 . |. . . |. 2 . \n",
      "\n"
     ]
    }
   ],
   "source": [
    "display(a[3])"
   ]
  },
  {
   "cell_type": "code",
   "execution_count": 68,
   "metadata": {},
   "outputs": [
    {
     "name": "stdout",
     "output_type": "stream",
     "text": [
      "   8     569    2369 |   12     7      4   | 12359   1369   1356 \n",
      "   1     4569  23469 |   28    2368   236  | 235789 36789   3567 \n",
      "   23     7     236  |   5    12368    9   |  1238    4     136  \n",
      "---------------------+---------------------+---------------------\n",
      "   29     19    129  |   6      5     237  |   4     1378   137  \n",
      "   7      3      5   |   14     14     8   |   6      2      9   \n",
      "   6     149     8   |   27    239    237  |  1357   137    1357 \n",
      "---------------------+---------------------+---------------------\n",
      "   49     2     4679 |   3     468     1   |   79     5     467  \n",
      "  3459  14569  134679|  247    246    2567 |  1379  13679    8   \n",
      "  345   14568  13467 |   9     468    567  |  137    1367    2   \n",
      "\n"
     ]
    }
   ],
   "source": [
    "a=solve_technique(test3,\"naked_twins\")\n",
    "display(a[1])"
   ]
  },
  {
   "cell_type": "code",
   "execution_count": 25,
   "metadata": {},
   "outputs": [],
   "source": [
    "# import sys\n",
    "# sys.setrecursionlimit(1500)"
   ]
  },
  {
   "cell_type": "markdown",
   "metadata": {},
   "source": []
  },
  {
   "cell_type": "code",
   "execution_count": 2,
   "metadata": {},
   "outputs": [
    {
     "data": {
      "text/html": [
       "<div>\n",
       "<style scoped>\n",
       "    .dataframe tbody tr th:only-of-type {\n",
       "        vertical-align: middle;\n",
       "    }\n",
       "\n",
       "    .dataframe tbody tr th {\n",
       "        vertical-align: top;\n",
       "    }\n",
       "\n",
       "    .dataframe thead th {\n",
       "        text-align: right;\n",
       "    }\n",
       "</style>\n",
       "<table border=\"1\" class=\"dataframe\">\n",
       "  <thead>\n",
       "    <tr style=\"text-align: right;\">\n",
       "      <th></th>\n",
       "      <th>Id</th>\n",
       "      <th>Sudoku</th>\n",
       "      <th>Solution</th>\n",
       "      <th>Level</th>\n",
       "      <th>People</th>\n",
       "      <th>Average-Time</th>\n",
       "    </tr>\n",
       "  </thead>\n",
       "  <tbody>\n",
       "    <tr>\n",
       "      <th>0</th>\n",
       "      <td>0</td>\n",
       "      <td>8...74...1.........7.5.9.4....65.4..73.....296...</td>\n",
       "      <td>8591742361648325973725698412916574837354186296...</td>\n",
       "      <td>Diabolical</td>\n",
       "      <td>254</td>\n",
       "      <td>25</td>\n",
       "    </tr>\n",
       "    <tr>\n",
       "      <th>1</th>\n",
       "      <td>1</td>\n",
       "      <td>.5.....7.9......6...21.75.8.4..69.3...8...4......</td>\n",
       "      <td>8539461729175823644621375981458692376283754197...</td>\n",
       "      <td>Moderate</td>\n",
       "      <td>281</td>\n",
       "      <td>12</td>\n",
       "    </tr>\n",
       "    <tr>\n",
       "      <th>2</th>\n",
       "      <td>2</td>\n",
       "      <td>...45.2..3.........8....4..7...94.3.9..5.2.76....</td>\n",
       "      <td>6974532183248617955819274637186945329435128762...</td>\n",
       "      <td>Diabolical</td>\n",
       "      <td>265</td>\n",
       "      <td>22</td>\n",
       "    </tr>\n",
       "    <tr>\n",
       "      <th>3</th>\n",
       "      <td>3</td>\n",
       "      <td>9......31.3...8.....5.7.9..3...4...8.916..54.4...</td>\n",
       "      <td>9274568316341982758153729643527496187916835424...</td>\n",
       "      <td>Tough</td>\n",
       "      <td>279</td>\n",
       "      <td>19</td>\n",
       "    </tr>\n",
       "    <tr>\n",
       "      <th>4</th>\n",
       "      <td>4</td>\n",
       "      <td>9.......2784.1.5.....4.....2.53.1.7...7...8......</td>\n",
       "      <td>9615387427846125395234796182953814761479568236...</td>\n",
       "      <td>Moderate</td>\n",
       "      <td>301</td>\n",
       "      <td>14</td>\n",
       "    </tr>\n",
       "  </tbody>\n",
       "</table>\n",
       "</div>"
      ],
      "text/plain": [
       "   Id                                             Sudoku  \\\n",
       "0   0  8...74...1.........7.5.9.4....65.4..73.....296...   \n",
       "1   1  .5.....7.9......6...21.75.8.4..69.3...8...4......   \n",
       "2   2  ...45.2..3.........8....4..7...94.3.9..5.2.76....   \n",
       "3   3  9......31.3...8.....5.7.9..3...4...8.916..54.4...   \n",
       "4   4  9.......2784.1.5.....4.....2.53.1.7...7...8......   \n",
       "\n",
       "                                            Solution       Level  People  \\\n",
       "0  8591742361648325973725698412916574837354186296...  Diabolical     254   \n",
       "1  8539461729175823644621375981458692376283754197...    Moderate     281   \n",
       "2  6974532183248617955819274637186945329435128762...  Diabolical     265   \n",
       "3  9274568316341982758153729643527496187916835424...       Tough     279   \n",
       "4  9615387427846125395234796182953814761479568236...    Moderate     301   \n",
       "\n",
       "   Average-Time  \n",
       "0            25  \n",
       "1            12  \n",
       "2            22  \n",
       "3            19  \n",
       "4            14  "
      ]
     },
     "execution_count": 2,
     "metadata": {},
     "output_type": "execute_result"
    }
   ],
   "source": [
    "df = pd.read_csv('../Omega2020/data/dataset.csv').drop('Unnamed: 0', axis=1)\n",
    "df.head()"
   ]
  },
  {
   "cell_type": "code",
   "execution_count": 15,
   "metadata": {},
   "outputs": [
    {
     "data": {
      "text/plain": [
       "'8...74...1.........7.5.9.4....65.4..73.....296.8.......2.3.1.5.........8...9....2'"
      ]
     },
     "execution_count": 15,
     "metadata": {},
     "output_type": "execute_result"
    }
   ],
   "source": [
    "df['Sudoku'][0]"
   ]
  },
  {
   "cell_type": "code",
   "execution_count": 260,
   "metadata": {},
   "outputs": [
    {
     "data": {
      "text/plain": [
       "('Not solved',\n",
       " {'A1': '8',\n",
       "  'A2': '569',\n",
       "  'A3': '23569',\n",
       "  'A4': '12',\n",
       "  'A5': '7',\n",
       "  'A6': '4',\n",
       "  'A7': '123569',\n",
       "  'A8': '1369',\n",
       "  'A9': '1356',\n",
       "  'B1': '1',\n",
       "  'B2': '4569',\n",
       "  'B3': '234569',\n",
       "  'B4': '28',\n",
       "  'B5': '2368',\n",
       "  'B6': '236',\n",
       "  'B7': '2356789',\n",
       "  'B8': '36789',\n",
       "  'B9': '3567',\n",
       "  'C1': '23',\n",
       "  'C2': '7',\n",
       "  'C3': '236',\n",
       "  'C4': '5',\n",
       "  'C5': '12368',\n",
       "  'C6': '9',\n",
       "  'C7': '12368',\n",
       "  'C8': '4',\n",
       "  'C9': '136',\n",
       "  'D1': '29',\n",
       "  'D2': '19',\n",
       "  'D3': '129',\n",
       "  'D4': '6',\n",
       "  'D5': '5',\n",
       "  'D6': '237',\n",
       "  'D7': '4',\n",
       "  'D8': '1378',\n",
       "  'D9': '137',\n",
       "  'E1': '7',\n",
       "  'E2': '3',\n",
       "  'E3': '145',\n",
       "  'E4': '14',\n",
       "  'E5': '14',\n",
       "  'E6': '8',\n",
       "  'E7': '156',\n",
       "  'E8': '2',\n",
       "  'E9': '9',\n",
       "  'F1': '6',\n",
       "  'F2': '1459',\n",
       "  'F3': '8',\n",
       "  'F4': '1247',\n",
       "  'F5': '12349',\n",
       "  'F6': '237',\n",
       "  'F7': '1357',\n",
       "  'F8': '137',\n",
       "  'F9': '1357',\n",
       "  'G1': '49',\n",
       "  'G2': '2',\n",
       "  'G3': '4679',\n",
       "  'G4': '3',\n",
       "  'G5': '468',\n",
       "  'G6': '1',\n",
       "  'G7': '679',\n",
       "  'G8': '5',\n",
       "  'G9': '467',\n",
       "  'H1': '3459',\n",
       "  'H2': '14569',\n",
       "  'H3': '1345679',\n",
       "  'H4': '247',\n",
       "  'H5': '246',\n",
       "  'H6': '2567',\n",
       "  'H7': '13679',\n",
       "  'H8': '13679',\n",
       "  'H9': '8',\n",
       "  'I1': '345',\n",
       "  'I2': '14568',\n",
       "  'I3': '134567',\n",
       "  'I4': '9',\n",
       "  'I5': '468',\n",
       "  'I6': '567',\n",
       "  'I7': '1367',\n",
       "  'I8': '1367',\n",
       "  'I9': '2'},\n",
       " 'Number of iterations made: 2')"
      ]
     },
     "execution_count": 260,
     "metadata": {},
     "output_type": "execute_result"
    }
   ],
   "source": [
    "#solve(df['Sudoku'][0])\n",
    "solve_technique(df['Sudoku'][0],'single_position')"
   ]
  },
  {
   "cell_type": "code",
   "execution_count": 261,
   "metadata": {},
   "outputs": [
    {
     "data": {
      "text/plain": [
       "('Not solved',\n",
       " {'A1': '8',\n",
       "  'A2': '56',\n",
       "  'A3': '9',\n",
       "  'A4': '12',\n",
       "  'A5': '7',\n",
       "  'A6': '4',\n",
       "  'A7': '1235',\n",
       "  'A8': '136',\n",
       "  'A9': '1356',\n",
       "  'B1': '1',\n",
       "  'B2': '56',\n",
       "  'B3': '4',\n",
       "  'B4': '8',\n",
       "  'B5': '3',\n",
       "  'B6': '26',\n",
       "  'B7': '259',\n",
       "  'B8': '679',\n",
       "  'B9': '567',\n",
       "  'C1': '3',\n",
       "  'C2': '7',\n",
       "  'C3': '2',\n",
       "  'C4': '5',\n",
       "  'C5': '16',\n",
       "  'C6': '9',\n",
       "  'C7': '8',\n",
       "  'C8': '4',\n",
       "  'C9': '16',\n",
       "  'D1': '2',\n",
       "  'D2': '9',\n",
       "  'D3': '1',\n",
       "  'D4': '6',\n",
       "  'D5': '5',\n",
       "  'D6': '37',\n",
       "  'D7': '4',\n",
       "  'D8': '8',\n",
       "  'D9': '37',\n",
       "  'E1': '7',\n",
       "  'E2': '3',\n",
       "  'E3': '5',\n",
       "  'E4': '14',\n",
       "  'E5': '14',\n",
       "  'E6': '8',\n",
       "  'E7': '6',\n",
       "  'E8': '2',\n",
       "  'E9': '9',\n",
       "  'F1': '6',\n",
       "  'F2': '4',\n",
       "  'F3': '8',\n",
       "  'F4': '127',\n",
       "  'F5': '9',\n",
       "  'F6': '237',\n",
       "  'F7': '135',\n",
       "  'F8': '137',\n",
       "  'F9': '1357',\n",
       "  'G1': '9',\n",
       "  'G2': '2',\n",
       "  'G3': '6',\n",
       "  'G4': '3',\n",
       "  'G5': '8',\n",
       "  'G6': '1',\n",
       "  'G7': '7',\n",
       "  'G8': '5',\n",
       "  'G9': '4',\n",
       "  'H1': '45',\n",
       "  'H2': '1',\n",
       "  'H3': '37',\n",
       "  'H4': '47',\n",
       "  'H5': '2',\n",
       "  'H6': '567',\n",
       "  'H7': '39',\n",
       "  'H8': '369',\n",
       "  'H9': '8',\n",
       "  'I1': '45',\n",
       "  'I2': '8',\n",
       "  'I3': '37',\n",
       "  'I4': '9',\n",
       "  'I5': '46',\n",
       "  'I6': '567',\n",
       "  'I7': '13',\n",
       "  'I8': '136',\n",
       "  'I9': '2'},\n",
       " 'Number of iterations made: 8')"
      ]
     },
     "execution_count": 261,
     "metadata": {},
     "output_type": "execute_result"
    }
   ],
   "source": [
    "solve_technique(df['Sudoku'][0],'single_candidate')"
   ]
  },
  {
   "cell_type": "code",
   "execution_count": 262,
   "metadata": {},
   "outputs": [
    {
     "data": {
      "text/plain": [
       "('Not solved',\n",
       " {'A1': '8',\n",
       "  'A2': '569',\n",
       "  'A3': '2369',\n",
       "  'A4': '12',\n",
       "  'A5': '7',\n",
       "  'A6': '4',\n",
       "  'A7': '12359',\n",
       "  'A8': '1369',\n",
       "  'A9': '1356',\n",
       "  'B1': '1',\n",
       "  'B2': '4569',\n",
       "  'B3': '23469',\n",
       "  'B4': '28',\n",
       "  'B5': '2368',\n",
       "  'B6': '236',\n",
       "  'B7': '235789',\n",
       "  'B8': '36789',\n",
       "  'B9': '3567',\n",
       "  'C1': '23',\n",
       "  'C2': '7',\n",
       "  'C3': '236',\n",
       "  'C4': '5',\n",
       "  'C5': '12368',\n",
       "  'C6': '9',\n",
       "  'C7': '1238',\n",
       "  'C8': '4',\n",
       "  'C9': '136',\n",
       "  'D1': '29',\n",
       "  'D2': '19',\n",
       "  'D3': '129',\n",
       "  'D4': '6',\n",
       "  'D5': '5',\n",
       "  'D6': '237',\n",
       "  'D7': '4',\n",
       "  'D8': '1378',\n",
       "  'D9': '137',\n",
       "  'E1': '7',\n",
       "  'E2': '3',\n",
       "  'E3': '5',\n",
       "  'E4': '14',\n",
       "  'E5': '14',\n",
       "  'E6': '8',\n",
       "  'E7': '6',\n",
       "  'E8': '2',\n",
       "  'E9': '9',\n",
       "  'F1': '6',\n",
       "  'F2': '149',\n",
       "  'F3': '8',\n",
       "  'F4': '27',\n",
       "  'F5': '239',\n",
       "  'F6': '237',\n",
       "  'F7': '1357',\n",
       "  'F8': '137',\n",
       "  'F9': '1357',\n",
       "  'G1': '49',\n",
       "  'G2': '2',\n",
       "  'G3': '4679',\n",
       "  'G4': '3',\n",
       "  'G5': '468',\n",
       "  'G6': '1',\n",
       "  'G7': '79',\n",
       "  'G8': '5',\n",
       "  'G9': '467',\n",
       "  'H1': '3459',\n",
       "  'H2': '14569',\n",
       "  'H3': '134679',\n",
       "  'H4': '247',\n",
       "  'H5': '246',\n",
       "  'H6': '2567',\n",
       "  'H7': '1379',\n",
       "  'H8': '13679',\n",
       "  'H9': '8',\n",
       "  'I1': '345',\n",
       "  'I2': '14568',\n",
       "  'I3': '13467',\n",
       "  'I4': '9',\n",
       "  'I5': '468',\n",
       "  'I6': '567',\n",
       "  'I7': '137',\n",
       "  'I8': '1367',\n",
       "  'I9': '2'},\n",
       " 'Number of iterations made: 4')"
      ]
     },
     "execution_count": 262,
     "metadata": {},
     "output_type": "execute_result"
    }
   ],
   "source": [
    "solve_technique(df['Sudoku'][0],'naked_twins')"
   ]
  },
  {
   "cell_type": "code",
   "execution_count": 263,
   "metadata": {},
   "outputs": [
    {
     "data": {
      "text/plain": [
       "('Solved',\n",
       " '859174236164832597372569841291657483735418629648293175926381754413725968587946312',\n",
       " {'A1': '8',\n",
       "  'A2': '5',\n",
       "  'A3': '9',\n",
       "  'A4': '1',\n",
       "  'A5': '7',\n",
       "  'A6': '4',\n",
       "  'A7': '2',\n",
       "  'A8': '3',\n",
       "  'A9': '6',\n",
       "  'B1': '1',\n",
       "  'B2': '6',\n",
       "  'B3': '4',\n",
       "  'B4': '8',\n",
       "  'B5': '3',\n",
       "  'B6': '2',\n",
       "  'B7': '5',\n",
       "  'B8': '9',\n",
       "  'B9': '7',\n",
       "  'C1': '3',\n",
       "  'C2': '7',\n",
       "  'C3': '2',\n",
       "  'C4': '5',\n",
       "  'C5': '6',\n",
       "  'C6': '9',\n",
       "  'C7': '8',\n",
       "  'C8': '4',\n",
       "  'C9': '1',\n",
       "  'D1': '2',\n",
       "  'D2': '9',\n",
       "  'D3': '1',\n",
       "  'D4': '6',\n",
       "  'D5': '5',\n",
       "  'D6': '7',\n",
       "  'D7': '4',\n",
       "  'D8': '8',\n",
       "  'D9': '3',\n",
       "  'E1': '7',\n",
       "  'E2': '3',\n",
       "  'E3': '5',\n",
       "  'E4': '4',\n",
       "  'E5': '1',\n",
       "  'E6': '8',\n",
       "  'E7': '6',\n",
       "  'E8': '2',\n",
       "  'E9': '9',\n",
       "  'F1': '6',\n",
       "  'F2': '4',\n",
       "  'F3': '8',\n",
       "  'F4': '2',\n",
       "  'F5': '9',\n",
       "  'F6': '3',\n",
       "  'F7': '1',\n",
       "  'F8': '7',\n",
       "  'F9': '5',\n",
       "  'G1': '9',\n",
       "  'G2': '2',\n",
       "  'G3': '6',\n",
       "  'G4': '3',\n",
       "  'G5': '8',\n",
       "  'G6': '1',\n",
       "  'G7': '7',\n",
       "  'G8': '5',\n",
       "  'G9': '4',\n",
       "  'H1': '4',\n",
       "  'H2': '1',\n",
       "  'H3': '3',\n",
       "  'H4': '7',\n",
       "  'H5': '2',\n",
       "  'H6': '5',\n",
       "  'H7': '9',\n",
       "  'H8': '6',\n",
       "  'H9': '8',\n",
       "  'I1': '5',\n",
       "  'I2': '8',\n",
       "  'I3': '7',\n",
       "  'I4': '9',\n",
       "  'I5': '4',\n",
       "  'I6': '6',\n",
       "  'I7': '3',\n",
       "  'I8': '1',\n",
       "  'I9': '2'},\n",
       " {'A1': '8',\n",
       "  'A2': '.',\n",
       "  'A3': '.',\n",
       "  'A4': '.',\n",
       "  'A5': '7',\n",
       "  'A6': '4',\n",
       "  'A7': '.',\n",
       "  'A8': '.',\n",
       "  'A9': '.',\n",
       "  'B1': '1',\n",
       "  'B2': '.',\n",
       "  'B3': '.',\n",
       "  'B4': '.',\n",
       "  'B5': '.',\n",
       "  'B6': '.',\n",
       "  'B7': '.',\n",
       "  'B8': '.',\n",
       "  'B9': '.',\n",
       "  'C1': '.',\n",
       "  'C2': '7',\n",
       "  'C3': '.',\n",
       "  'C4': '5',\n",
       "  'C5': '.',\n",
       "  'C6': '9',\n",
       "  'C7': '.',\n",
       "  'C8': '4',\n",
       "  'C9': '.',\n",
       "  'D1': '.',\n",
       "  'D2': '.',\n",
       "  'D3': '.',\n",
       "  'D4': '6',\n",
       "  'D5': '5',\n",
       "  'D6': '.',\n",
       "  'D7': '4',\n",
       "  'D8': '.',\n",
       "  'D9': '.',\n",
       "  'E1': '7',\n",
       "  'E2': '3',\n",
       "  'E3': '.',\n",
       "  'E4': '.',\n",
       "  'E5': '.',\n",
       "  'E6': '.',\n",
       "  'E7': '.',\n",
       "  'E8': '2',\n",
       "  'E9': '9',\n",
       "  'F1': '6',\n",
       "  'F2': '.',\n",
       "  'F3': '8',\n",
       "  'F4': '.',\n",
       "  'F5': '.',\n",
       "  'F6': '.',\n",
       "  'F7': '.',\n",
       "  'F8': '.',\n",
       "  'F9': '.',\n",
       "  'G1': '.',\n",
       "  'G2': '2',\n",
       "  'G3': '.',\n",
       "  'G4': '3',\n",
       "  'G5': '.',\n",
       "  'G6': '1',\n",
       "  'G7': '.',\n",
       "  'G8': '5',\n",
       "  'G9': '.',\n",
       "  'H1': '.',\n",
       "  'H2': '.',\n",
       "  'H3': '.',\n",
       "  'H4': '.',\n",
       "  'H5': '.',\n",
       "  'H6': '.',\n",
       "  'H7': '.',\n",
       "  'H8': '.',\n",
       "  'H9': '8',\n",
       "  'I1': '.',\n",
       "  'I2': '.',\n",
       "  'I3': '.',\n",
       "  'I4': '9',\n",
       "  'I5': '.',\n",
       "  'I6': '.',\n",
       "  'I7': '.',\n",
       "  'I8': '.',\n",
       "  'I9': '2'})"
      ]
     },
     "execution_count": 263,
     "metadata": {},
     "output_type": "execute_result"
    }
   ],
   "source": [
    "solve(df['Sudoku'][0])"
   ]
  },
  {
   "cell_type": "code",
   "execution_count": 4,
   "metadata": {},
   "outputs": [],
   "source": [
    "import json\n",
    "a =solve(df['Sudoku'][0])[1]"
   ]
  },
  {
   "cell_type": "code",
   "execution_count": 9,
   "metadata": {},
   "outputs": [
    {
     "data": {
      "text/plain": [
       "'859174236164832597372569841291657483735418629648293175926381754413725968587946312'"
      ]
     },
     "execution_count": 9,
     "metadata": {},
     "output_type": "execute_result"
    }
   ],
   "source": [
    "\"\".join([value if len(value) == 1 else \".\" for value in a.values()])"
   ]
  },
  {
   "cell_type": "code",
   "execution_count": 50,
   "metadata": {},
   "outputs": [],
   "source": [
    "# rows = 'ABCDEFGHI'\n",
    "# cols = '123456789'\n",
    "# boxes = [s+t for s in rows for t in cols]\n",
    "\n",
    "# def display(values):\n",
    "#     \"\"\"\n",
    "#     Display the values as a 2-D grid.\n",
    "#     Input: The sudoku in dictionary form\n",
    "#     Output: None\n",
    "#     \"\"\"\n",
    "#     width = 1+max(len(values[s]) for s in boxes)\n",
    "#     line = '+'.join(['-'*(width*3)]*3)\n",
    "#     for r in rows:\n",
    "#         print(''.join(values[r+c].center(width)+('|' if c in '36' else '')\n",
    "#                       for c in cols))\n",
    "#         if r in 'CF': print(line)\n",
    "#     print"
   ]
  },
  {
   "cell_type": "code",
   "execution_count": 11,
   "metadata": {},
   "outputs": [
    {
     "name": "stdout",
     "output_type": "stream",
     "text": [
      "8 5 9 |1 7 4 |2 3 6 \n",
      "1 6 4 |8 3 2 |5 9 7 \n",
      "3 7 2 |5 6 9 |8 4 1 \n",
      "------+------+------\n",
      "2 9 1 |6 5 7 |4 8 3 \n",
      "7 3 5 |4 1 8 |6 2 9 \n",
      "6 4 8 |2 9 3 |1 7 5 \n",
      "------+------+------\n",
      "9 2 6 |3 8 1 |7 5 4 \n",
      "4 1 3 |7 2 5 |9 6 8 \n",
      "5 8 7 |9 4 6 |3 1 2 \n"
     ]
    }
   ],
   "source": [
    "display(a)"
   ]
  },
  {
   "cell_type": "code",
   "execution_count": 3,
   "metadata": {},
   "outputs": [],
   "source": [
    "df['Solved_single_position'] = df['Sudoku'].apply(lambda x: solve_technique(x, 'single_position')[0])"
   ]
  },
  {
   "cell_type": "code",
   "execution_count": 5,
   "metadata": {},
   "outputs": [
    {
     "data": {
      "text/plain": [
       "Not solved    4813\n",
       "Solved         216\n",
       "Name: Solved_single_position, dtype: int64"
      ]
     },
     "execution_count": 5,
     "metadata": {},
     "output_type": "execute_result"
    }
   ],
   "source": [
    "df['Solved_single_position'].value_counts()"
   ]
  },
  {
   "cell_type": "code",
   "execution_count": 6,
   "metadata": {},
   "outputs": [],
   "source": [
    "df['Solved_single_candidate'] = df['Sudoku'].apply(lambda x: solve_technique(x, 'single_candidate')[0])"
   ]
  },
  {
   "cell_type": "code",
   "execution_count": 7,
   "metadata": {},
   "outputs": [
    {
     "data": {
      "text/plain": [
       "Solved        2786\n",
       "Not solved    2243\n",
       "Name: Solved_single_candidate, dtype: int64"
      ]
     },
     "execution_count": 7,
     "metadata": {},
     "output_type": "execute_result"
    }
   ],
   "source": [
    "df['Solved_single_candidate'].value_counts()"
   ]
  },
  {
   "cell_type": "code",
   "execution_count": 8,
   "metadata": {},
   "outputs": [],
   "source": [
    "df['Solved_naked_twins']= df['Sudoku'].apply(lambda x: solve_technique(x, 'naked_twins')[0])"
   ]
  },
  {
   "cell_type": "code",
   "execution_count": 9,
   "metadata": {},
   "outputs": [
    {
     "data": {
      "text/plain": [
       "Not solved    3658\n",
       "Solved        1371\n",
       "Name: Solved_naked_twins, dtype: int64"
      ]
     },
     "execution_count": 9,
     "metadata": {},
     "output_type": "execute_result"
    }
   ],
   "source": [
    "df['Solved_naked_twins'].value_counts()"
   ]
  },
  {
   "cell_type": "code",
   "execution_count": 10,
   "metadata": {},
   "outputs": [],
   "source": [
    "df['Solved_naked_triple']= df['Sudoku'].apply(lambda x: solve_technique(x, 'naked_triple')[0])"
   ]
  },
  {
   "cell_type": "code",
   "execution_count": 11,
   "metadata": {},
   "outputs": [
    {
     "data": {
      "text/plain": [
       "Not solved    4790\n",
       "Solved         239\n",
       "Name: Solved_naked_triple, dtype: int64"
      ]
     },
     "execution_count": 11,
     "metadata": {},
     "output_type": "execute_result"
    }
   ],
   "source": [
    "df['Solved_naked_triple'].value_counts()"
   ]
  },
  {
   "cell_type": "code",
   "execution_count": 12,
   "metadata": {},
   "outputs": [
    {
     "data": {
      "text/html": [
       "<div>\n",
       "<style scoped>\n",
       "    .dataframe tbody tr th:only-of-type {\n",
       "        vertical-align: middle;\n",
       "    }\n",
       "\n",
       "    .dataframe tbody tr th {\n",
       "        vertical-align: top;\n",
       "    }\n",
       "\n",
       "    .dataframe thead th {\n",
       "        text-align: right;\n",
       "    }\n",
       "</style>\n",
       "<table border=\"1\" class=\"dataframe\">\n",
       "  <thead>\n",
       "    <tr style=\"text-align: right;\">\n",
       "      <th></th>\n",
       "      <th>Id</th>\n",
       "      <th>Sudoku</th>\n",
       "      <th>Solution</th>\n",
       "      <th>Level</th>\n",
       "      <th>People</th>\n",
       "      <th>Average-Time</th>\n",
       "      <th>Solved_single_position</th>\n",
       "      <th>Solved_single_candidate</th>\n",
       "      <th>Solved_naked_twins</th>\n",
       "      <th>Solved_naked_triple</th>\n",
       "    </tr>\n",
       "  </thead>\n",
       "  <tbody>\n",
       "    <tr>\n",
       "      <th>319</th>\n",
       "      <td>319</td>\n",
       "      <td>..49..1....2...7.53.6..5.9....14......75.68......</td>\n",
       "      <td>5749831628924617353162754986381475294275968139...</td>\n",
       "      <td>Moderate</td>\n",
       "      <td>326</td>\n",
       "      <td>14</td>\n",
       "      <td>Not solved</td>\n",
       "      <td>Solved</td>\n",
       "      <td>Solved</td>\n",
       "      <td>Solved</td>\n",
       "    </tr>\n",
       "    <tr>\n",
       "      <th>550</th>\n",
       "      <td>550</td>\n",
       "      <td>...6......53......6.2....59...98.....895.47.3....</td>\n",
       "      <td>9186254374538796216723418593679821452895147635...</td>\n",
       "      <td>Moderate</td>\n",
       "      <td>332</td>\n",
       "      <td>16</td>\n",
       "      <td>Not solved</td>\n",
       "      <td>Solved</td>\n",
       "      <td>Solved</td>\n",
       "      <td>Solved</td>\n",
       "    </tr>\n",
       "    <tr>\n",
       "      <th>596</th>\n",
       "      <td>596</td>\n",
       "      <td>.4.....5...9.81....6.7...9..3....5..2..6.5..1....</td>\n",
       "      <td>3482691577295816345617342989361785422746953818...</td>\n",
       "      <td>Moderate</td>\n",
       "      <td>333</td>\n",
       "      <td>16</td>\n",
       "      <td>Not solved</td>\n",
       "      <td>Solved</td>\n",
       "      <td>Solved</td>\n",
       "      <td>Solved</td>\n",
       "    </tr>\n",
       "    <tr>\n",
       "      <th>750</th>\n",
       "      <td>750</td>\n",
       "      <td>......1...6.3219...2..7..84...7....5..7.3.6..5...</td>\n",
       "      <td>9738541624683219571256793846317984252471356985...</td>\n",
       "      <td>Moderate</td>\n",
       "      <td>341</td>\n",
       "      <td>15</td>\n",
       "      <td>Not solved</td>\n",
       "      <td>Solved</td>\n",
       "      <td>Not solved</td>\n",
       "      <td>Solved</td>\n",
       "    </tr>\n",
       "    <tr>\n",
       "      <th>754</th>\n",
       "      <td>754</td>\n",
       "      <td>..7...6....1..2...6...5..1..54..1.9.9.......1....</td>\n",
       "      <td>5379146828916725436423589173547218969784652311...</td>\n",
       "      <td>Moderate</td>\n",
       "      <td>351</td>\n",
       "      <td>16</td>\n",
       "      <td>Not solved</td>\n",
       "      <td>Solved</td>\n",
       "      <td>Not solved</td>\n",
       "      <td>Solved</td>\n",
       "    </tr>\n",
       "    <tr>\n",
       "      <th>762</th>\n",
       "      <td>762</td>\n",
       "      <td>3........6.59.2..7.1....4...342...8.1..5.6..2....</td>\n",
       "      <td>3278641596459128378197534269342716851785963422...</td>\n",
       "      <td>Gentle</td>\n",
       "      <td>367</td>\n",
       "      <td>12</td>\n",
       "      <td>Not solved</td>\n",
       "      <td>Solved</td>\n",
       "      <td>Solved</td>\n",
       "      <td>Solved</td>\n",
       "    </tr>\n",
       "    <tr>\n",
       "      <th>855</th>\n",
       "      <td>855</td>\n",
       "      <td>.9...5.3...3...5.9..7.2....5.29....6.1.....9.6...</td>\n",
       "      <td>2964857318431765291573298645829314767146583926...</td>\n",
       "      <td>Moderate</td>\n",
       "      <td>347</td>\n",
       "      <td>14</td>\n",
       "      <td>Not solved</td>\n",
       "      <td>Solved</td>\n",
       "      <td>Solved</td>\n",
       "      <td>Solved</td>\n",
       "    </tr>\n",
       "    <tr>\n",
       "      <th>1082</th>\n",
       "      <td>1082</td>\n",
       "      <td>48.....72.............61.5.2.......8.1.4.2.9.3...</td>\n",
       "      <td>4863951725317249867298614532479135686184523973...</td>\n",
       "      <td>Moderate</td>\n",
       "      <td>358</td>\n",
       "      <td>17</td>\n",
       "      <td>Not solved</td>\n",
       "      <td>Solved</td>\n",
       "      <td>Solved</td>\n",
       "      <td>Solved</td>\n",
       "    </tr>\n",
       "    <tr>\n",
       "      <th>1401</th>\n",
       "      <td>1401</td>\n",
       "      <td>83.......59.....36..6.81..2...6......6.1.9.7.....</td>\n",
       "      <td>8329651475912748364763815927856432192631594789...</td>\n",
       "      <td>Moderate</td>\n",
       "      <td>394</td>\n",
       "      <td>15</td>\n",
       "      <td>Not solved</td>\n",
       "      <td>Solved</td>\n",
       "      <td>Not solved</td>\n",
       "      <td>Solved</td>\n",
       "    </tr>\n",
       "    <tr>\n",
       "      <th>1923</th>\n",
       "      <td>1923</td>\n",
       "      <td>.......4.39.1.8..2.2........5..73.9..14.5..7.....</td>\n",
       "      <td>5863291473971485624217658396584732919146523787...</td>\n",
       "      <td>Moderate</td>\n",
       "      <td>501</td>\n",
       "      <td>15</td>\n",
       "      <td>Not solved</td>\n",
       "      <td>Solved</td>\n",
       "      <td>Solved</td>\n",
       "      <td>Solved</td>\n",
       "    </tr>\n",
       "    <tr>\n",
       "      <th>2237</th>\n",
       "      <td>2237</td>\n",
       "      <td>.....7..385......2....8...5.8.91..2...3.5.8......</td>\n",
       "      <td>1925674838543916727362849155879163246437528912...</td>\n",
       "      <td>Moderate</td>\n",
       "      <td>556</td>\n",
       "      <td>13</td>\n",
       "      <td>Not solved</td>\n",
       "      <td>Solved</td>\n",
       "      <td>Solved</td>\n",
       "      <td>Solved</td>\n",
       "    </tr>\n",
       "    <tr>\n",
       "      <th>2315</th>\n",
       "      <td>2315</td>\n",
       "      <td>74.....3..59678.......5..9.........34.13.65.88...</td>\n",
       "      <td>7469128353596782142184537965927814634713965288...</td>\n",
       "      <td>Moderate</td>\n",
       "      <td>557</td>\n",
       "      <td>12</td>\n",
       "      <td>Not solved</td>\n",
       "      <td>Solved</td>\n",
       "      <td>Solved</td>\n",
       "      <td>Solved</td>\n",
       "    </tr>\n",
       "    <tr>\n",
       "      <th>2342</th>\n",
       "      <td>2342</td>\n",
       "      <td>.3...5.6.........39.8..7.25....3.5.1...9.2...6...</td>\n",
       "      <td>1328957647562148939483671252796385413149526876...</td>\n",
       "      <td>Moderate</td>\n",
       "      <td>563</td>\n",
       "      <td>15</td>\n",
       "      <td>Not solved</td>\n",
       "      <td>Solved</td>\n",
       "      <td>Not solved</td>\n",
       "      <td>Solved</td>\n",
       "    </tr>\n",
       "    <tr>\n",
       "      <th>2344</th>\n",
       "      <td>2344</td>\n",
       "      <td>..6...3......85.673...2.5..7.4.1...5....6....5...</td>\n",
       "      <td>2564973814913852673876215497249186359135647285...</td>\n",
       "      <td>Gentle</td>\n",
       "      <td>571</td>\n",
       "      <td>11</td>\n",
       "      <td>Not solved</td>\n",
       "      <td>Solved</td>\n",
       "      <td>Solved</td>\n",
       "      <td>Solved</td>\n",
       "    </tr>\n",
       "    <tr>\n",
       "      <th>2589</th>\n",
       "      <td>2589</td>\n",
       "      <td>..17.4.353...62.7..........6...2.7.3..2...6..4...</td>\n",
       "      <td>8617942353541628799278354166194287535329716484...</td>\n",
       "      <td>Gentle</td>\n",
       "      <td>628</td>\n",
       "      <td>14</td>\n",
       "      <td>Not solved</td>\n",
       "      <td>Solved</td>\n",
       "      <td>Not solved</td>\n",
       "      <td>Solved</td>\n",
       "    </tr>\n",
       "    <tr>\n",
       "      <th>2708</th>\n",
       "      <td>2708</td>\n",
       "      <td>.........9...6...52419.5.7.6.8.7.....94...83.....</td>\n",
       "      <td>3567481299872613452419356786281735947945268311...</td>\n",
       "      <td>Gentle</td>\n",
       "      <td>686</td>\n",
       "      <td>12</td>\n",
       "      <td>Not solved</td>\n",
       "      <td>Solved</td>\n",
       "      <td>Solved</td>\n",
       "      <td>Solved</td>\n",
       "    </tr>\n",
       "    <tr>\n",
       "      <th>2979</th>\n",
       "      <td>2979</td>\n",
       "      <td>169.......8.4.....5.3...6.9.2...9......152.......</td>\n",
       "      <td>1695372482874965135432186797218693548341529679...</td>\n",
       "      <td>Moderate</td>\n",
       "      <td>725</td>\n",
       "      <td>16</td>\n",
       "      <td>Not solved</td>\n",
       "      <td>Solved</td>\n",
       "      <td>Solved</td>\n",
       "      <td>Solved</td>\n",
       "    </tr>\n",
       "    <tr>\n",
       "      <th>3308</th>\n",
       "      <td>3308</td>\n",
       "      <td>...6.2.3...8...5...3..7..14.5....49...64.53......</td>\n",
       "      <td>5476128391683495272395786143517864929764253818...</td>\n",
       "      <td>Gentle</td>\n",
       "      <td>875</td>\n",
       "      <td>14</td>\n",
       "      <td>Not solved</td>\n",
       "      <td>Solved</td>\n",
       "      <td>Solved</td>\n",
       "      <td>Solved</td>\n",
       "    </tr>\n",
       "    <tr>\n",
       "      <th>3450</th>\n",
       "      <td>3450</td>\n",
       "      <td>4.8...6.3..763.9....6..........72...9.......5....</td>\n",
       "      <td>4589276131276349583968517426435728919124863757...</td>\n",
       "      <td>Moderate</td>\n",
       "      <td>891</td>\n",
       "      <td>15</td>\n",
       "      <td>Not solved</td>\n",
       "      <td>Solved</td>\n",
       "      <td>Solved</td>\n",
       "      <td>Solved</td>\n",
       "    </tr>\n",
       "    <tr>\n",
       "      <th>3744</th>\n",
       "      <td>3744</td>\n",
       "      <td>4..7..9...653...7.....48.3...14.6................</td>\n",
       "      <td>4137529868653194722976485317314968255281376496...</td>\n",
       "      <td>Moderate</td>\n",
       "      <td>1139</td>\n",
       "      <td>16</td>\n",
       "      <td>Not solved</td>\n",
       "      <td>Solved</td>\n",
       "      <td>Solved</td>\n",
       "      <td>Solved</td>\n",
       "    </tr>\n",
       "    <tr>\n",
       "      <th>3800</th>\n",
       "      <td>3800</td>\n",
       "      <td>8.......46..8...27...367....8...6.7...67.59......</td>\n",
       "      <td>8175296346938145272543671891859364723267459187...</td>\n",
       "      <td>Moderate</td>\n",
       "      <td>1193</td>\n",
       "      <td>15</td>\n",
       "      <td>Not solved</td>\n",
       "      <td>Solved</td>\n",
       "      <td>Solved</td>\n",
       "      <td>Solved</td>\n",
       "    </tr>\n",
       "    <tr>\n",
       "      <th>4132</th>\n",
       "      <td>4132</td>\n",
       "      <td>.2........9...7.4647....1..9...7...2.4.....5.3...</td>\n",
       "      <td>5264139871932875464789651239153784628476293513...</td>\n",
       "      <td>Moderate</td>\n",
       "      <td>1310</td>\n",
       "      <td>17</td>\n",
       "      <td>Not solved</td>\n",
       "      <td>Solved</td>\n",
       "      <td>Solved</td>\n",
       "      <td>Solved</td>\n",
       "    </tr>\n",
       "    <tr>\n",
       "      <th>4581</th>\n",
       "      <td>4581</td>\n",
       "      <td>..7...5..6....8..31...5...2.8.7.4.6.57..3..29....</td>\n",
       "      <td>8372195466254789131496537829817243655748361293...</td>\n",
       "      <td>Moderate</td>\n",
       "      <td>1717</td>\n",
       "      <td>15</td>\n",
       "      <td>Not solved</td>\n",
       "      <td>Solved</td>\n",
       "      <td>Solved</td>\n",
       "      <td>Solved</td>\n",
       "    </tr>\n",
       "  </tbody>\n",
       "</table>\n",
       "</div>"
      ],
      "text/plain": [
       "        Id                                             Sudoku  \\\n",
       "319    319  ..49..1....2...7.53.6..5.9....14......75.68......   \n",
       "550    550  ...6......53......6.2....59...98.....895.47.3....   \n",
       "596    596  .4.....5...9.81....6.7...9..3....5..2..6.5..1....   \n",
       "750    750  ......1...6.3219...2..7..84...7....5..7.3.6..5...   \n",
       "754    754  ..7...6....1..2...6...5..1..54..1.9.9.......1....   \n",
       "762    762  3........6.59.2..7.1....4...342...8.1..5.6..2....   \n",
       "855    855  .9...5.3...3...5.9..7.2....5.29....6.1.....9.6...   \n",
       "1082  1082  48.....72.............61.5.2.......8.1.4.2.9.3...   \n",
       "1401  1401  83.......59.....36..6.81..2...6......6.1.9.7.....   \n",
       "1923  1923  .......4.39.1.8..2.2........5..73.9..14.5..7.....   \n",
       "2237  2237  .....7..385......2....8...5.8.91..2...3.5.8......   \n",
       "2315  2315  74.....3..59678.......5..9.........34.13.65.88...   \n",
       "2342  2342  .3...5.6.........39.8..7.25....3.5.1...9.2...6...   \n",
       "2344  2344  ..6...3......85.673...2.5..7.4.1...5....6....5...   \n",
       "2589  2589  ..17.4.353...62.7..........6...2.7.3..2...6..4...   \n",
       "2708  2708  .........9...6...52419.5.7.6.8.7.....94...83.....   \n",
       "2979  2979  169.......8.4.....5.3...6.9.2...9......152.......   \n",
       "3308  3308  ...6.2.3...8...5...3..7..14.5....49...64.53......   \n",
       "3450  3450  4.8...6.3..763.9....6..........72...9.......5....   \n",
       "3744  3744  4..7..9...653...7.....48.3...14.6................   \n",
       "3800  3800  8.......46..8...27...367....8...6.7...67.59......   \n",
       "4132  4132  .2........9...7.4647....1..9...7...2.4.....5.3...   \n",
       "4581  4581  ..7...5..6....8..31...5...2.8.7.4.6.57..3..29....   \n",
       "\n",
       "                                               Solution     Level  People  \\\n",
       "319   5749831628924617353162754986381475294275968139...  Moderate     326   \n",
       "550   9186254374538796216723418593679821452895147635...  Moderate     332   \n",
       "596   3482691577295816345617342989361785422746953818...  Moderate     333   \n",
       "750   9738541624683219571256793846317984252471356985...  Moderate     341   \n",
       "754   5379146828916725436423589173547218969784652311...  Moderate     351   \n",
       "762   3278641596459128378197534269342716851785963422...    Gentle     367   \n",
       "855   2964857318431765291573298645829314767146583926...  Moderate     347   \n",
       "1082  4863951725317249867298614532479135686184523973...  Moderate     358   \n",
       "1401  8329651475912748364763815927856432192631594789...  Moderate     394   \n",
       "1923  5863291473971485624217658396584732919146523787...  Moderate     501   \n",
       "2237  1925674838543916727362849155879163246437528912...  Moderate     556   \n",
       "2315  7469128353596782142184537965927814634713965288...  Moderate     557   \n",
       "2342  1328957647562148939483671252796385413149526876...  Moderate     563   \n",
       "2344  2564973814913852673876215497249186359135647285...    Gentle     571   \n",
       "2589  8617942353541628799278354166194287535329716484...    Gentle     628   \n",
       "2708  3567481299872613452419356786281735947945268311...    Gentle     686   \n",
       "2979  1695372482874965135432186797218693548341529679...  Moderate     725   \n",
       "3308  5476128391683495272395786143517864929764253818...    Gentle     875   \n",
       "3450  4589276131276349583968517426435728919124863757...  Moderate     891   \n",
       "3744  4137529868653194722976485317314968255281376496...  Moderate    1139   \n",
       "3800  8175296346938145272543671891859364723267459187...  Moderate    1193   \n",
       "4132  5264139871932875464789651239153784628476293513...  Moderate    1310   \n",
       "4581  8372195466254789131496537829817243655748361293...  Moderate    1717   \n",
       "\n",
       "      Average-Time Solved_single_position Solved_single_candidate  \\\n",
       "319             14             Not solved                  Solved   \n",
       "550             16             Not solved                  Solved   \n",
       "596             16             Not solved                  Solved   \n",
       "750             15             Not solved                  Solved   \n",
       "754             16             Not solved                  Solved   \n",
       "762             12             Not solved                  Solved   \n",
       "855             14             Not solved                  Solved   \n",
       "1082            17             Not solved                  Solved   \n",
       "1401            15             Not solved                  Solved   \n",
       "1923            15             Not solved                  Solved   \n",
       "2237            13             Not solved                  Solved   \n",
       "2315            12             Not solved                  Solved   \n",
       "2342            15             Not solved                  Solved   \n",
       "2344            11             Not solved                  Solved   \n",
       "2589            14             Not solved                  Solved   \n",
       "2708            12             Not solved                  Solved   \n",
       "2979            16             Not solved                  Solved   \n",
       "3308            14             Not solved                  Solved   \n",
       "3450            15             Not solved                  Solved   \n",
       "3744            16             Not solved                  Solved   \n",
       "3800            15             Not solved                  Solved   \n",
       "4132            17             Not solved                  Solved   \n",
       "4581            15             Not solved                  Solved   \n",
       "\n",
       "     Solved_naked_twins Solved_naked_triple  \n",
       "319              Solved              Solved  \n",
       "550              Solved              Solved  \n",
       "596              Solved              Solved  \n",
       "750          Not solved              Solved  \n",
       "754          Not solved              Solved  \n",
       "762              Solved              Solved  \n",
       "855              Solved              Solved  \n",
       "1082             Solved              Solved  \n",
       "1401         Not solved              Solved  \n",
       "1923             Solved              Solved  \n",
       "2237             Solved              Solved  \n",
       "2315             Solved              Solved  \n",
       "2342         Not solved              Solved  \n",
       "2344             Solved              Solved  \n",
       "2589         Not solved              Solved  \n",
       "2708             Solved              Solved  \n",
       "2979             Solved              Solved  \n",
       "3308             Solved              Solved  \n",
       "3450             Solved              Solved  \n",
       "3744             Solved              Solved  \n",
       "3800             Solved              Solved  \n",
       "4132             Solved              Solved  \n",
       "4581             Solved              Solved  "
      ]
     },
     "execution_count": 12,
     "metadata": {},
     "output_type": "execute_result"
    }
   ],
   "source": [
    "df[(df['Solved_naked_triple']=='Solved')& (df['Solved_single_position']=='Not solved')]"
   ]
  },
  {
   "cell_type": "code",
   "execution_count": 18,
   "metadata": {},
   "outputs": [],
   "source": [
    "df['Solved']= df['Sudoku'].apply(lambda x: solve(x)[0])"
   ]
  },
  {
   "cell_type": "code",
   "execution_count": 19,
   "metadata": {},
   "outputs": [
    {
     "data": {
      "text/plain": [
       "Solved    5029\n",
       "Name: Solved, dtype: int64"
      ]
     },
     "execution_count": 19,
     "metadata": {},
     "output_type": "execute_result"
    }
   ],
   "source": [
    "df['Solved'].value_counts()"
   ]
  },
  {
   "cell_type": "code",
   "execution_count": 20,
   "metadata": {},
   "outputs": [
    {
     "data": {
      "text/html": [
       "<div>\n",
       "<style scoped>\n",
       "    .dataframe tbody tr th:only-of-type {\n",
       "        vertical-align: middle;\n",
       "    }\n",
       "\n",
       "    .dataframe tbody tr th {\n",
       "        vertical-align: top;\n",
       "    }\n",
       "\n",
       "    .dataframe thead th {\n",
       "        text-align: right;\n",
       "    }\n",
       "</style>\n",
       "<table border=\"1\" class=\"dataframe\">\n",
       "  <thead>\n",
       "    <tr style=\"text-align: right;\">\n",
       "      <th></th>\n",
       "      <th>Id</th>\n",
       "      <th>Sudoku</th>\n",
       "      <th>Solution</th>\n",
       "      <th>Level</th>\n",
       "      <th>People</th>\n",
       "      <th>Average-Time</th>\n",
       "      <th>Solved_single_position</th>\n",
       "      <th>Solved_single_candidate</th>\n",
       "      <th>Solved_naked_twins</th>\n",
       "      <th>Solved</th>\n",
       "    </tr>\n",
       "  </thead>\n",
       "  <tbody>\n",
       "    <tr>\n",
       "      <th>0</th>\n",
       "      <td>0</td>\n",
       "      <td>8...74...1.........7.5.9.4....65.4..73.....296...</td>\n",
       "      <td>8591742361648325973725698412916574837354186296...</td>\n",
       "      <td>Diabolical</td>\n",
       "      <td>254</td>\n",
       "      <td>25</td>\n",
       "      <td>Not solved</td>\n",
       "      <td>Not solved</td>\n",
       "      <td>Not solved</td>\n",
       "      <td>Solved</td>\n",
       "    </tr>\n",
       "    <tr>\n",
       "      <th>1</th>\n",
       "      <td>1</td>\n",
       "      <td>.5.....7.9......6...21.75.8.4..69.3...8...4......</td>\n",
       "      <td>8539461729175823644621375981458692376283754197...</td>\n",
       "      <td>Moderate</td>\n",
       "      <td>281</td>\n",
       "      <td>12</td>\n",
       "      <td>Not solved</td>\n",
       "      <td>Not solved</td>\n",
       "      <td>Not solved</td>\n",
       "      <td>Solved</td>\n",
       "    </tr>\n",
       "    <tr>\n",
       "      <th>2</th>\n",
       "      <td>2</td>\n",
       "      <td>...45.2..3.........8....4..7...94.3.9..5.2.76....</td>\n",
       "      <td>6974532183248617955819274637186945329435128762...</td>\n",
       "      <td>Diabolical</td>\n",
       "      <td>265</td>\n",
       "      <td>22</td>\n",
       "      <td>Not solved</td>\n",
       "      <td>Not solved</td>\n",
       "      <td>Not solved</td>\n",
       "      <td>Solved</td>\n",
       "    </tr>\n",
       "    <tr>\n",
       "      <th>3</th>\n",
       "      <td>3</td>\n",
       "      <td>9......31.3...8.....5.7.9..3...4...8.916..54.4...</td>\n",
       "      <td>9274568316341982758153729643527496187916835424...</td>\n",
       "      <td>Tough</td>\n",
       "      <td>279</td>\n",
       "      <td>19</td>\n",
       "      <td>Not solved</td>\n",
       "      <td>Not solved</td>\n",
       "      <td>Not solved</td>\n",
       "      <td>Solved</td>\n",
       "    </tr>\n",
       "    <tr>\n",
       "      <th>4</th>\n",
       "      <td>4</td>\n",
       "      <td>9.......2784.1.5.....4.....2.53.1.7...7...8......</td>\n",
       "      <td>9615387427846125395234796182953814761479568236...</td>\n",
       "      <td>Moderate</td>\n",
       "      <td>301</td>\n",
       "      <td>14</td>\n",
       "      <td>Not solved</td>\n",
       "      <td>Not solved</td>\n",
       "      <td>Not solved</td>\n",
       "      <td>Solved</td>\n",
       "    </tr>\n",
       "  </tbody>\n",
       "</table>\n",
       "</div>"
      ],
      "text/plain": [
       "   Id                                             Sudoku  \\\n",
       "0   0  8...74...1.........7.5.9.4....65.4..73.....296...   \n",
       "1   1  .5.....7.9......6...21.75.8.4..69.3...8...4......   \n",
       "2   2  ...45.2..3.........8....4..7...94.3.9..5.2.76....   \n",
       "3   3  9......31.3...8.....5.7.9..3...4...8.916..54.4...   \n",
       "4   4  9.......2784.1.5.....4.....2.53.1.7...7...8......   \n",
       "\n",
       "                                            Solution       Level  People  \\\n",
       "0  8591742361648325973725698412916574837354186296...  Diabolical     254   \n",
       "1  8539461729175823644621375981458692376283754197...    Moderate     281   \n",
       "2  6974532183248617955819274637186945329435128762...  Diabolical     265   \n",
       "3  9274568316341982758153729643527496187916835424...       Tough     279   \n",
       "4  9615387427846125395234796182953814761479568236...    Moderate     301   \n",
       "\n",
       "   Average-Time Solved_single_position Solved_single_candidate  \\\n",
       "0            25             Not solved              Not solved   \n",
       "1            12             Not solved              Not solved   \n",
       "2            22             Not solved              Not solved   \n",
       "3            19             Not solved              Not solved   \n",
       "4            14             Not solved              Not solved   \n",
       "\n",
       "  Solved_naked_twins  Solved  \n",
       "0         Not solved  Solved  \n",
       "1         Not solved  Solved  \n",
       "2         Not solved  Solved  \n",
       "3         Not solved  Solved  \n",
       "4         Not solved  Solved  "
      ]
     },
     "execution_count": 20,
     "metadata": {},
     "output_type": "execute_result"
    }
   ],
   "source": [
    "df.head()"
   ]
  },
  {
   "cell_type": "code",
   "execution_count": 21,
   "metadata": {},
   "outputs": [
    {
     "name": "stdout",
     "output_type": "stream",
     "text": [
      "8 5 9 |1 7 4 |2 3 6 \n",
      "1 6 4 |8 3 2 |5 9 7 \n",
      "3 7 2 |5 6 9 |8 4 1 \n",
      "------+------+------\n",
      "2 9 1 |6 5 7 |4 8 3 \n",
      "7 3 5 |4 1 8 |6 2 9 \n",
      "6 4 8 |2 9 3 |1 7 5 \n",
      "------+------+------\n",
      "9 2 6 |3 8 1 |7 5 4 \n",
      "4 1 3 |7 2 5 |9 6 8 \n",
      "5 8 7 |9 4 6 |3 1 2 \n"
     ]
    }
   ],
   "source": [
    "display(solve(df['Sudoku'][0])[1])"
   ]
  },
  {
   "cell_type": "code",
   "execution_count": 22,
   "metadata": {},
   "outputs": [
    {
     "name": "stdout",
     "output_type": "stream",
     "text": [
      "8 5 3 |9 4 6 |1 7 2 \n",
      "9 1 7 |5 8 2 |3 6 4 \n",
      "4 6 2 |1 3 7 |5 9 8 \n",
      "------+------+------\n",
      "1 4 5 |8 6 9 |2 3 7 \n",
      "6 2 8 |3 7 5 |4 1 9 \n",
      "7 3 9 |4 2 1 |8 5 6 \n",
      "------+------+------\n",
      "3 7 1 |2 9 8 |6 4 5 \n",
      "2 9 4 |6 5 3 |7 8 1 \n",
      "5 8 6 |7 1 4 |9 2 3 \n"
     ]
    }
   ],
   "source": [
    "display(solve(df['Sudoku'][1])[1])"
   ]
  },
  {
   "cell_type": "code",
   "execution_count": 23,
   "metadata": {},
   "outputs": [
    {
     "data": {
      "text/plain": [
       "'.5.....7.9......6...21.75.8.4..69.3...8...4...3.42..5.3.12.86...9......1.8.....2.'"
      ]
     },
     "execution_count": 23,
     "metadata": {},
     "output_type": "execute_result"
    }
   ],
   "source": [
    "df['Sudoku'][1]"
   ]
  },
  {
   "cell_type": "code",
   "execution_count": 28,
   "metadata": {},
   "outputs": [],
   "source": [
    "test='.5.....7.9......6...21.75.8.4..69.3...8...4...3.42..5.3.12.86...9......1.8.....2.'"
   ]
  },
  {
   "cell_type": "code",
   "execution_count": 30,
   "metadata": {},
   "outputs": [
    {
     "data": {
      "text/plain": [
       "'853946172917582364462137598145869237628375419739421856371298645294653781586714923'"
      ]
     },
     "execution_count": 30,
     "metadata": {},
     "output_type": "execute_result"
    }
   ],
   "source": [
    "solve(test)[1]"
   ]
  },
  {
   "cell_type": "code",
   "execution_count": 34,
   "metadata": {},
   "outputs": [],
   "source": [
    "a=solve(test)[1]"
   ]
  },
  {
   "cell_type": "code",
   "execution_count": 35,
   "metadata": {},
   "outputs": [
    {
     "name": "stdout",
     "output_type": "stream",
     "text": [
      "8 5 3 |9 4 6 |1 7 2 \n",
      "9 1 7 |5 8 2 |3 6 4 \n",
      "4 6 2 |1 3 7 |5 9 8 \n",
      "------+------+------\n",
      "1 4 5 |8 6 9 |2 3 7 \n",
      "6 2 8 |3 7 5 |4 1 9 \n",
      "7 3 9 |4 2 1 |8 5 6 \n",
      "------+------+------\n",
      "3 7 1 |2 9 8 |6 4 5 \n",
      "2 9 4 |6 5 3 |7 8 1 \n",
      "5 8 6 |7 1 4 |9 2 3 \n",
      "\n"
     ]
    }
   ],
   "source": [
    "display(a)"
   ]
  },
  {
   "cell_type": "code",
   "execution_count": 65,
   "metadata": {},
   "outputs": [],
   "source": [
    "df['Sudoku'][4]\n",
    "#test2 = '.5.....7.9......6...21.75.8.4..69.3...8...4...3.42..5.3.12.86...9......1.8.....2.'\n",
    "test2='9.......2784.1.5.....4.....2.53.1.7...7...8...3.2.79.1.....3.....2.6.1958.......4'"
   ]
  },
  {
   "cell_type": "code",
   "execution_count": 70,
   "metadata": {},
   "outputs": [],
   "source": [
    "rows = 'ABCDEFGHI'\n",
    "cols = '123456789'\n",
    "\n",
    "boxes = [s+t for s in rows for t in cols]\n",
    "row_units = [[s+t for s in r for t in cols] for r in rows]\n",
    "column_units = [[s+t for s in rows for t in c] for c in cols]\n",
    "square_units = [[s+t for s in rs for t in cs]for rs in ('ABC','DEF','GHI') for cs in ('123','456','789')]\n",
    "unitlist = row_units + column_units + square_units\n",
    "units = dict((s, [u for u in unitlist if s in u]) for s in boxes)\n",
    "peers = dict((s, set(sum(units[s],[]))-set([s])) for s in boxes)\n",
    "valuesg = dict(zip(boxes,[\".\" if element == \".\" else element for element in test3]))             "
   ]
  },
  {
   "cell_type": "code",
   "execution_count": 73,
   "metadata": {},
   "outputs": [
    {
     "name": "stdout",
     "output_type": "stream",
     "text": [
      "[]\n",
      "[]\n",
      "[]\n",
      "[]\n",
      "['14', '14']\n",
      "[]\n",
      "[]\n",
      "[]\n",
      "[]\n",
      "[]\n",
      "[]\n",
      "[]\n",
      "[]\n",
      "[]\n",
      "[]\n",
      "[]\n",
      "[]\n",
      "[]\n",
      "[]\n",
      "[]\n",
      "[]\n",
      "[]\n",
      "['14', '14']\n",
      "[]\n",
      "[]\n",
      "[]\n",
      "[]\n"
     ]
    }
   ],
   "source": [
    "values = solve_technique(test3,\"naked_twins\")[1]\n",
    "for unit in unitlist:\n",
    "    twins = [v for v in [values[box] for box in unit] if [values[box] for box in unit].count(v) == 2 and len(v) == 2]\n",
    "    print(twins)"
   ]
  },
  {
   "cell_type": "code",
   "execution_count": 75,
   "metadata": {},
   "outputs": [
    {
     "name": "stdout",
     "output_type": "stream",
     "text": [
      "   8     569    2369 |   12     7      4   | 12359   1369   1356 \n",
      "   1     4569  23469 |   28    2368   236  | 235789 36789   3567 \n",
      "   23     7     236  |   5    12368    9   |  1238    4     136  \n",
      "---------------------+---------------------+---------------------\n",
      "   29     19    129  |   6      5     237  |   4     1378   137  \n",
      "   7      3      5   |   14     14     8   |   6      2      9   \n",
      "   6     149     8   |   27    239    237  |  1357   137    1357 \n",
      "---------------------+---------------------+---------------------\n",
      "   49     2     4679 |   3     468     1   |   79     5     467  \n",
      "  3459  14569  134679|  247    246    2567 |  1379  13679    8   \n",
      "  345   14568  13467 |   9     468    567  |  137    1367    2   \n",
      "\n"
     ]
    }
   ],
   "source": [
    "display(values)"
   ]
  },
  {
   "cell_type": "code",
   "execution_count": 124,
   "metadata": {},
   "outputs": [
    {
     "name": "stdout",
     "output_type": "stream",
     "text": [
      "['A4', 'B4', 'C1', 'D1', 'D2', 'E4', 'E5', 'F4', 'G1', 'G7']\n"
     ]
    }
   ],
   "source": [
    "parejas=[]\n",
    "for box in boxes:\n",
    "    if len(values[box]) is 2:\n",
    "        parejas.append(box)\n",
    "print(parejas)"
   ]
  },
  {
   "cell_type": "code",
   "execution_count": 95,
   "metadata": {},
   "outputs": [
    {
     "name": "stdout",
     "output_type": "stream",
     "text": [
      "['A4', 'B4', 'C4', 'D4', 'E4', 'F4', 'G4', 'H4', 'I4']\n"
     ]
    }
   ],
   "source": [
    "for column in column_units:\n",
    "    if 'A4' in column:\n",
    "        print(column)"
   ]
  },
  {
   "cell_type": "code",
   "execution_count": 3,
   "metadata": {},
   "outputs": [
    {
     "data": {
      "text/plain": [
       "('Ivalid Sudoku, check these values:', [False, '2', 'I9'])"
      ]
     },
     "execution_count": 3,
     "metadata": {},
     "output_type": "execute_result"
    }
   ],
   "source": [
    "# len(validator(valuesg))\n",
    "solve(test2)"
   ]
  },
  {
   "cell_type": "code",
   "execution_count": 203,
   "metadata": {},
   "outputs": [
    {
     "name": "stdout",
     "output_type": "stream",
     "text": [
      ". 5 5 |. . . |. 7 . \n",
      "9 . . |. . . |. 6 . \n",
      ". . 2 |1 . 7 |5 . 8 \n",
      "------+------+------\n",
      ". 4 . |. 6 9 |. 3 . \n",
      ". . 8 |. . . |4 . . \n",
      ". 3 . |4 2 . |. 5 . \n",
      "------+------+------\n",
      "3 . 1 |2 . 8 |6 . . \n",
      ". 9 . |. . . |. . 1 \n",
      ". 8 . |. . . |. 2 . \n"
     ]
    }
   ],
   "source": [
    "display(values)"
   ]
  },
  {
   "cell_type": "code",
   "execution_count": 59,
   "metadata": {},
   "outputs": [],
   "source": [
    "# def checker(grid):\n",
    "    \n",
    "#     rows = 'ABCDEFGHI'\n",
    "#     cols = '123456789'\n",
    "\n",
    "#     boxes = [s+t for s in rows for t in cols]\n",
    "#     values_grid = dict(zip(boxes, [\".\" if element == \".\" else element for element in grid]))\n",
    "#     row_units = [[s+t for s in r for t in cols] for r in rows]\n",
    "#     column_units = [[s+t for s in rows for t in c] for c in cols]\n",
    "#     square_units = [[s+t for s in rs for t in cs]for rs in ('ABC','DEF','GHI') for cs in ('123','456','789')]\n",
    "#     unitlist = row_units + column_units + square_units\n",
    "#     units = dict((s, [u for u in unitlist if s in u]) for s in boxes)\n",
    "#     peers = dict((s, set(sum(units[s],[]))-set([s])) for s in boxes)\n",
    "    \n",
    "# #     print(values_grid.keys())\n",
    "# #     print('hiiiiiiiii',row_units)\n",
    "#     if 'A1' in row_units:\n",
    "#         print(row_units)\n",
    "\n",
    "# #     for a in values_grid.values():\n",
    "# #         if a == '.':\n",
    "# #             print('no')\n",
    "# #         else:\n",
    "# #             if a in values_grid[a]:\n",
    "# #                 print('yes')\n"
   ]
  },
  {
   "cell_type": "code",
   "execution_count": 34,
   "metadata": {},
   "outputs": [],
   "source": [
    "def split(element): \n",
    "    return [char for char in element]  \n",
    "\n",
    "def transform_matrix(element):\n",
    "  return np.reshape(split(element), (-1, 9))"
   ]
  },
  {
   "cell_type": "code",
   "execution_count": 48,
   "metadata": {},
   "outputs": [
    {
     "data": {
      "text/plain": [
       "array([['.', '5', '.', '.', '.', '.', '.', '7', '.'],\n",
       "       ['9', '.', '.', '.', '.', '.', '.', '6', '.'],\n",
       "       ['.', '.', '2', '1', '.', '7', '5', '.', '8'],\n",
       "       ['.', '4', '.', '.', '6', '9', '.', '3', '.'],\n",
       "       ['.', '.', '8', '.', '.', '.', '4', '.', '.'],\n",
       "       ['.', '3', '.', '4', '2', '.', '.', '5', '.'],\n",
       "       ['3', '.', '1', '2', '.', '8', '6', '.', '.'],\n",
       "       ['.', '9', '.', '.', '.', '.', '.', '.', '1'],\n",
       "       ['.', '8', '.', '.', '.', '.', '.', '2', '.']], dtype='<U1')"
      ]
     },
     "execution_count": 48,
     "metadata": {},
     "output_type": "execute_result"
    }
   ],
   "source": [
    "transform_matrix(test_wrong)"
   ]
  },
  {
   "cell_type": "code",
   "execution_count": 35,
   "metadata": {},
   "outputs": [
    {
     "data": {
      "text/plain": [
       "array([['.', '5', '.', '.', '.', '.', '.', '7', '.'],\n",
       "       ['9', '.', '.', '.', '.', '.', '.', '6', '.'],\n",
       "       ['.', '.', '2', '1', '.', '7', '5', '.', '8'],\n",
       "       ['.', '4', '.', '.', '6', '9', '.', '3', '.'],\n",
       "       ['.', '.', '8', '.', '.', '.', '4', '.', '.'],\n",
       "       ['.', '3', '.', '4', '2', '.', '.', '5', '.'],\n",
       "       ['3', '.', '1', '2', '.', '8', '6', '.', '.'],\n",
       "       ['.', '9', '.', '.', '.', '.', '.', '.', '1'],\n",
       "       ['.', '8', '.', '.', '.', '.', '.', '2', '.']], dtype='<U1')"
      ]
     },
     "execution_count": 35,
     "metadata": {},
     "output_type": "execute_result"
    }
   ],
   "source": [
    "transform_matrix(test2)"
   ]
  },
  {
   "cell_type": "code",
   "execution_count": null,
   "metadata": {},
   "outputs": [],
   "source": []
  }
 ],
 "metadata": {
  "kernelspec": {
   "display_name": "conda_python3",
   "language": "python",
   "name": "conda_python3"
  },
  "language_info": {
   "codemirror_mode": {
    "name": "ipython",
    "version": 3
   },
   "file_extension": ".py",
   "mimetype": "text/x-python",
   "name": "python",
   "nbconvert_exporter": "python",
   "pygments_lexer": "ipython3",
   "version": "3.6.5"
  }
 },
 "nbformat": 4,
 "nbformat_minor": 4
}
