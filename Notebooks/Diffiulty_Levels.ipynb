{
 "cells": [
  {
   "cell_type": "code",
   "execution_count": 69,
   "metadata": {},
   "outputs": [],
   "source": [
    "from ai import Sudoku\n",
    "import pandas as pd\n",
    "import numpy as np"
   ]
  },
  {
   "cell_type": "code",
   "execution_count": 70,
   "metadata": {},
   "outputs": [
    {
     "data": {
      "text/html": [
       "<div>\n",
       "<style scoped>\n",
       "    .dataframe tbody tr th:only-of-type {\n",
       "        vertical-align: middle;\n",
       "    }\n",
       "\n",
       "    .dataframe tbody tr th {\n",
       "        vertical-align: top;\n",
       "    }\n",
       "\n",
       "    .dataframe thead th {\n",
       "        text-align: right;\n",
       "    }\n",
       "</style>\n",
       "<table border=\"1\" class=\"dataframe\">\n",
       "  <thead>\n",
       "    <tr style=\"text-align: right;\">\n",
       "      <th></th>\n",
       "      <th>Id</th>\n",
       "      <th>Sudoku</th>\n",
       "      <th>Solution</th>\n",
       "      <th>Level</th>\n",
       "      <th>People</th>\n",
       "      <th>Average-Time</th>\n",
       "    </tr>\n",
       "  </thead>\n",
       "  <tbody>\n",
       "    <tr>\n",
       "      <th>0</th>\n",
       "      <td>0</td>\n",
       "      <td>8...74...1.........7.5.9.4....65.4..73.....296...</td>\n",
       "      <td>8591742361648325973725698412916574837354186296...</td>\n",
       "      <td>Diabolical</td>\n",
       "      <td>254</td>\n",
       "      <td>25</td>\n",
       "    </tr>\n",
       "    <tr>\n",
       "      <th>1</th>\n",
       "      <td>1</td>\n",
       "      <td>.5.....7.9......6...21.75.8.4..69.3...8...4......</td>\n",
       "      <td>8539461729175823644621375981458692376283754197...</td>\n",
       "      <td>Moderate</td>\n",
       "      <td>281</td>\n",
       "      <td>12</td>\n",
       "    </tr>\n",
       "    <tr>\n",
       "      <th>2</th>\n",
       "      <td>2</td>\n",
       "      <td>...45.2..3.........8....4..7...94.3.9..5.2.76....</td>\n",
       "      <td>6974532183248617955819274637186945329435128762...</td>\n",
       "      <td>Diabolical</td>\n",
       "      <td>265</td>\n",
       "      <td>22</td>\n",
       "    </tr>\n",
       "    <tr>\n",
       "      <th>3</th>\n",
       "      <td>3</td>\n",
       "      <td>9......31.3...8.....5.7.9..3...4...8.916..54.4...</td>\n",
       "      <td>9274568316341982758153729643527496187916835424...</td>\n",
       "      <td>Tough</td>\n",
       "      <td>279</td>\n",
       "      <td>19</td>\n",
       "    </tr>\n",
       "    <tr>\n",
       "      <th>4</th>\n",
       "      <td>4</td>\n",
       "      <td>9.......2784.1.5.....4.....2.53.1.7...7...8......</td>\n",
       "      <td>9615387427846125395234796182953814761479568236...</td>\n",
       "      <td>Moderate</td>\n",
       "      <td>301</td>\n",
       "      <td>14</td>\n",
       "    </tr>\n",
       "  </tbody>\n",
       "</table>\n",
       "</div>"
      ],
      "text/plain": [
       "   Id                                             Sudoku  \\\n",
       "0   0  8...74...1.........7.5.9.4....65.4..73.....296...   \n",
       "1   1  .5.....7.9......6...21.75.8.4..69.3...8...4......   \n",
       "2   2  ...45.2..3.........8....4..7...94.3.9..5.2.76....   \n",
       "3   3  9......31.3...8.....5.7.9..3...4...8.916..54.4...   \n",
       "4   4  9.......2784.1.5.....4.....2.53.1.7...7...8......   \n",
       "\n",
       "                                            Solution       Level  People  \\\n",
       "0  8591742361648325973725698412916574837354186296...  Diabolical     254   \n",
       "1  8539461729175823644621375981458692376283754197...    Moderate     281   \n",
       "2  6974532183248617955819274637186945329435128762...  Diabolical     265   \n",
       "3  9274568316341982758153729643527496187916835424...       Tough     279   \n",
       "4  9615387427846125395234796182953814761479568236...    Moderate     301   \n",
       "\n",
       "   Average-Time  \n",
       "0            25  \n",
       "1            12  \n",
       "2            22  \n",
       "3            19  \n",
       "4            14  "
      ]
     },
     "execution_count": 70,
     "metadata": {},
     "output_type": "execute_result"
    }
   ],
   "source": [
    "df = pd.read_csv('data/dataset.csv').drop('Unnamed: 0', axis=1)\n",
    "df.head()"
   ]
  },
  {
   "cell_type": "code",
   "execution_count": 72,
   "metadata": {},
   "outputs": [],
   "source": [
    "df['Solved_single_position'] = df['Sudoku'].apply(lambda x: Sudoku(x, 'single_position').solve()[0])\n",
    "df['Solved_single_candidate'] = df['Sudoku'].apply(lambda x: Sudoku(x, 'single_candidate').solve()[0])"
   ]
  },
  {
   "cell_type": "code",
   "execution_count": 73,
   "metadata": {},
   "outputs": [
    {
     "data": {
      "text/html": [
       "<div>\n",
       "<style scoped>\n",
       "    .dataframe tbody tr th:only-of-type {\n",
       "        vertical-align: middle;\n",
       "    }\n",
       "\n",
       "    .dataframe tbody tr th {\n",
       "        vertical-align: top;\n",
       "    }\n",
       "\n",
       "    .dataframe thead th {\n",
       "        text-align: right;\n",
       "    }\n",
       "</style>\n",
       "<table border=\"1\" class=\"dataframe\">\n",
       "  <thead>\n",
       "    <tr style=\"text-align: right;\">\n",
       "      <th></th>\n",
       "      <th>Id</th>\n",
       "      <th>Sudoku</th>\n",
       "      <th>Solution</th>\n",
       "      <th>Level</th>\n",
       "      <th>People</th>\n",
       "      <th>Average-Time</th>\n",
       "      <th>Solved_single_position</th>\n",
       "      <th>Solved_single_candidate</th>\n",
       "    </tr>\n",
       "  </thead>\n",
       "  <tbody>\n",
       "    <tr>\n",
       "      <th>0</th>\n",
       "      <td>0</td>\n",
       "      <td>8...74...1.........7.5.9.4....65.4..73.....296...</td>\n",
       "      <td>8591742361648325973725698412916574837354186296...</td>\n",
       "      <td>Diabolical</td>\n",
       "      <td>254</td>\n",
       "      <td>25</td>\n",
       "      <td>Not solved</td>\n",
       "      <td>Not solved</td>\n",
       "    </tr>\n",
       "    <tr>\n",
       "      <th>1</th>\n",
       "      <td>1</td>\n",
       "      <td>.5.....7.9......6...21.75.8.4..69.3...8...4......</td>\n",
       "      <td>8539461729175823644621375981458692376283754197...</td>\n",
       "      <td>Moderate</td>\n",
       "      <td>281</td>\n",
       "      <td>12</td>\n",
       "      <td>Not solved</td>\n",
       "      <td>Not solved</td>\n",
       "    </tr>\n",
       "    <tr>\n",
       "      <th>2</th>\n",
       "      <td>2</td>\n",
       "      <td>...45.2..3.........8....4..7...94.3.9..5.2.76....</td>\n",
       "      <td>6974532183248617955819274637186945329435128762...</td>\n",
       "      <td>Diabolical</td>\n",
       "      <td>265</td>\n",
       "      <td>22</td>\n",
       "      <td>Not solved</td>\n",
       "      <td>Not solved</td>\n",
       "    </tr>\n",
       "    <tr>\n",
       "      <th>3</th>\n",
       "      <td>3</td>\n",
       "      <td>9......31.3...8.....5.7.9..3...4...8.916..54.4...</td>\n",
       "      <td>9274568316341982758153729643527496187916835424...</td>\n",
       "      <td>Tough</td>\n",
       "      <td>279</td>\n",
       "      <td>19</td>\n",
       "      <td>Not solved</td>\n",
       "      <td>Not solved</td>\n",
       "    </tr>\n",
       "    <tr>\n",
       "      <th>4</th>\n",
       "      <td>4</td>\n",
       "      <td>9.......2784.1.5.....4.....2.53.1.7...7...8......</td>\n",
       "      <td>9615387427846125395234796182953814761479568236...</td>\n",
       "      <td>Moderate</td>\n",
       "      <td>301</td>\n",
       "      <td>14</td>\n",
       "      <td>Not solved</td>\n",
       "      <td>Not solved</td>\n",
       "    </tr>\n",
       "  </tbody>\n",
       "</table>\n",
       "</div>"
      ],
      "text/plain": [
       "   Id                                             Sudoku  \\\n",
       "0   0  8...74...1.........7.5.9.4....65.4..73.....296...   \n",
       "1   1  .5.....7.9......6...21.75.8.4..69.3...8...4......   \n",
       "2   2  ...45.2..3.........8....4..7...94.3.9..5.2.76....   \n",
       "3   3  9......31.3...8.....5.7.9..3...4...8.916..54.4...   \n",
       "4   4  9.......2784.1.5.....4.....2.53.1.7...7...8......   \n",
       "\n",
       "                                            Solution       Level  People  \\\n",
       "0  8591742361648325973725698412916574837354186296...  Diabolical     254   \n",
       "1  8539461729175823644621375981458692376283754197...    Moderate     281   \n",
       "2  6974532183248617955819274637186945329435128762...  Diabolical     265   \n",
       "3  9274568316341982758153729643527496187916835424...       Tough     279   \n",
       "4  9615387427846125395234796182953814761479568236...    Moderate     301   \n",
       "\n",
       "   Average-Time Solved_single_position Solved_single_candidate  \n",
       "0            25             Not solved              Not solved  \n",
       "1            12             Not solved              Not solved  \n",
       "2            22             Not solved              Not solved  \n",
       "3            19             Not solved              Not solved  \n",
       "4            14             Not solved              Not solved  "
      ]
     },
     "execution_count": 73,
     "metadata": {},
     "output_type": "execute_result"
    }
   ],
   "source": [
    "df.head()"
   ]
  },
  {
   "cell_type": "code",
   "execution_count": 74,
   "metadata": {},
   "outputs": [
    {
     "data": {
      "text/plain": [
       "Not solved    4813\n",
       "Solved         216\n",
       "Name: Solved_single_position, dtype: int64"
      ]
     },
     "execution_count": 74,
     "metadata": {},
     "output_type": "execute_result"
    }
   ],
   "source": [
    "df['Solved_single_position'].value_counts()"
   ]
  },
  {
   "cell_type": "code",
   "execution_count": 75,
   "metadata": {},
   "outputs": [
    {
     "data": {
      "text/plain": [
       "Not solved    4813\n",
       "Solved         216\n",
       "Name: Solved_single_candidate, dtype: int64"
      ]
     },
     "execution_count": 75,
     "metadata": {},
     "output_type": "execute_result"
    }
   ],
   "source": [
    "df['Solved_single_candidate'].value_counts()"
   ]
  },
  {
   "cell_type": "code",
   "execution_count": 76,
   "metadata": {},
   "outputs": [
    {
     "name": "stdout",
     "output_type": "stream",
     "text": [
      "Gentle      214\n",
      "Moderate      2\n",
      "Name: Level, dtype: int64\n"
     ]
    }
   ],
   "source": [
    "solved_position = df[df['Solved_single_position']=='Solved']['Level'].value_counts()\n",
    "print(solved_position)"
   ]
  },
  {
   "cell_type": "code",
   "execution_count": 77,
   "metadata": {},
   "outputs": [
    {
     "name": "stdout",
     "output_type": "stream",
     "text": [
      "Gentle      214\n",
      "Moderate      2\n",
      "Name: Level, dtype: int64\n"
     ]
    }
   ],
   "source": [
    "solved_candidate = df[df['Solved_single_candidate']=='Solved']['Level'].value_counts()\n",
    "print(solved_candidate)"
   ]
  },
  {
   "cell_type": "code",
   "execution_count": 78,
   "metadata": {},
   "outputs": [],
   "source": [
    "# answer, new, recursions  = Sudoku(df['Sudoku'][0], 'single_position').solve()"
   ]
  },
  {
   "cell_type": "code",
   "execution_count": 79,
   "metadata": {},
   "outputs": [],
   "source": [
    "# convert = \"\".join([value if len(value) == 1 else \".\" for value in new.values()])"
   ]
  },
  {
   "cell_type": "code",
   "execution_count": 80,
   "metadata": {},
   "outputs": [],
   "source": [
    "# print(new)\n",
    "# print(convert)"
   ]
  },
  {
   "cell_type": "code",
   "execution_count": 81,
   "metadata": {},
   "outputs": [
    {
     "data": {
      "text/plain": [
       "'..7..34....17528......8.....4.5...3.1.2...5.8.5...8.1.....3......68912....82..6..'"
      ]
     },
     "execution_count": 81,
     "metadata": {},
     "output_type": "execute_result"
    }
   ],
   "source": [
    "df['Sudoku'].iloc[13]"
   ]
  },
  {
   "cell_type": "code",
   "execution_count": 82,
   "metadata": {},
   "outputs": [
    {
     "data": {
      "text/plain": [
       "'.48....7...........732.651.7..4.5...3...7...8...8.3..5.541.736...........1....25.'"
      ]
     },
     "execution_count": 82,
     "metadata": {},
     "output_type": "execute_result"
    }
   ],
   "source": [
    "df['Sudoku'].iloc[4686]"
   ]
  },
  {
   "cell_type": "code",
   "execution_count": 83,
   "metadata": {},
   "outputs": [],
   "source": [
    "# df['answer'], df['sudoku2'], df['iterations'] = df['Sudoku'].apply(lambda x: Sudoku(x,'single_candidate').solve())"
   ]
  }
 ],
 "metadata": {
  "kernelspec": {
   "display_name": "conda_tensorflow_p36",
   "language": "python",
   "name": "conda_tensorflow_p36"
  },
  "language_info": {
   "codemirror_mode": {
    "name": "ipython",
    "version": 3
   },
   "file_extension": ".py",
   "mimetype": "text/x-python",
   "name": "python",
   "nbconvert_exporter": "python",
   "pygments_lexer": "ipython3",
   "version": "3.6.5"
  }
 },
 "nbformat": 4,
 "nbformat_minor": 4
}
