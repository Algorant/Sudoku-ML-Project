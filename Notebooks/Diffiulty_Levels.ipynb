{
 "cells": [
  {
   "cell_type": "code",
   "execution_count": 1,
   "metadata": {},
   "outputs": [],
   "source": [
    "from main import *\n",
    "from ai import *\n",
    "import pandas as pd\n",
    "import numpy as np"
   ]
  },
  {
   "cell_type": "code",
   "execution_count": 3,
   "metadata": {},
   "outputs": [
    {
     "data": {
      "text/plain": [
       "('Ivalid Sudoku, check these values:', ['2', 'I8'], ['2', 'I9'])"
      ]
     },
     "execution_count": 3,
     "metadata": {},
     "output_type": "execute_result"
    }
   ],
   "source": [
    "test2 = '.5.....7.9......6...21.75.8.4..69.3...8...4...3.42..5.3.12.86...9......1.8.....22'\n",
    "solve(test2)"
   ]
  },
  {
   "cell_type": "code",
   "execution_count": 2,
   "metadata": {},
   "outputs": [],
   "source": [
    "# import sys\n",
    "# sys.setrecursionlimit(1500)"
   ]
  },
  {
   "cell_type": "code",
   "execution_count": 3,
   "metadata": {},
   "outputs": [
    {
     "data": {
      "text/html": [
       "<div>\n",
       "<style scoped>\n",
       "    .dataframe tbody tr th:only-of-type {\n",
       "        vertical-align: middle;\n",
       "    }\n",
       "\n",
       "    .dataframe tbody tr th {\n",
       "        vertical-align: top;\n",
       "    }\n",
       "\n",
       "    .dataframe thead th {\n",
       "        text-align: right;\n",
       "    }\n",
       "</style>\n",
       "<table border=\"1\" class=\"dataframe\">\n",
       "  <thead>\n",
       "    <tr style=\"text-align: right;\">\n",
       "      <th></th>\n",
       "      <th>Id</th>\n",
       "      <th>Sudoku</th>\n",
       "      <th>Solution</th>\n",
       "      <th>Level</th>\n",
       "      <th>People</th>\n",
       "      <th>Average-Time</th>\n",
       "    </tr>\n",
       "  </thead>\n",
       "  <tbody>\n",
       "    <tr>\n",
       "      <th>0</th>\n",
       "      <td>0</td>\n",
       "      <td>8...74...1.........7.5.9.4....65.4..73.....296...</td>\n",
       "      <td>8591742361648325973725698412916574837354186296...</td>\n",
       "      <td>Diabolical</td>\n",
       "      <td>254</td>\n",
       "      <td>25</td>\n",
       "    </tr>\n",
       "    <tr>\n",
       "      <th>1</th>\n",
       "      <td>1</td>\n",
       "      <td>.5.....7.9......6...21.75.8.4..69.3...8...4......</td>\n",
       "      <td>8539461729175823644621375981458692376283754197...</td>\n",
       "      <td>Moderate</td>\n",
       "      <td>281</td>\n",
       "      <td>12</td>\n",
       "    </tr>\n",
       "    <tr>\n",
       "      <th>2</th>\n",
       "      <td>2</td>\n",
       "      <td>...45.2..3.........8....4..7...94.3.9..5.2.76....</td>\n",
       "      <td>6974532183248617955819274637186945329435128762...</td>\n",
       "      <td>Diabolical</td>\n",
       "      <td>265</td>\n",
       "      <td>22</td>\n",
       "    </tr>\n",
       "    <tr>\n",
       "      <th>3</th>\n",
       "      <td>3</td>\n",
       "      <td>9......31.3...8.....5.7.9..3...4...8.916..54.4...</td>\n",
       "      <td>9274568316341982758153729643527496187916835424...</td>\n",
       "      <td>Tough</td>\n",
       "      <td>279</td>\n",
       "      <td>19</td>\n",
       "    </tr>\n",
       "    <tr>\n",
       "      <th>4</th>\n",
       "      <td>4</td>\n",
       "      <td>9.......2784.1.5.....4.....2.53.1.7...7...8......</td>\n",
       "      <td>9615387427846125395234796182953814761479568236...</td>\n",
       "      <td>Moderate</td>\n",
       "      <td>301</td>\n",
       "      <td>14</td>\n",
       "    </tr>\n",
       "  </tbody>\n",
       "</table>\n",
       "</div>"
      ],
      "text/plain": [
       "   Id                                             Sudoku  \\\n",
       "0   0  8...74...1.........7.5.9.4....65.4..73.....296...   \n",
       "1   1  .5.....7.9......6...21.75.8.4..69.3...8...4......   \n",
       "2   2  ...45.2..3.........8....4..7...94.3.9..5.2.76....   \n",
       "3   3  9......31.3...8.....5.7.9..3...4...8.916..54.4...   \n",
       "4   4  9.......2784.1.5.....4.....2.53.1.7...7...8......   \n",
       "\n",
       "                                            Solution       Level  People  \\\n",
       "0  8591742361648325973725698412916574837354186296...  Diabolical     254   \n",
       "1  8539461729175823644621375981458692376283754197...    Moderate     281   \n",
       "2  6974532183248617955819274637186945329435128762...  Diabolical     265   \n",
       "3  9274568316341982758153729643527496187916835424...       Tough     279   \n",
       "4  9615387427846125395234796182953814761479568236...    Moderate     301   \n",
       "\n",
       "   Average-Time  \n",
       "0            25  \n",
       "1            12  \n",
       "2            22  \n",
       "3            19  \n",
       "4            14  "
      ]
     },
     "execution_count": 3,
     "metadata": {},
     "output_type": "execute_result"
    }
   ],
   "source": [
    "df = pd.read_csv('data/dataset.csv').drop('Unnamed: 0', axis=1)\n",
    "df.head()"
   ]
  },
  {
   "cell_type": "code",
   "execution_count": 4,
   "metadata": {},
   "outputs": [
    {
     "data": {
      "text/plain": [
       "'Not solved'"
      ]
     },
     "execution_count": 4,
     "metadata": {},
     "output_type": "execute_result"
    }
   ],
   "source": [
    "#solve(df['Sudoku'][0])\n",
    "solve_technique(df['Sudoku'][0],'single_position')[0]"
   ]
  },
  {
   "cell_type": "code",
   "execution_count": 5,
   "metadata": {},
   "outputs": [
    {
     "data": {
      "text/plain": [
       "'Not solved'"
      ]
     },
     "execution_count": 5,
     "metadata": {},
     "output_type": "execute_result"
    }
   ],
   "source": [
    "solve_technique(df['Sudoku'][0],'single_candidate')[0]"
   ]
  },
  {
   "cell_type": "code",
   "execution_count": 6,
   "metadata": {},
   "outputs": [
    {
     "data": {
      "text/plain": [
       "'Not solved'"
      ]
     },
     "execution_count": 6,
     "metadata": {},
     "output_type": "execute_result"
    }
   ],
   "source": [
    "solve_technique(df['Sudoku'][0],'naked_twins')[0]"
   ]
  },
  {
   "cell_type": "code",
   "execution_count": 7,
   "metadata": {
    "collapsed": true,
    "jupyter": {
     "outputs_hidden": true
    }
   },
   "outputs": [
    {
     "data": {
      "text/plain": [
       "('Solved',\n",
       " {'A1': '8',\n",
       "  'A2': '5',\n",
       "  'A3': '9',\n",
       "  'A4': '1',\n",
       "  'A5': '7',\n",
       "  'A6': '4',\n",
       "  'A7': '2',\n",
       "  'A8': '3',\n",
       "  'A9': '6',\n",
       "  'B1': '1',\n",
       "  'B2': '6',\n",
       "  'B3': '4',\n",
       "  'B4': '8',\n",
       "  'B5': '3',\n",
       "  'B6': '2',\n",
       "  'B7': '5',\n",
       "  'B8': '9',\n",
       "  'B9': '7',\n",
       "  'C1': '3',\n",
       "  'C2': '7',\n",
       "  'C3': '2',\n",
       "  'C4': '5',\n",
       "  'C5': '6',\n",
       "  'C6': '9',\n",
       "  'C7': '8',\n",
       "  'C8': '4',\n",
       "  'C9': '1',\n",
       "  'D1': '2',\n",
       "  'D2': '9',\n",
       "  'D3': '1',\n",
       "  'D4': '6',\n",
       "  'D5': '5',\n",
       "  'D6': '7',\n",
       "  'D7': '4',\n",
       "  'D8': '8',\n",
       "  'D9': '3',\n",
       "  'E1': '7',\n",
       "  'E2': '3',\n",
       "  'E3': '5',\n",
       "  'E4': '4',\n",
       "  'E5': '1',\n",
       "  'E6': '8',\n",
       "  'E7': '6',\n",
       "  'E8': '2',\n",
       "  'E9': '9',\n",
       "  'F1': '6',\n",
       "  'F2': '4',\n",
       "  'F3': '8',\n",
       "  'F4': '2',\n",
       "  'F5': '9',\n",
       "  'F6': '3',\n",
       "  'F7': '1',\n",
       "  'F8': '7',\n",
       "  'F9': '5',\n",
       "  'G1': '9',\n",
       "  'G2': '2',\n",
       "  'G3': '6',\n",
       "  'G4': '3',\n",
       "  'G5': '8',\n",
       "  'G6': '1',\n",
       "  'G7': '7',\n",
       "  'G8': '5',\n",
       "  'G9': '4',\n",
       "  'H1': '4',\n",
       "  'H2': '1',\n",
       "  'H3': '3',\n",
       "  'H4': '7',\n",
       "  'H5': '2',\n",
       "  'H6': '5',\n",
       "  'H7': '9',\n",
       "  'H8': '6',\n",
       "  'H9': '8',\n",
       "  'I1': '5',\n",
       "  'I2': '8',\n",
       "  'I3': '7',\n",
       "  'I4': '9',\n",
       "  'I5': '4',\n",
       "  'I6': '6',\n",
       "  'I7': '3',\n",
       "  'I8': '1',\n",
       "  'I9': '2'})"
      ]
     },
     "execution_count": 7,
     "metadata": {},
     "output_type": "execute_result"
    }
   ],
   "source": [
    "solve(df['Sudoku'][0])"
   ]
  },
  {
   "cell_type": "code",
   "execution_count": 4,
   "metadata": {},
   "outputs": [],
   "source": [
    "import json\n",
    "a =solve(df['Sudoku'][0])[1]"
   ]
  },
  {
   "cell_type": "code",
   "execution_count": 9,
   "metadata": {},
   "outputs": [
    {
     "data": {
      "text/plain": [
       "'859174236164832597372569841291657483735418629648293175926381754413725968587946312'"
      ]
     },
     "execution_count": 9,
     "metadata": {},
     "output_type": "execute_result"
    }
   ],
   "source": [
    "\"\".join([value if len(value) == 1 else \".\" for value in a.values()])"
   ]
  },
  {
   "cell_type": "code",
   "execution_count": 50,
   "metadata": {},
   "outputs": [],
   "source": [
    "# rows = 'ABCDEFGHI'\n",
    "# cols = '123456789'\n",
    "# boxes = [s+t for s in rows for t in cols]\n",
    "\n",
    "# def display(values):\n",
    "#     \"\"\"\n",
    "#     Display the values as a 2-D grid.\n",
    "#     Input: The sudoku in dictionary form\n",
    "#     Output: None\n",
    "#     \"\"\"\n",
    "#     width = 1+max(len(values[s]) for s in boxes)\n",
    "#     line = '+'.join(['-'*(width*3)]*3)\n",
    "#     for r in rows:\n",
    "#         print(''.join(values[r+c].center(width)+('|' if c in '36' else '')\n",
    "#                       for c in cols))\n",
    "#         if r in 'CF': print(line)\n",
    "#     print"
   ]
  },
  {
   "cell_type": "code",
   "execution_count": 11,
   "metadata": {},
   "outputs": [
    {
     "name": "stdout",
     "output_type": "stream",
     "text": [
      "8 5 9 |1 7 4 |2 3 6 \n",
      "1 6 4 |8 3 2 |5 9 7 \n",
      "3 7 2 |5 6 9 |8 4 1 \n",
      "------+------+------\n",
      "2 9 1 |6 5 7 |4 8 3 \n",
      "7 3 5 |4 1 8 |6 2 9 \n",
      "6 4 8 |2 9 3 |1 7 5 \n",
      "------+------+------\n",
      "9 2 6 |3 8 1 |7 5 4 \n",
      "4 1 3 |7 2 5 |9 6 8 \n",
      "5 8 7 |9 4 6 |3 1 2 \n"
     ]
    }
   ],
   "source": [
    "display(a)"
   ]
  },
  {
   "cell_type": "code",
   "execution_count": 12,
   "metadata": {},
   "outputs": [],
   "source": [
    "df['Solved_single_position'] = df['Sudoku'].apply(lambda x: solve_technique(x, 'single_position')[0])"
   ]
  },
  {
   "cell_type": "code",
   "execution_count": 13,
   "metadata": {},
   "outputs": [
    {
     "data": {
      "text/plain": [
       "Not solved    4813\n",
       "Solved         216\n",
       "Name: Solved_single_position, dtype: int64"
      ]
     },
     "execution_count": 13,
     "metadata": {},
     "output_type": "execute_result"
    }
   ],
   "source": [
    "df['Solved_single_position'].value_counts()"
   ]
  },
  {
   "cell_type": "code",
   "execution_count": 14,
   "metadata": {},
   "outputs": [],
   "source": [
    "df['Solved_single_candidate'] = df['Sudoku'].apply(lambda x: solve_technique(x, 'single_candidate')[0])"
   ]
  },
  {
   "cell_type": "code",
   "execution_count": 15,
   "metadata": {},
   "outputs": [
    {
     "data": {
      "text/plain": [
       "Not solved    5029\n",
       "Name: Solved_single_candidate, dtype: int64"
      ]
     },
     "execution_count": 15,
     "metadata": {},
     "output_type": "execute_result"
    }
   ],
   "source": [
    "df['Solved_single_candidate'].value_counts()"
   ]
  },
  {
   "cell_type": "code",
   "execution_count": 16,
   "metadata": {},
   "outputs": [],
   "source": [
    "df['Solved_naked_twins']= df['Sudoku'].apply(lambda x: solve_technique(x, 'naked_twins')[0])"
   ]
  },
  {
   "cell_type": "code",
   "execution_count": 17,
   "metadata": {},
   "outputs": [
    {
     "data": {
      "text/plain": [
       "Not solved    5029\n",
       "Name: Solved_naked_twins, dtype: int64"
      ]
     },
     "execution_count": 17,
     "metadata": {},
     "output_type": "execute_result"
    }
   ],
   "source": [
    "df['Solved_naked_twins'].value_counts()"
   ]
  },
  {
   "cell_type": "code",
   "execution_count": 18,
   "metadata": {},
   "outputs": [],
   "source": [
    "df['Solved']= df['Sudoku'].apply(lambda x: solve(x)[0])"
   ]
  },
  {
   "cell_type": "code",
   "execution_count": 19,
   "metadata": {},
   "outputs": [
    {
     "data": {
      "text/plain": [
       "Solved    5029\n",
       "Name: Solved, dtype: int64"
      ]
     },
     "execution_count": 19,
     "metadata": {},
     "output_type": "execute_result"
    }
   ],
   "source": [
    "df['Solved'].value_counts()"
   ]
  },
  {
   "cell_type": "code",
   "execution_count": 20,
   "metadata": {},
   "outputs": [
    {
     "data": {
      "text/html": [
       "<div>\n",
       "<style scoped>\n",
       "    .dataframe tbody tr th:only-of-type {\n",
       "        vertical-align: middle;\n",
       "    }\n",
       "\n",
       "    .dataframe tbody tr th {\n",
       "        vertical-align: top;\n",
       "    }\n",
       "\n",
       "    .dataframe thead th {\n",
       "        text-align: right;\n",
       "    }\n",
       "</style>\n",
       "<table border=\"1\" class=\"dataframe\">\n",
       "  <thead>\n",
       "    <tr style=\"text-align: right;\">\n",
       "      <th></th>\n",
       "      <th>Id</th>\n",
       "      <th>Sudoku</th>\n",
       "      <th>Solution</th>\n",
       "      <th>Level</th>\n",
       "      <th>People</th>\n",
       "      <th>Average-Time</th>\n",
       "      <th>Solved_single_position</th>\n",
       "      <th>Solved_single_candidate</th>\n",
       "      <th>Solved_naked_twins</th>\n",
       "      <th>Solved</th>\n",
       "    </tr>\n",
       "  </thead>\n",
       "  <tbody>\n",
       "    <tr>\n",
       "      <th>0</th>\n",
       "      <td>0</td>\n",
       "      <td>8...74...1.........7.5.9.4....65.4..73.....296...</td>\n",
       "      <td>8591742361648325973725698412916574837354186296...</td>\n",
       "      <td>Diabolical</td>\n",
       "      <td>254</td>\n",
       "      <td>25</td>\n",
       "      <td>Not solved</td>\n",
       "      <td>Not solved</td>\n",
       "      <td>Not solved</td>\n",
       "      <td>Solved</td>\n",
       "    </tr>\n",
       "    <tr>\n",
       "      <th>1</th>\n",
       "      <td>1</td>\n",
       "      <td>.5.....7.9......6...21.75.8.4..69.3...8...4......</td>\n",
       "      <td>8539461729175823644621375981458692376283754197...</td>\n",
       "      <td>Moderate</td>\n",
       "      <td>281</td>\n",
       "      <td>12</td>\n",
       "      <td>Not solved</td>\n",
       "      <td>Not solved</td>\n",
       "      <td>Not solved</td>\n",
       "      <td>Solved</td>\n",
       "    </tr>\n",
       "    <tr>\n",
       "      <th>2</th>\n",
       "      <td>2</td>\n",
       "      <td>...45.2..3.........8....4..7...94.3.9..5.2.76....</td>\n",
       "      <td>6974532183248617955819274637186945329435128762...</td>\n",
       "      <td>Diabolical</td>\n",
       "      <td>265</td>\n",
       "      <td>22</td>\n",
       "      <td>Not solved</td>\n",
       "      <td>Not solved</td>\n",
       "      <td>Not solved</td>\n",
       "      <td>Solved</td>\n",
       "    </tr>\n",
       "    <tr>\n",
       "      <th>3</th>\n",
       "      <td>3</td>\n",
       "      <td>9......31.3...8.....5.7.9..3...4...8.916..54.4...</td>\n",
       "      <td>9274568316341982758153729643527496187916835424...</td>\n",
       "      <td>Tough</td>\n",
       "      <td>279</td>\n",
       "      <td>19</td>\n",
       "      <td>Not solved</td>\n",
       "      <td>Not solved</td>\n",
       "      <td>Not solved</td>\n",
       "      <td>Solved</td>\n",
       "    </tr>\n",
       "    <tr>\n",
       "      <th>4</th>\n",
       "      <td>4</td>\n",
       "      <td>9.......2784.1.5.....4.....2.53.1.7...7...8......</td>\n",
       "      <td>9615387427846125395234796182953814761479568236...</td>\n",
       "      <td>Moderate</td>\n",
       "      <td>301</td>\n",
       "      <td>14</td>\n",
       "      <td>Not solved</td>\n",
       "      <td>Not solved</td>\n",
       "      <td>Not solved</td>\n",
       "      <td>Solved</td>\n",
       "    </tr>\n",
       "  </tbody>\n",
       "</table>\n",
       "</div>"
      ],
      "text/plain": [
       "   Id                                             Sudoku  \\\n",
       "0   0  8...74...1.........7.5.9.4....65.4..73.....296...   \n",
       "1   1  .5.....7.9......6...21.75.8.4..69.3...8...4......   \n",
       "2   2  ...45.2..3.........8....4..7...94.3.9..5.2.76....   \n",
       "3   3  9......31.3...8.....5.7.9..3...4...8.916..54.4...   \n",
       "4   4  9.......2784.1.5.....4.....2.53.1.7...7...8......   \n",
       "\n",
       "                                            Solution       Level  People  \\\n",
       "0  8591742361648325973725698412916574837354186296...  Diabolical     254   \n",
       "1  8539461729175823644621375981458692376283754197...    Moderate     281   \n",
       "2  6974532183248617955819274637186945329435128762...  Diabolical     265   \n",
       "3  9274568316341982758153729643527496187916835424...       Tough     279   \n",
       "4  9615387427846125395234796182953814761479568236...    Moderate     301   \n",
       "\n",
       "   Average-Time Solved_single_position Solved_single_candidate  \\\n",
       "0            25             Not solved              Not solved   \n",
       "1            12             Not solved              Not solved   \n",
       "2            22             Not solved              Not solved   \n",
       "3            19             Not solved              Not solved   \n",
       "4            14             Not solved              Not solved   \n",
       "\n",
       "  Solved_naked_twins  Solved  \n",
       "0         Not solved  Solved  \n",
       "1         Not solved  Solved  \n",
       "2         Not solved  Solved  \n",
       "3         Not solved  Solved  \n",
       "4         Not solved  Solved  "
      ]
     },
     "execution_count": 20,
     "metadata": {},
     "output_type": "execute_result"
    }
   ],
   "source": [
    "df.head()"
   ]
  },
  {
   "cell_type": "code",
   "execution_count": 21,
   "metadata": {},
   "outputs": [
    {
     "name": "stdout",
     "output_type": "stream",
     "text": [
      "8 5 9 |1 7 4 |2 3 6 \n",
      "1 6 4 |8 3 2 |5 9 7 \n",
      "3 7 2 |5 6 9 |8 4 1 \n",
      "------+------+------\n",
      "2 9 1 |6 5 7 |4 8 3 \n",
      "7 3 5 |4 1 8 |6 2 9 \n",
      "6 4 8 |2 9 3 |1 7 5 \n",
      "------+------+------\n",
      "9 2 6 |3 8 1 |7 5 4 \n",
      "4 1 3 |7 2 5 |9 6 8 \n",
      "5 8 7 |9 4 6 |3 1 2 \n"
     ]
    }
   ],
   "source": [
    "display(solve(df['Sudoku'][0])[1])"
   ]
  },
  {
   "cell_type": "code",
   "execution_count": 22,
   "metadata": {},
   "outputs": [
    {
     "name": "stdout",
     "output_type": "stream",
     "text": [
      "8 5 3 |9 4 6 |1 7 2 \n",
      "9 1 7 |5 8 2 |3 6 4 \n",
      "4 6 2 |1 3 7 |5 9 8 \n",
      "------+------+------\n",
      "1 4 5 |8 6 9 |2 3 7 \n",
      "6 2 8 |3 7 5 |4 1 9 \n",
      "7 3 9 |4 2 1 |8 5 6 \n",
      "------+------+------\n",
      "3 7 1 |2 9 8 |6 4 5 \n",
      "2 9 4 |6 5 3 |7 8 1 \n",
      "5 8 6 |7 1 4 |9 2 3 \n"
     ]
    }
   ],
   "source": [
    "display(solve(df['Sudoku'][1])[1])"
   ]
  },
  {
   "cell_type": "code",
   "execution_count": 23,
   "metadata": {},
   "outputs": [
    {
     "data": {
      "text/plain": [
       "'.5.....7.9......6...21.75.8.4..69.3...8...4...3.42..5.3.12.86...9......1.8.....2.'"
      ]
     },
     "execution_count": 23,
     "metadata": {},
     "output_type": "execute_result"
    }
   ],
   "source": [
    "df['Sudoku'][1]"
   ]
  },
  {
   "cell_type": "code",
   "execution_count": 6,
   "metadata": {},
   "outputs": [],
   "source": [
    "test = '.5.....7.9......6...21.75.8.4..69.3...8...4...3.42..5.3.12.86...9......1.8.....2.'"
   ]
  },
  {
   "cell_type": "code",
   "execution_count": 7,
   "metadata": {},
   "outputs": [
    {
     "data": {
      "text/plain": [
       "'853946172917582364462137598145869237628375419739421856371298645294653781586714923'"
      ]
     },
     "execution_count": 7,
     "metadata": {},
     "output_type": "execute_result"
    }
   ],
   "source": [
    "solve(test)[2]"
   ]
  },
  {
   "cell_type": "code",
   "execution_count": 34,
   "metadata": {},
   "outputs": [],
   "source": [
    "a=solve(test)[1]"
   ]
  },
  {
   "cell_type": "code",
   "execution_count": 35,
   "metadata": {},
   "outputs": [
    {
     "name": "stdout",
     "output_type": "stream",
     "text": [
      "8 5 3 |9 4 6 |1 7 2 \n",
      "9 1 7 |5 8 2 |3 6 4 \n",
      "4 6 2 |1 3 7 |5 9 8 \n",
      "------+------+------\n",
      "1 4 5 |8 6 9 |2 3 7 \n",
      "6 2 8 |3 7 5 |4 1 9 \n",
      "7 3 9 |4 2 1 |8 5 6 \n",
      "------+------+------\n",
      "3 7 1 |2 9 8 |6 4 5 \n",
      "2 9 4 |6 5 3 |7 8 1 \n",
      "5 8 6 |7 1 4 |9 2 3 \n",
      "\n"
     ]
    }
   ],
   "source": [
    "display(a)"
   ]
  },
  {
   "cell_type": "code",
   "execution_count": 2,
   "metadata": {},
   "outputs": [],
   "source": [
    "test2 = '.5.....7.9......6...21.75.8.4..69.3...8...4...3.42..5.3.12.86...9......1.8.....22'"
   ]
  },
  {
   "cell_type": "code",
   "execution_count": 17,
   "metadata": {},
   "outputs": [],
   "source": [
    "rows = 'ABCDEFGHI'\n",
    "cols = '123456789'\n",
    "\n",
    "boxes = [s+t for s in rows for t in cols]\n",
    "row_units = [[s+t for s in r for t in cols] for r in rows]\n",
    "column_units = [[s+t for s in rows for t in c] for c in cols]\n",
    "square_units = [[s+t for s in rs for t in cs]for rs in ('ABC','DEF','GHI') for cs in ('123','456','789')]\n",
    "unitlist = row_units + column_units + square_units\n",
    "units = dict((s, [u for u in unitlist if s in u]) for s in boxes)\n",
    "peers = dict((s, set(sum(units[s],[]))-set([s])) for s in boxes)\n",
    "valuesg = dict(zip(boxes,[\".\" if element == \".\" else element for element in test2]))             "
   ]
  },
  {
   "cell_type": "code",
   "execution_count": null,
   "metadata": {},
   "outputs": [],
   "source": [
    "# for a in valuesg:\n",
    "#     if valuesg[a]!='.':\n",
    "#         for n in peers[a]:\n",
    "#             if valuesg[a] is valuesg[n]:\n",
    "#                 invalida=valuesg[a]\n",
    "#                 invalidn=valuesg[n]\n",
    "#             return(invalida,invalidn)"
   ]
  },
  {
   "cell_type": "code",
   "execution_count": 103,
   "metadata": {},
   "outputs": [],
   "source": [
    "# def validator(valuesg):\n",
    "#     answ=[]\n",
    "#     values_grid = dict(filter(lambda n: n[1]!=\".\", valuesg.items()))\n",
    "#     a=[(valuesg[n],[valuesg[p] for p in peers[n]],n) for n in list(values_grid.keys())]\n",
    "#     for x in a:\n",
    "#         if x[0] in x[1]:\n",
    "#             answ.append([False,x[0],x[2]])\n",
    "#         else: \n",
    "#             pass\n",
    "#     return answ"
   ]
  },
  {
   "cell_type": "code",
   "execution_count": 3,
   "metadata": {},
   "outputs": [
    {
     "data": {
      "text/plain": [
       "('Ivalid Sudoku, check these values:', [False, '2', 'I9'])"
      ]
     },
     "execution_count": 3,
     "metadata": {},
     "output_type": "execute_result"
    }
   ],
   "source": [
    "# len(validator(valuesg))\n",
    "solve(test2)"
   ]
  },
  {
   "cell_type": "code",
   "execution_count": 203,
   "metadata": {},
   "outputs": [
    {
     "name": "stdout",
     "output_type": "stream",
     "text": [
      ". 5 5 |. . . |. 7 . \n",
      "9 . . |. . . |. 6 . \n",
      ". . 2 |1 . 7 |5 . 8 \n",
      "------+------+------\n",
      ". 4 . |. 6 9 |. 3 . \n",
      ". . 8 |. . . |4 . . \n",
      ". 3 . |4 2 . |. 5 . \n",
      "------+------+------\n",
      "3 . 1 |2 . 8 |6 . . \n",
      ". 9 . |. . . |. . 1 \n",
      ". 8 . |. . . |. 2 . \n"
     ]
    }
   ],
   "source": [
    "display(values)"
   ]
  },
  {
   "cell_type": "code",
   "execution_count": 59,
   "metadata": {},
   "outputs": [],
   "source": [
    "# def checker(grid):\n",
    "    \n",
    "#     rows = 'ABCDEFGHI'\n",
    "#     cols = '123456789'\n",
    "\n",
    "#     boxes = [s+t for s in rows for t in cols]\n",
    "#     values_grid = dict(zip(boxes, [\".\" if element == \".\" else element for element in grid]))\n",
    "#     row_units = [[s+t for s in r for t in cols] for r in rows]\n",
    "#     column_units = [[s+t for s in rows for t in c] for c in cols]\n",
    "#     square_units = [[s+t for s in rs for t in cs]for rs in ('ABC','DEF','GHI') for cs in ('123','456','789')]\n",
    "#     unitlist = row_units + column_units + square_units\n",
    "#     units = dict((s, [u for u in unitlist if s in u]) for s in boxes)\n",
    "#     peers = dict((s, set(sum(units[s],[]))-set([s])) for s in boxes)\n",
    "    \n",
    "# #     print(values_grid.keys())\n",
    "# #     print('hiiiiiiiii',row_units)\n",
    "#     if 'A1' in row_units:\n",
    "#         print(row_units)\n",
    "\n",
    "# #     for a in values_grid.values():\n",
    "# #         if a == '.':\n",
    "# #             print('no')\n",
    "# #         else:\n",
    "# #             if a in values_grid[a]:\n",
    "# #                 print('yes')\n"
   ]
  },
  {
   "cell_type": "code",
   "execution_count": 47,
   "metadata": {},
   "outputs": [],
   "source": [
    "def split(element): \n",
    "    return [char for char in element]  \n",
    "\n",
    "def transform_matrix(element):\n",
    "  return np.reshape(split(element), (-1, 9))"
   ]
  },
  {
   "cell_type": "code",
   "execution_count": 48,
   "metadata": {},
   "outputs": [
    {
     "data": {
      "text/plain": [
       "array([['.', '5', '.', '.', '.', '.', '.', '7', '.'],\n",
       "       ['9', '.', '.', '.', '.', '.', '.', '6', '.'],\n",
       "       ['.', '.', '2', '1', '.', '7', '5', '.', '8'],\n",
       "       ['.', '4', '.', '.', '6', '9', '.', '3', '.'],\n",
       "       ['.', '.', '8', '.', '.', '.', '4', '.', '.'],\n",
       "       ['.', '3', '.', '4', '2', '.', '.', '5', '.'],\n",
       "       ['3', '.', '1', '2', '.', '8', '6', '.', '.'],\n",
       "       ['.', '9', '.', '.', '.', '.', '.', '.', '1'],\n",
       "       ['.', '8', '.', '.', '.', '.', '.', '2', '.']], dtype='<U1')"
      ]
     },
     "execution_count": 48,
     "metadata": {},
     "output_type": "execute_result"
    }
   ],
   "source": [
    "transform_matrix(test_wrong)"
   ]
  },
  {
   "cell_type": "code",
   "execution_count": null,
   "metadata": {},
   "outputs": [],
   "source": []
  },
  {
   "cell_type": "code",
   "execution_count": null,
   "metadata": {},
   "outputs": [],
   "source": []
  }
 ],
 "metadata": {
  "kernelspec": {
   "display_name": "conda_tensorflow_p36",
   "language": "python",
   "name": "conda_tensorflow_p36"
  },
  "language_info": {
   "codemirror_mode": {
    "name": "ipython",
    "version": 3
   },
   "file_extension": ".py",
   "mimetype": "text/x-python",
   "name": "python",
   "nbconvert_exporter": "python",
   "pygments_lexer": "ipython3",
   "version": "3.6.5"
  }
 },
 "nbformat": 4,
 "nbformat_minor": 4
}
