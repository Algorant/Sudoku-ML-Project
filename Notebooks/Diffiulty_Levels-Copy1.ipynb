{
 "cells": [
  {
   "cell_type": "code",
   "execution_count": 1,
   "metadata": {},
   "outputs": [],
   "source": [
    "from solver import *\n",
    "from ai import *\n",
    "import pandas as pd\n",
    "import numpy as np"
   ]
  },
  {
   "cell_type": "markdown",
   "metadata": {},
   "source": [
    "#### Test Solver"
   ]
  },
  {
   "cell_type": "code",
   "execution_count": 2,
   "metadata": {},
   "outputs": [
    {
     "data": {
      "text/html": [
       "<div>\n",
       "<style scoped>\n",
       "    .dataframe tbody tr th:only-of-type {\n",
       "        vertical-align: middle;\n",
       "    }\n",
       "\n",
       "    .dataframe tbody tr th {\n",
       "        vertical-align: top;\n",
       "    }\n",
       "\n",
       "    .dataframe thead th {\n",
       "        text-align: right;\n",
       "    }\n",
       "</style>\n",
       "<table border=\"1\" class=\"dataframe\">\n",
       "  <thead>\n",
       "    <tr style=\"text-align: right;\">\n",
       "      <th></th>\n",
       "      <th>Id</th>\n",
       "      <th>Sudoku</th>\n",
       "      <th>Solution</th>\n",
       "      <th>Level</th>\n",
       "      <th>People</th>\n",
       "      <th>Average-Time</th>\n",
       "    </tr>\n",
       "  </thead>\n",
       "  <tbody>\n",
       "    <tr>\n",
       "      <th>0</th>\n",
       "      <td>0</td>\n",
       "      <td>8...74...1.........7.5.9.4....65.4..73.....296...</td>\n",
       "      <td>8591742361648325973725698412916574837354186296...</td>\n",
       "      <td>Diabolical</td>\n",
       "      <td>254</td>\n",
       "      <td>25</td>\n",
       "    </tr>\n",
       "    <tr>\n",
       "      <th>1</th>\n",
       "      <td>1</td>\n",
       "      <td>.5.....7.9......6...21.75.8.4..69.3...8...4......</td>\n",
       "      <td>8539461729175823644621375981458692376283754197...</td>\n",
       "      <td>Moderate</td>\n",
       "      <td>281</td>\n",
       "      <td>12</td>\n",
       "    </tr>\n",
       "    <tr>\n",
       "      <th>2</th>\n",
       "      <td>2</td>\n",
       "      <td>...45.2..3.........8....4..7...94.3.9..5.2.76....</td>\n",
       "      <td>6974532183248617955819274637186945329435128762...</td>\n",
       "      <td>Diabolical</td>\n",
       "      <td>265</td>\n",
       "      <td>22</td>\n",
       "    </tr>\n",
       "    <tr>\n",
       "      <th>3</th>\n",
       "      <td>3</td>\n",
       "      <td>9......31.3...8.....5.7.9..3...4...8.916..54.4...</td>\n",
       "      <td>9274568316341982758153729643527496187916835424...</td>\n",
       "      <td>Tough</td>\n",
       "      <td>279</td>\n",
       "      <td>19</td>\n",
       "    </tr>\n",
       "    <tr>\n",
       "      <th>4</th>\n",
       "      <td>4</td>\n",
       "      <td>9.......2784.1.5.....4.....2.53.1.7...7...8......</td>\n",
       "      <td>9615387427846125395234796182953814761479568236...</td>\n",
       "      <td>Moderate</td>\n",
       "      <td>301</td>\n",
       "      <td>14</td>\n",
       "    </tr>\n",
       "  </tbody>\n",
       "</table>\n",
       "</div>"
      ],
      "text/plain": [
       "   Id                                             Sudoku  \\\n",
       "0   0  8...74...1.........7.5.9.4....65.4..73.....296...   \n",
       "1   1  .5.....7.9......6...21.75.8.4..69.3...8...4......   \n",
       "2   2  ...45.2..3.........8....4..7...94.3.9..5.2.76....   \n",
       "3   3  9......31.3...8.....5.7.9..3...4...8.916..54.4...   \n",
       "4   4  9.......2784.1.5.....4.....2.53.1.7...7...8......   \n",
       "\n",
       "                                            Solution       Level  People  \\\n",
       "0  8591742361648325973725698412916574837354186296...  Diabolical     254   \n",
       "1  8539461729175823644621375981458692376283754197...    Moderate     281   \n",
       "2  6974532183248617955819274637186945329435128762...  Diabolical     265   \n",
       "3  9274568316341982758153729643527496187916835424...       Tough     279   \n",
       "4  9615387427846125395234796182953814761479568236...    Moderate     301   \n",
       "\n",
       "   Average-Time  \n",
       "0            25  \n",
       "1            12  \n",
       "2            22  \n",
       "3            19  \n",
       "4            14  "
      ]
     },
     "execution_count": 2,
     "metadata": {},
     "output_type": "execute_result"
    }
   ],
   "source": [
    "df = pd.read_csv('../Omega2020/data/dataset.csv').drop('Unnamed: 0', axis=1)\n",
    "df = df.drop(df[df.Level == 'TEST'].index)\n",
    "# df = df['Level'].drop(\"TEST\", axis=0)\n",
    "df.head()"
   ]
  },
  {
   "cell_type": "code",
   "execution_count": 3,
   "metadata": {},
   "outputs": [],
   "source": [
    "def conv_values(grid):\n",
    "     return dict(zip(boxes, [\"123456789\" if element == \".\" else element for element in grid]))"
   ]
  },
  {
   "cell_type": "code",
   "execution_count": 4,
   "metadata": {},
   "outputs": [
    {
     "data": {
      "text/plain": [
       "'8...74...1.........7.5.9.4....65.4..73.....296.8.......2.3.1.5.........8...9....2'"
      ]
     },
     "execution_count": 4,
     "metadata": {},
     "output_type": "execute_result"
    }
   ],
   "source": [
    "df['Sudoku'][0]"
   ]
  },
  {
   "cell_type": "code",
   "execution_count": 5,
   "metadata": {},
   "outputs": [
    {
     "ename": "FileNotFoundError",
     "evalue": "[Errno 2] No such file or directory: 'difficulty_level_model'",
     "output_type": "error",
     "traceback": [
      "\u001b[0;31m---------------------------------------------------------------------------\u001b[0m",
      "\u001b[0;31mFileNotFoundError\u001b[0m                         Traceback (most recent call last)",
      "\u001b[0;32m<ipython-input-5-2f1bf4c5baf5>\u001b[0m in \u001b[0;36m<module>\u001b[0;34m()\u001b[0m\n\u001b[1;32m      1\u001b[0m \u001b[0;32mimport\u001b[0m \u001b[0mjson\u001b[0m\u001b[0;34m\u001b[0m\u001b[0m\n\u001b[0;32m----> 2\u001b[0;31m \u001b[0ma\u001b[0m\u001b[0;34m=\u001b[0m\u001b[0msolve\u001b[0m\u001b[0;34m(\u001b[0m\u001b[0mdf\u001b[0m\u001b[0;34m[\u001b[0m\u001b[0;34m'Sudoku'\u001b[0m\u001b[0;34m]\u001b[0m\u001b[0;34m[\u001b[0m\u001b[0;36m0\u001b[0m\u001b[0;34m]\u001b[0m\u001b[0;34m)\u001b[0m\u001b[0;34m\u001b[0m\u001b[0m\n\u001b[0m\u001b[1;32m      3\u001b[0m \u001b[0ma\u001b[0m\u001b[0;34m\u001b[0m\u001b[0m\n",
      "\u001b[0;32m~/SageMaker/omega2020-ds/Notebooks/solver.py\u001b[0m in \u001b[0;36msolve\u001b[0;34m(grid)\u001b[0m\n\u001b[1;32m     41\u001b[0m             \u001b[0msolution\u001b[0m \u001b[0;34m=\u001b[0m \u001b[0;34m\"\"\u001b[0m\u001b[0;34m.\u001b[0m\u001b[0mjoin\u001b[0m\u001b[0;34m(\u001b[0m\u001b[0;34m[\u001b[0m\u001b[0mvalue\u001b[0m \u001b[0;32mif\u001b[0m \u001b[0mlen\u001b[0m\u001b[0;34m(\u001b[0m\u001b[0mvalue\u001b[0m\u001b[0;34m)\u001b[0m \u001b[0;34m==\u001b[0m \u001b[0;36m1\u001b[0m \u001b[0;32melse\u001b[0m \u001b[0;34m\".\"\u001b[0m \u001b[0;32mfor\u001b[0m \u001b[0mvalue\u001b[0m \u001b[0;32min\u001b[0m \u001b[0mvalues\u001b[0m\u001b[0;34m.\u001b[0m\u001b[0mvalues\u001b[0m\u001b[0;34m(\u001b[0m\u001b[0;34m)\u001b[0m\u001b[0;34m]\u001b[0m\u001b[0;34m)\u001b[0m\u001b[0;34m\u001b[0m\u001b[0m\n\u001b[1;32m     42\u001b[0m             \u001b[0;32mif\u001b[0m \u001b[0mvalues_solved\u001b[0m \u001b[0;34m==\u001b[0m \u001b[0;36m81\u001b[0m\u001b[0;34m:\u001b[0m\u001b[0;34m\u001b[0m\u001b[0m\n\u001b[0;32m---> 43\u001b[0;31m                 \u001b[0mpicklefile\u001b[0m \u001b[0;34m=\u001b[0m \u001b[0mopen\u001b[0m\u001b[0;34m(\u001b[0m\u001b[0;34m'difficulty_level_model'\u001b[0m\u001b[0;34m,\u001b[0m\u001b[0;34m'rb'\u001b[0m\u001b[0;34m)\u001b[0m\u001b[0;34m\u001b[0m\u001b[0m\n\u001b[0m\u001b[1;32m     44\u001b[0m                 \u001b[0mmodel_level\u001b[0m \u001b[0;34m=\u001b[0m \u001b[0mpickle\u001b[0m\u001b[0;34m.\u001b[0m\u001b[0mload\u001b[0m\u001b[0;34m(\u001b[0m\u001b[0mpicklefile\u001b[0m\u001b[0;34m)\u001b[0m\u001b[0;34m\u001b[0m\u001b[0m\n\u001b[1;32m     45\u001b[0m                 \u001b[0mpicklefile\u001b[0m\u001b[0;34m.\u001b[0m\u001b[0mclose\u001b[0m\u001b[0;34m(\u001b[0m\u001b[0;34m)\u001b[0m\u001b[0;34m\u001b[0m\u001b[0m\n",
      "\u001b[0;31mFileNotFoundError\u001b[0m: [Errno 2] No such file or directory: 'difficulty_level_model'"
     ]
    }
   ],
   "source": [
    "import json\n",
    "a=solve(df['Sudoku'][0])\n",
    "a"
   ]
  },
  {
   "cell_type": "code",
   "execution_count": 6,
   "metadata": {},
   "outputs": [],
   "source": [
    "test1 = '88..74...1.........7.5.9.4....65.4..73.....296.8.......2.3.1.5.........8...9....2'\n",
    "test2 = '.5.....7.9......6...21.75.8.4..69.3...8...4...3.42..5.3.12.86...9......1.8.....2.'\n",
    "test3 = '8...74...1.........7.5.9.4....65.4..73.....296.8.......2.3.1.5.........8...9....2'\n",
    "test_triple = '...29438....17864.48.3561....48375.1...4157..5..629834953782416126543978.4.961253'\n",
    "test_triple2='4..5..37.32......4.........8....2.3.21.84...........9..7..9.1..94.651.......7....'\n",
    "test_triple3='39....7........65.5.7...349.4938.5.66.1.54983853...4..9..8..134..294.8654.....297'\n",
    "test_rob='...2....58....9..4...18..2.3.....5.95......7..6.....4.........6..1.3498.92.85...3'\n",
    "rob_example2='...5.47..7.3.....3.....6.2..7..2..639.......543..1..7..5.2...........2.8...9.1...'\n",
    "names_tests= ['test2','test3','test_triple','test_triple2','test_triple3','test_rob','rob_example2']\n",
    "tests= [test2,test3,test_triple,test_triple2,test_triple3,test_rob,rob_example2]\n",
    "# tests= [test2,test3,test_triple,test_triple3,test_rob]"
   ]
  },
  {
   "cell_type": "code",
   "execution_count": null,
   "metadata": {},
   "outputs": [],
   "source": []
  },
  {
   "cell_type": "code",
   "execution_count": 7,
   "metadata": {},
   "outputs": [
    {
     "data": {
      "text/plain": [
       "array([7, 6, 0, 0, 0])"
      ]
     },
     "execution_count": 7,
     "metadata": {},
     "output_type": "execute_result"
    }
   ],
   "source": [
    "values=dict(zip(boxes, [\"123456789\" if element == \".\" else element for element in test2 ]))\n",
    "\n",
    "a= tracker(conv_values(test2))\n",
    "a"
   ]
  },
  {
   "cell_type": "code",
   "execution_count": 8,
   "metadata": {},
   "outputs": [
    {
     "name": "stdout",
     "output_type": "stream",
     "text": [
      "test2 [7 6 0 0 0] \n",
      "\n",
      "test3 [23  8  2  0  3] \n",
      "\n",
      "test_triple [15  4  0  0  1] \n",
      "\n",
      "test_triple2 [16  7  2  0  4] \n",
      "\n",
      "test_triple3 [10  8  0  1  0] \n",
      "\n",
      "test_rob [16  6  2  0  1] \n",
      "\n",
      "rob_example2 [24 11  4  0  5] \n",
      "\n"
     ]
    }
   ],
   "source": [
    "count =0\n",
    "\n",
    "for test in tests:\n",
    "    values=dict(zip(boxes, [\"123456789\" if element == \".\" else element for element in test]))\n",
    "    print(names_tests[count], tracker(values),'\\n')\n",
    "#     print(solve(test)[1])\n",
    "    count+=1"
   ]
  },
  {
   "cell_type": "code",
   "execution_count": 9,
   "metadata": {},
   "outputs": [],
   "source": [
    "df['Tracker'] = df['Sudoku'].apply(lambda x: tracker(conv_values(x)))"
   ]
  },
  {
   "cell_type": "code",
   "execution_count": 12,
   "metadata": {},
   "outputs": [
    {
     "data": {
      "text/html": [
       "<div>\n",
       "<style scoped>\n",
       "    .dataframe tbody tr th:only-of-type {\n",
       "        vertical-align: middle;\n",
       "    }\n",
       "\n",
       "    .dataframe tbody tr th {\n",
       "        vertical-align: top;\n",
       "    }\n",
       "\n",
       "    .dataframe thead th {\n",
       "        text-align: right;\n",
       "    }\n",
       "</style>\n",
       "<table border=\"1\" class=\"dataframe\">\n",
       "  <thead>\n",
       "    <tr style=\"text-align: right;\">\n",
       "      <th></th>\n",
       "      <th>Id</th>\n",
       "      <th>Sudoku</th>\n",
       "      <th>Solution</th>\n",
       "      <th>Level</th>\n",
       "      <th>People</th>\n",
       "      <th>Average-Time</th>\n",
       "      <th>Tracker</th>\n",
       "      <th>Single</th>\n",
       "      <th>Candidate</th>\n",
       "      <th>Twins</th>\n",
       "      <th>Triples</th>\n",
       "      <th>Guess</th>\n",
       "    </tr>\n",
       "  </thead>\n",
       "  <tbody>\n",
       "    <tr>\n",
       "      <th>0</th>\n",
       "      <td>0</td>\n",
       "      <td>8...74...1.........7.5.9.4....65.4..73.....296...</td>\n",
       "      <td>8591742361648325973725698412916574837354186296...</td>\n",
       "      <td>Diabolical</td>\n",
       "      <td>254</td>\n",
       "      <td>25</td>\n",
       "      <td>[23, 8, 2, 0, 3]</td>\n",
       "      <td>23</td>\n",
       "      <td>8</td>\n",
       "      <td>2</td>\n",
       "      <td>0</td>\n",
       "      <td>3</td>\n",
       "    </tr>\n",
       "    <tr>\n",
       "      <th>1</th>\n",
       "      <td>1</td>\n",
       "      <td>.5.....7.9......6...21.75.8.4..69.3...8...4......</td>\n",
       "      <td>8539461729175823644621375981458692376283754197...</td>\n",
       "      <td>Moderate</td>\n",
       "      <td>281</td>\n",
       "      <td>12</td>\n",
       "      <td>[7, 6, 0, 0, 0]</td>\n",
       "      <td>7</td>\n",
       "      <td>6</td>\n",
       "      <td>0</td>\n",
       "      <td>0</td>\n",
       "      <td>0</td>\n",
       "    </tr>\n",
       "    <tr>\n",
       "      <th>2</th>\n",
       "      <td>2</td>\n",
       "      <td>...45.2..3.........8....4..7...94.3.9..5.2.76....</td>\n",
       "      <td>6974532183248617955819274637186945329435128762...</td>\n",
       "      <td>Diabolical</td>\n",
       "      <td>265</td>\n",
       "      <td>22</td>\n",
       "      <td>[11, 7, 2, 0, 2]</td>\n",
       "      <td>11</td>\n",
       "      <td>7</td>\n",
       "      <td>2</td>\n",
       "      <td>0</td>\n",
       "      <td>2</td>\n",
       "    </tr>\n",
       "    <tr>\n",
       "      <th>3</th>\n",
       "      <td>3</td>\n",
       "      <td>9......31.3...8.....5.7.9..3...4...8.916..54.4...</td>\n",
       "      <td>9274568316341982758153729643527496187916835424...</td>\n",
       "      <td>Tough</td>\n",
       "      <td>279</td>\n",
       "      <td>19</td>\n",
       "      <td>[9, 9, 2, 0, 0]</td>\n",
       "      <td>9</td>\n",
       "      <td>9</td>\n",
       "      <td>2</td>\n",
       "      <td>0</td>\n",
       "      <td>0</td>\n",
       "    </tr>\n",
       "    <tr>\n",
       "      <th>4</th>\n",
       "      <td>4</td>\n",
       "      <td>9.......2784.1.5.....4.....2.53.1.7...7...8......</td>\n",
       "      <td>9615387427846125395234796182953814761479568236...</td>\n",
       "      <td>Moderate</td>\n",
       "      <td>301</td>\n",
       "      <td>14</td>\n",
       "      <td>[6, 6, 1, 0, 0]</td>\n",
       "      <td>6</td>\n",
       "      <td>6</td>\n",
       "      <td>1</td>\n",
       "      <td>0</td>\n",
       "      <td>0</td>\n",
       "    </tr>\n",
       "  </tbody>\n",
       "</table>\n",
       "</div>"
      ],
      "text/plain": [
       "   Id                                             Sudoku  \\\n",
       "0   0  8...74...1.........7.5.9.4....65.4..73.....296...   \n",
       "1   1  .5.....7.9......6...21.75.8.4..69.3...8...4......   \n",
       "2   2  ...45.2..3.........8....4..7...94.3.9..5.2.76....   \n",
       "3   3  9......31.3...8.....5.7.9..3...4...8.916..54.4...   \n",
       "4   4  9.......2784.1.5.....4.....2.53.1.7...7...8......   \n",
       "\n",
       "                                            Solution       Level  People  \\\n",
       "0  8591742361648325973725698412916574837354186296...  Diabolical     254   \n",
       "1  8539461729175823644621375981458692376283754197...    Moderate     281   \n",
       "2  6974532183248617955819274637186945329435128762...  Diabolical     265   \n",
       "3  9274568316341982758153729643527496187916835424...       Tough     279   \n",
       "4  9615387427846125395234796182953814761479568236...    Moderate     301   \n",
       "\n",
       "   Average-Time           Tracker  Single  Candidate  Twins  Triples  Guess  \n",
       "0            25  [23, 8, 2, 0, 3]      23          8      2        0      3  \n",
       "1            12   [7, 6, 0, 0, 0]       7          6      0        0      0  \n",
       "2            22  [11, 7, 2, 0, 2]      11          7      2        0      2  \n",
       "3            19   [9, 9, 2, 0, 0]       9          9      2        0      0  \n",
       "4            14   [6, 6, 1, 0, 0]       6          6      1        0      0  "
      ]
     },
     "execution_count": 12,
     "metadata": {},
     "output_type": "execute_result"
    }
   ],
   "source": [
    "df.head()"
   ]
  },
  {
   "cell_type": "code",
   "execution_count": 11,
   "metadata": {},
   "outputs": [],
   "source": [
    "df[['Single', 'Candidate', 'Twins', 'Triples', 'Guess']]=  pd.DataFrame(df['Tracker'].values.tolist(), index= df.index)"
   ]
  },
  {
   "cell_type": "code",
   "execution_count": 23,
   "metadata": {},
   "outputs": [],
   "source": [
    "df2=df[['Level','Single', 'Candidate', 'Twins','Triples', 'Guess']].groupby('Level').sum().reset_index()"
   ]
  },
  {
   "cell_type": "code",
   "execution_count": 17,
   "metadata": {},
   "outputs": [
    {
     "data": {
      "image/png": "[encoded data removed]",
      "text/plain": [
       "<Figure size 576x432 with 1 Axes>"
      ]
     },
     "metadata": {},
     "output_type": "display_data"
    }
   ],
   "source": [
    "import matplotlib.pyplot as plt\n",
    "import pandas as pd\n",
    "\n",
    "fig, ax = plt.subplots(nrows=1, ncols=1,figsize=(8,6))\n",
    "ax.bar(df2['Level'], df2['Single'],label='Single')\n",
    "ax.bar(df2['Level'], df2['Candidate'] ,label='Candidate')\n",
    "ax.bar(df2['Level'], df2['Twins'],label='Twins')\n",
    "ax.bar(df2['Level'], df2['Triples'],label='Triples')\n",
    "ax.bar(df2['Level'], df2['Guess'],label='Guess')\n",
    "plt.legend()\n",
    "plt.show();"
   ]
  },
  {
   "cell_type": "code",
   "execution_count": 18,
   "metadata": {},
   "outputs": [],
   "source": [
    "from sklearn.model_selection import train_test_split\n",
    "target =['Level']\n",
    "features = ['Single','Candidate','Twins','Triples','Guess']\n",
    "y = df[target]\n",
    "X= df[features]\n",
    "X_train_val, X_test, y_train_val, y_test = train_test_split(X, y, test_size=0.2, random_state=42)\n",
    "X_train, X_val, y_train, y_val = train_test_split(X_train_val, y_train_val, test_size=0.2, random_state=42)"
   ]
  },
  {
   "cell_type": "code",
   "execution_count": 19,
   "metadata": {},
   "outputs": [
    {
     "data": {
      "text/plain": [
       "((3218, 5), (1006, 5), (805, 5), (3218, 1), (1006, 1), (805, 1))"
      ]
     },
     "execution_count": 19,
     "metadata": {},
     "output_type": "execute_result"
    }
   ],
   "source": [
    " X_train.shape, X_test.shape, X_val.shape, y_train.shape, y_test.shape, y_val.shape"
   ]
  },
  {
   "cell_type": "code",
   "execution_count": 20,
   "metadata": {},
   "outputs": [],
   "source": [
    "# from sklearn import preprocessing\n",
    "# from sklearn.ensemble import RandomForestClassifier\n",
    "# from sklearn.linear_model import LogisticRegression\n",
    "# from sklearn.metrics import log_loss\n",
    "\n",
    "\n",
    "# from sklearn.metrics import accuracy_score\n",
    "# from sklearn.model_selection import train_test_split\n",
    "# from sklearn.model_selection import cross_val_score, GridSearchCV\n",
    "# from sklearn.tree import DecisionTreeClassifier\n"
   ]
  },
  {
   "cell_type": "code",
   "execution_count": 24,
   "metadata": {},
   "outputs": [],
   "source": [
    "# l = LogisticRegression()\n",
    "# r = RandomForestClassifier(n_estimators=25,max_depth=10)\n",
    "# # for i in range(X_train_ordinal.shape[1]):\n",
    "# #     le = preprocessing.LabelEncoder()\n",
    "# #     le.fit(X_train,y_train])\n",
    "# #     les.append(le)\n",
    "# #     X_train_ordinal[:, i] = le.transform(X_train_ordinal[:, i])\n",
    "# #     X_test_ordinal[:, i] = le.transform(X_test_ordinal[:, i])\n",
    "# l.fit(X_train,y_train)\n",
    "# y_pred = l.predict_proba(X_test)\n",
    "# print(log_loss(y_test,y_pred))\n"
   ]
  },
  {
   "cell_type": "code",
   "execution_count": 22,
   "metadata": {},
   "outputs": [
    {
     "data": {
      "text/plain": [
       "array([[4.20467091e-02, 5.52358674e-02, 5.74824918e-01, 3.27892505e-01],\n",
       "       [6.15821910e-02, 2.59487393e-02, 6.14084295e-01, 2.98384775e-01],\n",
       "       [5.85791299e-01, 6.45775374e-05, 1.16234073e-01, 2.97910051e-01],\n",
       "       ...,\n",
       "       [4.83002363e-01, 3.93780178e-03, 1.17345385e-01, 3.95714450e-01],\n",
       "       [4.03720572e-02, 4.57246162e-01, 4.65299154e-01, 3.70826267e-02],\n",
       "       [7.60177592e-02, 7.05464010e-02, 6.71314186e-01, 1.82121654e-01]])"
      ]
     },
     "execution_count": 22,
     "metadata": {},
     "output_type": "execute_result"
    }
   ],
   "source": [
    "# y_pred"
   ]
  },
  {
   "cell_type": "code",
   "execution_count": 26,
   "metadata": {},
   "outputs": [],
   "source": [
    "# r.fit(X_train,y_train)\n",
    "# y_pred = r.predict_proba(X_test)\n",
    "# print(log_loss(y_test,y_pred))"
   ]
  },
  {
   "cell_type": "code",
   "execution_count": 25,
   "metadata": {},
   "outputs": [],
   "source": [
    "# cv_score = cross_val_score(LogisticRegression(), \n",
    "#                             X_train, y_train,\n",
    "#                             scoring = 'accuracy',\n",
    "#                             cv = 3,\n",
    "#                             n_jobs = -1,\n",
    "#                             verbose = 1)"
   ]
  },
  {
   "cell_type": "code",
   "execution_count": 27,
   "metadata": {},
   "outputs": [],
   "source": [
    "# cv_score"
   ]
  },
  {
   "cell_type": "code",
   "execution_count": 28,
   "metadata": {},
   "outputs": [],
   "source": [
    "# clf = DecisionTreeClassifier()\n",
    "# cv_score_clf = cross_val_score(clf, \n",
    "#                             X_train, y_train,\n",
    "#                             scoring = 'accuracy',\n",
    "#                             cv = 3,\n",
    "#                             n_jobs = -1,\n",
    "#                             verbose = 1)\n",
    "# cv_score_clf"
   ]
  },
  {
   "cell_type": "code",
   "execution_count": 29,
   "metadata": {},
   "outputs": [],
   "source": [
    "# clf.fit(X_train, y_train)"
   ]
  },
  {
   "cell_type": "code",
   "execution_count": 30,
   "metadata": {},
   "outputs": [],
   "source": [
    "# y_pred = clf.predict(X_test)\n",
    "# y_pred"
   ]
  },
  {
   "cell_type": "code",
   "execution_count": 31,
   "metadata": {},
   "outputs": [],
   "source": [
    "# clf.fit(X_train, y_train)\n",
    "# clf.score(X_test, y_test)"
   ]
  },
  {
   "cell_type": "code",
   "execution_count": 32,
   "metadata": {},
   "outputs": [],
   "source": [
    "# param_grid = {\n",
    "#     'n_estimators': [10, 20, 30],\n",
    "#     'max_depth': [6, 10, 20, 30]\n",
    "# }\n",
    "# gridsearch = GridSearchCV(RandomForestClassifier(n_jobs = -1), \n",
    "#                           param_grid=param_grid, \n",
    "#                           scoring='accuracy', cv=3, \n",
    "#                           return_train_score=True, verbose=10)\n",
    "# gridsearch.fit(X_train, y_train.values.ravel())"
   ]
  },
  {
   "cell_type": "code",
   "execution_count": 33,
   "metadata": {},
   "outputs": [],
   "source": [
    "# RandomForestClassifier().get_params().keys()"
   ]
  },
  {
   "cell_type": "code",
   "execution_count": 34,
   "metadata": {},
   "outputs": [],
   "source": [
    "# pd.DataFrame(gridsearch.cv_results_).sort_values( \\\n",
    "#                                          by='rank_test_score')"
   ]
  },
  {
   "cell_type": "code",
   "execution_count": 35,
   "metadata": {},
   "outputs": [],
   "source": [
    "# clf = RandomForestClassifier(max_depth = 6, \n",
    "#                              n_estimators = 30, \n",
    "#                              n_jobs = -1)\n",
    "# clf.fit(X_train, y_train)\n",
    "# clf.score(X_test, y_test)"
   ]
  },
  {
   "cell_type": "code",
   "execution_count": 36,
   "metadata": {},
   "outputs": [],
   "source": [
    "# y_pred=clf.predict(X_test)"
   ]
  },
  {
   "cell_type": "code",
   "execution_count": 37,
   "metadata": {},
   "outputs": [],
   "source": [
    "# y_pred"
   ]
  },
  {
   "cell_type": "code",
   "execution_count": 38,
   "metadata": {},
   "outputs": [],
   "source": [
    "# result= y_test\n",
    "# y_array = y_test.to_numpy()\n",
    "# result['y_pred']=y_pred\n",
    "# result.head()"
   ]
  },
  {
   "cell_type": "code",
   "execution_count": 39,
   "metadata": {},
   "outputs": [],
   "source": [
    "# result['Correct']=result['Level']==result['y_pred']"
   ]
  },
  {
   "cell_type": "code",
   "execution_count": 40,
   "metadata": {},
   "outputs": [],
   "source": [
    "# result[result['Correct']==False]"
   ]
  },
  {
   "cell_type": "code",
   "execution_count": 41,
   "metadata": {},
   "outputs": [],
   "source": [
    "# len(list(y_pred))"
   ]
  },
  {
   "cell_type": "code",
   "execution_count": 42,
   "metadata": {},
   "outputs": [],
   "source": [
    "# len(y_test)"
   ]
  },
  {
   "cell_type": "code",
   "execution_count": 43,
   "metadata": {},
   "outputs": [],
   "source": [
    "# df.shape"
   ]
  },
  {
   "cell_type": "code",
   "execution_count": 44,
   "metadata": {},
   "outputs": [],
   "source": [
    "# target2 =['Level']\n",
    "# features2 = ['Single','Candidate','Twins','Triples','Guess']\n",
    "# df2 = df.drop(df[df.Level == ('Gentle')].index)\n",
    "# df2 = df2.drop(df2[df2.Level == ('TEST')].index)\n",
    "# y = df2[target2]\n",
    "# X= df2[features2]\n",
    "# X_train, X_test, y_train, y_test = train_test_split(X, y, test_size=0.2, random_state=42)"
   ]
  },
  {
   "cell_type": "code",
   "execution_count": 45,
   "metadata": {},
   "outputs": [],
   "source": [
    "# df2.shape"
   ]
  },
  {
   "cell_type": "code",
   "execution_count": 46,
   "metadata": {},
   "outputs": [],
   "source": [
    "# df3= df2.drop(['Sudoku','Id','Solution','Tracker','Iterations','People', 'Average-Time'], axis=1)\n",
    "# df3 = df3.replace({'Gentle': 1, 'Moderate': 2, 'Tough': 3,'Diabolical': 4})"
   ]
  },
  {
   "cell_type": "code",
   "execution_count": 47,
   "metadata": {},
   "outputs": [],
   "source": [
    "# df3.corr()"
   ]
  },
  {
   "cell_type": "code",
   "execution_count": 48,
   "metadata": {},
   "outputs": [],
   "source": [
    "# clf = RandomForestClassifier(max_depth = 6, \n",
    "#                              n_estimators = 30, \n",
    "#                              n_jobs = -1)\n",
    "# clf.fit(X_train, y_train)\n",
    "# clf.score(X_test, y_test)"
   ]
  },
  {
   "cell_type": "code",
   "execution_count": 49,
   "metadata": {},
   "outputs": [],
   "source": [
    "# y_pred=clf.predict(X_test)"
   ]
  },
  {
   "cell_type": "code",
   "execution_count": 50,
   "metadata": {},
   "outputs": [],
   "source": [
    "# result= y_test\n",
    "# result['y_pred']=y_pred\n",
    "# result.head()"
   ]
  },
  {
   "cell_type": "code",
   "execution_count": 51,
   "metadata": {},
   "outputs": [],
   "source": [
    "# result['Correct']=result['Level']==result['y_pred']\n",
    "# incorrect=result[result['Correct']==False]"
   ]
  },
  {
   "cell_type": "code",
   "execution_count": 52,
   "metadata": {},
   "outputs": [],
   "source": [
    "# incorrect"
   ]
  },
  {
   "cell_type": "code",
   "execution_count": 53,
   "metadata": {},
   "outputs": [],
   "source": [
    "# df.head()"
   ]
  },
  {
   "cell_type": "code",
   "execution_count": 54,
   "metadata": {},
   "outputs": [],
   "source": [
    "# diabolical=df[df['Level']=='Diabolical']\n",
    "# gentle=df[df['Level']=='Gentle']\n",
    "# moderate=df[df['Level']=='Moderate']\n",
    "# tough=df[df['Level']=='Tough']"
   ]
  },
  {
   "cell_type": "code",
   "execution_count": 55,
   "metadata": {},
   "outputs": [],
   "source": [
    "# gentle.shape"
   ]
  },
  {
   "cell_type": "code",
   "execution_count": 56,
   "metadata": {},
   "outputs": [],
   "source": [
    "# # condition= df[(df['Twins']==0) & (df['Triples']==0)& (df['Guess']==0)]\n",
    "# condition= df[(df['Triples']==0)& (df['Guess']==0)]\n",
    "# condition['Level'].value_counts()"
   ]
  },
  {
   "cell_type": "code",
   "execution_count": 57,
   "metadata": {},
   "outputs": [],
   "source": [
    "# df.groupby('Level').sum().reset_index()"
   ]
  },
  {
   "cell_type": "code",
   "execution_count": 59,
   "metadata": {},
   "outputs": [
    {
     "data": {
      "text/html": [
       "<div>\n",
       "<style scoped>\n",
       "    .dataframe tbody tr th:only-of-type {\n",
       "        vertical-align: middle;\n",
       "    }\n",
       "\n",
       "    .dataframe tbody tr th {\n",
       "        vertical-align: top;\n",
       "    }\n",
       "\n",
       "    .dataframe thead th {\n",
       "        text-align: right;\n",
       "    }\n",
       "</style>\n",
       "<table border=\"1\" class=\"dataframe\">\n",
       "  <thead>\n",
       "    <tr style=\"text-align: right;\">\n",
       "      <th></th>\n",
       "      <th>Level</th>\n",
       "      <th>Single</th>\n",
       "      <th>Candidate</th>\n",
       "      <th>Twins</th>\n",
       "      <th>Triples</th>\n",
       "      <th>Guess</th>\n",
       "    </tr>\n",
       "  </thead>\n",
       "  <tbody>\n",
       "    <tr>\n",
       "      <th>0</th>\n",
       "      <td>Diabolical</td>\n",
       "      <td>24339</td>\n",
       "      <td>11778</td>\n",
       "      <td>3229</td>\n",
       "      <td>76</td>\n",
       "      <td>2379</td>\n",
       "    </tr>\n",
       "    <tr>\n",
       "      <th>1</th>\n",
       "      <td>Gentle</td>\n",
       "      <td>3753</td>\n",
       "      <td>3520</td>\n",
       "      <td>895</td>\n",
       "      <td>23</td>\n",
       "      <td>0</td>\n",
       "    </tr>\n",
       "    <tr>\n",
       "      <th>2</th>\n",
       "      <td>Moderate</td>\n",
       "      <td>14772</td>\n",
       "      <td>13609</td>\n",
       "      <td>3719</td>\n",
       "      <td>109</td>\n",
       "      <td>54</td>\n",
       "    </tr>\n",
       "    <tr>\n",
       "      <th>3</th>\n",
       "      <td>Tough</td>\n",
       "      <td>9088</td>\n",
       "      <td>5482</td>\n",
       "      <td>1804</td>\n",
       "      <td>52</td>\n",
       "      <td>640</td>\n",
       "    </tr>\n",
       "  </tbody>\n",
       "</table>\n",
       "</div>"
      ],
      "text/plain": [
       "        Level  Single  Candidate  Twins  Triples  Guess\n",
       "0  Diabolical   24339      11778   3229       76   2379\n",
       "1      Gentle    3753       3520    895       23      0\n",
       "2    Moderate   14772      13609   3719      109     54\n",
       "3       Tough    9088       5482   1804       52    640"
      ]
     },
     "execution_count": 59,
     "metadata": {},
     "output_type": "execute_result"
    }
   ],
   "source": [
    "df2=df[['Level','Single', 'Candidate', 'Twins','Triples', 'Guess']].groupby('Level').sum().reset_index()\n",
    "df2"
   ]
  },
  {
   "cell_type": "code",
   "execution_count": 180,
   "metadata": {},
   "outputs": [
    {
     "data": {
      "image/png": "[encoded data removed]",
      "text/plain": [
       "<Figure size 576x432 with 1 Axes>"
      ]
     },
     "metadata": {},
     "output_type": "display_data"
    }
   ],
   "source": [
    "import matplotlib.pyplot as plt\n",
    "import pandas as pd\n",
    "\n",
    "fig, ax = plt.subplots(nrows=1, ncols=1,figsize=(8,6))\n",
    "# ax.bar(df2['Level'], df2['Single'],label='Single')\n",
    "ax.bar(df2['Level'], df2['Candidate'] ,label='Candidate')\n",
    "ax.bar(df2['Level'], df2['Twins'],label='Twins')\n",
    "ax.bar(df2['Level'], df2['Triples'],label='Triples')\n",
    "ax.bar(df2['Level'], df2['Guess'],label='Guess')\n",
    "plt.legend()\n",
    "plt.show();"
   ]
  },
  {
   "cell_type": "code",
   "execution_count": 181,
   "metadata": {},
   "outputs": [],
   "source": [
    "diabolical=df[df['Level']=='Diabolical']\n",
    "gentle=df[df['Level']=='Gentle']\n",
    "moderate=df[df['Level']=='Moderate']\n",
    "tough=df[df['Level']=='Tough']"
   ]
  },
  {
   "cell_type": "code",
   "execution_count": 182,
   "metadata": {},
   "outputs": [
    {
     "data": {
      "text/html": [
       "<div>\n",
       "<style scoped>\n",
       "    .dataframe tbody tr th:only-of-type {\n",
       "        vertical-align: middle;\n",
       "    }\n",
       "\n",
       "    .dataframe tbody tr th {\n",
       "        vertical-align: top;\n",
       "    }\n",
       "\n",
       "    .dataframe thead th {\n",
       "        text-align: right;\n",
       "    }\n",
       "</style>\n",
       "<table border=\"1\" class=\"dataframe\">\n",
       "  <thead>\n",
       "    <tr style=\"text-align: right;\">\n",
       "      <th></th>\n",
       "      <th>Level</th>\n",
       "      <th>Single</th>\n",
       "      <th>Candidate</th>\n",
       "      <th>Twins</th>\n",
       "      <th>Triples</th>\n",
       "      <th>Guess</th>\n",
       "    </tr>\n",
       "  </thead>\n",
       "  <tbody>\n",
       "    <tr>\n",
       "      <th>0</th>\n",
       "      <td>Diabolical</td>\n",
       "      <td>24339</td>\n",
       "      <td>11778</td>\n",
       "      <td>3229</td>\n",
       "      <td>76</td>\n",
       "      <td>2379</td>\n",
       "    </tr>\n",
       "    <tr>\n",
       "      <th>1</th>\n",
       "      <td>Gentle</td>\n",
       "      <td>3753</td>\n",
       "      <td>3520</td>\n",
       "      <td>895</td>\n",
       "      <td>23</td>\n",
       "      <td>0</td>\n",
       "    </tr>\n",
       "    <tr>\n",
       "      <th>2</th>\n",
       "      <td>Moderate</td>\n",
       "      <td>14772</td>\n",
       "      <td>13609</td>\n",
       "      <td>3719</td>\n",
       "      <td>109</td>\n",
       "      <td>54</td>\n",
       "    </tr>\n",
       "    <tr>\n",
       "      <th>3</th>\n",
       "      <td>Tough</td>\n",
       "      <td>9088</td>\n",
       "      <td>5482</td>\n",
       "      <td>1804</td>\n",
       "      <td>52</td>\n",
       "      <td>640</td>\n",
       "    </tr>\n",
       "  </tbody>\n",
       "</table>\n",
       "</div>"
      ],
      "text/plain": [
       "        Level  Single  Candidate  Twins  Triples  Guess\n",
       "0  Diabolical   24339      11778   3229       76   2379\n",
       "1      Gentle    3753       3520    895       23      0\n",
       "2    Moderate   14772      13609   3719      109     54\n",
       "3       Tough    9088       5482   1804       52    640"
      ]
     },
     "execution_count": 182,
     "metadata": {},
     "output_type": "execute_result"
    }
   ],
   "source": [
    "df2"
   ]
  },
  {
   "cell_type": "code",
   "execution_count": 183,
   "metadata": {},
   "outputs": [],
   "source": [
    "\n",
    "def iterator33(values):\n",
    "    single = 0\n",
    "    candidate = 0\n",
    "    twins = 0\n",
    "    triples = 0\n",
    "    guess=0\n",
    "    stalled = False\n",
    "    start=0\n",
    "    primero='0'\n",
    "    segundo='0'\n",
    "    while not stalled:\n",
    "        initial = transf(values)\n",
    "#         print(initial)\n",
    "        values_before = values.values()\n",
    "        values = single_position(values)\n",
    "        values_after = transf(values)\n",
    "        single += (0 if values_before == values_after else 1) \n",
    "\n",
    "        \n",
    "        values_before = values_after\n",
    "        values = single_candidate(values)\n",
    "        values_after = transf(values)\n",
    "        candidate += (0 if values_before == values_after else 1)  \n",
    "        if (start == 0) & (candidate==1):\n",
    "            primero='candidate'\n",
    "        if (start == 1) & (values_before != values_after):\n",
    "            segundo='candidate'\n",
    "\n",
    "        values_before = values_after\n",
    "        values = naked_twins(values)\n",
    "        values_after = transf(values)\n",
    "        twins += (0 if values_before == values_after else 1)\n",
    "        if (start == 0) & (candidate==0) & (twins==1):\n",
    "            primero='twins'\n",
    "        if (start == 1) & (values_before != values_after):\n",
    "            segundo='twins'\n",
    "        values_before = values_after\n",
    "        values = naked_triple(values)\n",
    "        values_after = transf(values)\n",
    "        triples += (0 if values_before == values_after else 1)\n",
    "        if (start == 0) & (candidate==0) & (twins==0)& (triples==1):\n",
    "            primero='triples'\n",
    "        if (start == 1) & (values_before != values_after):\n",
    "            segundo='triples'\n",
    "        solved_values = len([box for box in values.keys() if len(values[box]) == 1])\n",
    "        if solved_values is 81:\n",
    "            break\n",
    "        if (solved_values !=  81) & (primero == '0'):\n",
    "            primero = 'guess'\n",
    "        if (start == 1)&(solved_values !=  81) & (initial == values_after):\n",
    "            segundo = 'guess'    \n",
    "        stalled = solved_values == 81    \n",
    "        \n",
    "        if initial == values_after: \n",
    "   \n",
    "            start += 1\n",
    "            aa = [(len(values[s]), s) for s in boxes if len(values[s]) > 1]\n",
    "            if len(aa) is 0:\n",
    "                pass\n",
    "            if len(aa) > 0:\n",
    "                guess +=1\n",
    "                _,s = min(aa)\n",
    "                for value in values[s]:\n",
    "                    new_sudoku = values.copy()\n",
    "                    new_sudoku[s] = value\n",
    "                    values = new_sudoku\n",
    "            if start is 10:\n",
    "                break\n",
    "\n",
    "\n",
    "#     return([single, candidate, twins, triples, guess, start, solved_values])\n",
    "    return([single, candidate, twins, triples, guess, primero,segundo])"
   ]
  },
  {
   "cell_type": "code",
   "execution_count": 184,
   "metadata": {},
   "outputs": [
    {
     "name": "stdout",
     "output_type": "stream",
     "text": [
      "test2 [7, 6, 0, 0, 0, 'candidate', '0']\n",
      "test3 [23, 8, 2, 0, 3, 'candidate', 'guess']\n",
      "test_triple [15, 4, 0, 0, 1, 'guess', 'guess']\n",
      "test_triple2 [16, 7, 2, 0, 4, 'guess', 'guess']\n",
      "test_triple3 [10, 8, 0, 1, 0, 'candidate', '0']\n",
      "test_rob [16, 6, 2, 0, 1, 'candidate', 'guess']\n",
      "rob_example2 [24, 11, 4, 0, 5, 'candidate', 'guess']\n"
     ]
    }
   ],
   "source": [
    "count =0\n",
    "\n",
    "for test in tests:\n",
    "    values=dict(zip(boxes, [\"123456789\" if element == \".\" else element for element in test]))\n",
    "    print(names_tests[count], iterator33(values))\n",
    "#     print(solve(test)[1])\n",
    "    count+=1"
   ]
  },
  {
   "cell_type": "code",
   "execution_count": 185,
   "metadata": {},
   "outputs": [],
   "source": [
    "##second analisys\n",
    "df_copy=df.copy()\n",
    "df_copy['Tracker'] = df_copy['Sudoku'].apply(lambda x: iterator33(conv_values(x)))"
   ]
  },
  {
   "cell_type": "code",
   "execution_count": 186,
   "metadata": {},
   "outputs": [],
   "source": [
    "df_copy[['Single', 'Candidate', 'Twins', 'Triples', 'Guess','Primero','Segundo']]=  pd.DataFrame(df_copy['Tracker'].values.tolist(), index= df.index)"
   ]
  },
  {
   "cell_type": "code",
   "execution_count": 187,
   "metadata": {},
   "outputs": [
    {
     "data": {
      "text/html": [
       "<div>\n",
       "<style scoped>\n",
       "    .dataframe tbody tr th:only-of-type {\n",
       "        vertical-align: middle;\n",
       "    }\n",
       "\n",
       "    .dataframe tbody tr th {\n",
       "        vertical-align: top;\n",
       "    }\n",
       "\n",
       "    .dataframe thead th {\n",
       "        text-align: right;\n",
       "    }\n",
       "</style>\n",
       "<table border=\"1\" class=\"dataframe\">\n",
       "  <thead>\n",
       "    <tr style=\"text-align: right;\">\n",
       "      <th></th>\n",
       "      <th>Id</th>\n",
       "      <th>Sudoku</th>\n",
       "      <th>Solution</th>\n",
       "      <th>Level</th>\n",
       "      <th>People</th>\n",
       "      <th>Average-Time</th>\n",
       "      <th>Tracker</th>\n",
       "      <th>Single</th>\n",
       "      <th>Candidate</th>\n",
       "      <th>Twins</th>\n",
       "      <th>Triples</th>\n",
       "      <th>Guess</th>\n",
       "      <th>Iterations</th>\n",
       "      <th>Primero</th>\n",
       "      <th>Segundo</th>\n",
       "    </tr>\n",
       "  </thead>\n",
       "  <tbody>\n",
       "    <tr>\n",
       "      <th>0</th>\n",
       "      <td>0</td>\n",
       "      <td>8...74...1.........7.5.9.4....65.4..73.....296...</td>\n",
       "      <td>8591742361648325973725698412916574837354186296...</td>\n",
       "      <td>Diabolical</td>\n",
       "      <td>254</td>\n",
       "      <td>25</td>\n",
       "      <td>[23, 8, 2, 0, 3, candidate, guess]</td>\n",
       "      <td>23</td>\n",
       "      <td>8</td>\n",
       "      <td>2</td>\n",
       "      <td>0</td>\n",
       "      <td>3</td>\n",
       "      <td>36</td>\n",
       "      <td>candidate</td>\n",
       "      <td>guess</td>\n",
       "    </tr>\n",
       "    <tr>\n",
       "      <th>1</th>\n",
       "      <td>1</td>\n",
       "      <td>.5.....7.9......6...21.75.8.4..69.3...8...4......</td>\n",
       "      <td>8539461729175823644621375981458692376283754197...</td>\n",
       "      <td>Moderate</td>\n",
       "      <td>281</td>\n",
       "      <td>12</td>\n",
       "      <td>[7, 6, 0, 0, 0, candidate, 0]</td>\n",
       "      <td>7</td>\n",
       "      <td>6</td>\n",
       "      <td>0</td>\n",
       "      <td>0</td>\n",
       "      <td>0</td>\n",
       "      <td>13</td>\n",
       "      <td>candidate</td>\n",
       "      <td>0</td>\n",
       "    </tr>\n",
       "    <tr>\n",
       "      <th>2</th>\n",
       "      <td>2</td>\n",
       "      <td>...45.2..3.........8....4..7...94.3.9..5.2.76....</td>\n",
       "      <td>6974532183248617955819274637186945329435128762...</td>\n",
       "      <td>Diabolical</td>\n",
       "      <td>265</td>\n",
       "      <td>22</td>\n",
       "      <td>[11, 7, 2, 0, 2, candidate, guess]</td>\n",
       "      <td>11</td>\n",
       "      <td>7</td>\n",
       "      <td>2</td>\n",
       "      <td>0</td>\n",
       "      <td>2</td>\n",
       "      <td>22</td>\n",
       "      <td>candidate</td>\n",
       "      <td>guess</td>\n",
       "    </tr>\n",
       "    <tr>\n",
       "      <th>3</th>\n",
       "      <td>3</td>\n",
       "      <td>9......31.3...8.....5.7.9..3...4...8.916..54.4...</td>\n",
       "      <td>9274568316341982758153729643527496187916835424...</td>\n",
       "      <td>Tough</td>\n",
       "      <td>279</td>\n",
       "      <td>19</td>\n",
       "      <td>[9, 9, 2, 0, 0, candidate, 0]</td>\n",
       "      <td>9</td>\n",
       "      <td>9</td>\n",
       "      <td>2</td>\n",
       "      <td>0</td>\n",
       "      <td>0</td>\n",
       "      <td>20</td>\n",
       "      <td>candidate</td>\n",
       "      <td>0</td>\n",
       "    </tr>\n",
       "    <tr>\n",
       "      <th>4</th>\n",
       "      <td>4</td>\n",
       "      <td>9.......2784.1.5.....4.....2.53.1.7...7...8......</td>\n",
       "      <td>9615387427846125395234796182953814761479568236...</td>\n",
       "      <td>Moderate</td>\n",
       "      <td>301</td>\n",
       "      <td>14</td>\n",
       "      <td>[6, 6, 1, 0, 0, candidate, 0]</td>\n",
       "      <td>6</td>\n",
       "      <td>6</td>\n",
       "      <td>1</td>\n",
       "      <td>0</td>\n",
       "      <td>0</td>\n",
       "      <td>13</td>\n",
       "      <td>candidate</td>\n",
       "      <td>0</td>\n",
       "    </tr>\n",
       "  </tbody>\n",
       "</table>\n",
       "</div>"
      ],
      "text/plain": [
       "   Id                                             Sudoku  \\\n",
       "0   0  8...74...1.........7.5.9.4....65.4..73.....296...   \n",
       "1   1  .5.....7.9......6...21.75.8.4..69.3...8...4......   \n",
       "2   2  ...45.2..3.........8....4..7...94.3.9..5.2.76....   \n",
       "3   3  9......31.3...8.....5.7.9..3...4...8.916..54.4...   \n",
       "4   4  9.......2784.1.5.....4.....2.53.1.7...7...8......   \n",
       "\n",
       "                                            Solution       Level  People  \\\n",
       "0  8591742361648325973725698412916574837354186296...  Diabolical     254   \n",
       "1  8539461729175823644621375981458692376283754197...    Moderate     281   \n",
       "2  6974532183248617955819274637186945329435128762...  Diabolical     265   \n",
       "3  9274568316341982758153729643527496187916835424...       Tough     279   \n",
       "4  9615387427846125395234796182953814761479568236...    Moderate     301   \n",
       "\n",
       "   Average-Time                             Tracker  Single  Candidate  Twins  \\\n",
       "0            25  [23, 8, 2, 0, 3, candidate, guess]      23          8      2   \n",
       "1            12       [7, 6, 0, 0, 0, candidate, 0]       7          6      0   \n",
       "2            22  [11, 7, 2, 0, 2, candidate, guess]      11          7      2   \n",
       "3            19       [9, 9, 2, 0, 0, candidate, 0]       9          9      2   \n",
       "4            14       [6, 6, 1, 0, 0, candidate, 0]       6          6      1   \n",
       "\n",
       "   Triples  Guess  Iterations    Primero Segundo  \n",
       "0        0      3          36  candidate   guess  \n",
       "1        0      0          13  candidate       0  \n",
       "2        0      2          22  candidate   guess  \n",
       "3        0      0          20  candidate       0  \n",
       "4        0      0          13  candidate       0  "
      ]
     },
     "execution_count": 187,
     "metadata": {},
     "output_type": "execute_result"
    }
   ],
   "source": [
    "# # df_copy[['Level','Primero']]\n",
    "# df_copy[df_copy['Primero']!='NO']\n",
    "df_copy.head()"
   ]
  },
  {
   "cell_type": "code",
   "execution_count": 188,
   "metadata": {},
   "outputs": [
    {
     "data": {
      "text/html": [
       "<div>\n",
       "<style scoped>\n",
       "    .dataframe tbody tr th:only-of-type {\n",
       "        vertical-align: middle;\n",
       "    }\n",
       "\n",
       "    .dataframe tbody tr th {\n",
       "        vertical-align: top;\n",
       "    }\n",
       "\n",
       "    .dataframe thead th {\n",
       "        text-align: right;\n",
       "    }\n",
       "</style>\n",
       "<table border=\"1\" class=\"dataframe\">\n",
       "  <thead>\n",
       "    <tr style=\"text-align: right;\">\n",
       "      <th></th>\n",
       "      <th>Id</th>\n",
       "      <th>Sudoku</th>\n",
       "      <th>Solution</th>\n",
       "      <th>Level</th>\n",
       "      <th>People</th>\n",
       "      <th>Average-Time</th>\n",
       "      <th>Tracker</th>\n",
       "      <th>Single</th>\n",
       "      <th>Candidate</th>\n",
       "      <th>Twins</th>\n",
       "      <th>Triples</th>\n",
       "      <th>Guess</th>\n",
       "      <th>Iterations</th>\n",
       "      <th>Primero</th>\n",
       "      <th>Segundo</th>\n",
       "    </tr>\n",
       "  </thead>\n",
       "  <tbody>\n",
       "    <tr>\n",
       "      <th>0</th>\n",
       "      <td>0</td>\n",
       "      <td>8...74...1.........7.5.9.4....65.4..73.....296...</td>\n",
       "      <td>8591742361648325973725698412916574837354186296...</td>\n",
       "      <td>Diabolical</td>\n",
       "      <td>254</td>\n",
       "      <td>25</td>\n",
       "      <td>[23, 8, 2, 0, 3, candidate, guess]</td>\n",
       "      <td>23</td>\n",
       "      <td>8</td>\n",
       "      <td>2</td>\n",
       "      <td>0</td>\n",
       "      <td>3</td>\n",
       "      <td>36</td>\n",
       "      <td>candidate</td>\n",
       "      <td>guess</td>\n",
       "    </tr>\n",
       "    <tr>\n",
       "      <th>2</th>\n",
       "      <td>2</td>\n",
       "      <td>...45.2..3.........8....4..7...94.3.9..5.2.76....</td>\n",
       "      <td>6974532183248617955819274637186945329435128762...</td>\n",
       "      <td>Diabolical</td>\n",
       "      <td>265</td>\n",
       "      <td>22</td>\n",
       "      <td>[11, 7, 2, 0, 2, candidate, guess]</td>\n",
       "      <td>11</td>\n",
       "      <td>7</td>\n",
       "      <td>2</td>\n",
       "      <td>0</td>\n",
       "      <td>2</td>\n",
       "      <td>22</td>\n",
       "      <td>candidate</td>\n",
       "      <td>guess</td>\n",
       "    </tr>\n",
       "    <tr>\n",
       "      <th>7</th>\n",
       "      <td>7</td>\n",
       "      <td>..1.4.....8.....129...7...83.5.....4..6..72..4...</td>\n",
       "      <td>6215483975873694129342716583158269748964172354...</td>\n",
       "      <td>Diabolical</td>\n",
       "      <td>262</td>\n",
       "      <td>25</td>\n",
       "      <td>[19, 7, 6, 0, 1, candidate, guess]</td>\n",
       "      <td>19</td>\n",
       "      <td>7</td>\n",
       "      <td>6</td>\n",
       "      <td>0</td>\n",
       "      <td>1</td>\n",
       "      <td>33</td>\n",
       "      <td>candidate</td>\n",
       "      <td>guess</td>\n",
       "    </tr>\n",
       "    <tr>\n",
       "      <th>9</th>\n",
       "      <td>9</td>\n",
       "      <td>5..73.....78.......2.5...9.1.......875..9..242...</td>\n",
       "      <td>5917364826784293153245817961492756387568931242...</td>\n",
       "      <td>Diabolical</td>\n",
       "      <td>253</td>\n",
       "      <td>27</td>\n",
       "      <td>[12, 9, 3, 0, 1, candidate, candidate]</td>\n",
       "      <td>12</td>\n",
       "      <td>9</td>\n",
       "      <td>3</td>\n",
       "      <td>0</td>\n",
       "      <td>1</td>\n",
       "      <td>25</td>\n",
       "      <td>candidate</td>\n",
       "      <td>candidate</td>\n",
       "    </tr>\n",
       "    <tr>\n",
       "      <th>14</th>\n",
       "      <td>14</td>\n",
       "      <td>.6...3.7.....6.1.49.......3..97.45..7...1...9....</td>\n",
       "      <td>8641239753259671849175486232897345617462158391...</td>\n",
       "      <td>Diabolical</td>\n",
       "      <td>238</td>\n",
       "      <td>30</td>\n",
       "      <td>[9, 8, 1, 0, 1, candidate, candidate]</td>\n",
       "      <td>9</td>\n",
       "      <td>8</td>\n",
       "      <td>1</td>\n",
       "      <td>0</td>\n",
       "      <td>1</td>\n",
       "      <td>19</td>\n",
       "      <td>candidate</td>\n",
       "      <td>candidate</td>\n",
       "    </tr>\n",
       "  </tbody>\n",
       "</table>\n",
       "</div>"
      ],
      "text/plain": [
       "    Id                                             Sudoku  \\\n",
       "0    0  8...74...1.........7.5.9.4....65.4..73.....296...   \n",
       "2    2  ...45.2..3.........8....4..7...94.3.9..5.2.76....   \n",
       "7    7  ..1.4.....8.....129...7...83.5.....4..6..72..4...   \n",
       "9    9  5..73.....78.......2.5...9.1.......875..9..242...   \n",
       "14  14  .6...3.7.....6.1.49.......3..97.45..7...1...9....   \n",
       "\n",
       "                                             Solution       Level  People  \\\n",
       "0   8591742361648325973725698412916574837354186296...  Diabolical     254   \n",
       "2   6974532183248617955819274637186945329435128762...  Diabolical     265   \n",
       "7   6215483975873694129342716583158269748964172354...  Diabolical     262   \n",
       "9   5917364826784293153245817961492756387568931242...  Diabolical     253   \n",
       "14  8641239753259671849175486232897345617462158391...  Diabolical     238   \n",
       "\n",
       "    Average-Time                                 Tracker  Single  Candidate  \\\n",
       "0             25      [23, 8, 2, 0, 3, candidate, guess]      23          8   \n",
       "2             22      [11, 7, 2, 0, 2, candidate, guess]      11          7   \n",
       "7             25      [19, 7, 6, 0, 1, candidate, guess]      19          7   \n",
       "9             27  [12, 9, 3, 0, 1, candidate, candidate]      12          9   \n",
       "14            30   [9, 8, 1, 0, 1, candidate, candidate]       9          8   \n",
       "\n",
       "    Twins  Triples  Guess  Iterations    Primero    Segundo  \n",
       "0       2        0      3          36  candidate      guess  \n",
       "2       2        0      2          22  candidate      guess  \n",
       "7       6        0      1          33  candidate      guess  \n",
       "9       3        0      1          25  candidate  candidate  \n",
       "14      1        0      1          19  candidate  candidate  "
      ]
     },
     "execution_count": 188,
     "metadata": {},
     "output_type": "execute_result"
    }
   ],
   "source": [
    "diabolical=df_copy[df_copy['Level']=='Diabolical']\n",
    "gentle=df_copy[df_copy['Level']=='Gentle']\n",
    "moderate=df_copy[df_copy['Level']=='Moderate']\n",
    "tough=df_copy[df_copy['Level']=='Tough']\n",
    "diabolical.head()"
   ]
  },
  {
   "cell_type": "code",
   "execution_count": 189,
   "metadata": {},
   "outputs": [
    {
     "data": {
      "text/plain": [
       "candidate    5024\n",
       "guess           3\n",
       "twins           2\n",
       "Name: Primero, dtype: int64"
      ]
     },
     "execution_count": 189,
     "metadata": {},
     "output_type": "execute_result"
    }
   ],
   "source": [
    "df_copy['Primero'].value_counts()"
   ]
  },
  {
   "cell_type": "code",
   "execution_count": 190,
   "metadata": {},
   "outputs": [
    {
     "data": {
      "text/plain": [
       "0            3185\n",
       "guess        1258\n",
       "candidate     585\n",
       "twins           1\n",
       "Name: Segundo, dtype: int64"
      ]
     },
     "execution_count": 190,
     "metadata": {},
     "output_type": "execute_result"
    }
   ],
   "source": [
    "df_copy['Segundo'].value_counts()"
   ]
  },
  {
   "cell_type": "code",
   "execution_count": null,
   "metadata": {},
   "outputs": [],
   "source": []
  },
  {
   "cell_type": "code",
   "execution_count": 191,
   "metadata": {},
   "outputs": [
    {
     "name": "stdout",
     "output_type": "stream",
     "text": [
      "gentle [11 10 12 13  9 14  8 15 16  7 17  6 19 18 22]\n",
      "moderate [ 6  7  8  9 10 11 12 13 14 15 16 17 18 19 20 21 22 23 24 25 26 27 28 29\n",
      " 30 31 32 33 34 35 36 37 39 46]\n",
      "tough [10 11 12 13 14 15 16 17 18 19 20 21 22 23 24 25 26 27 28 29 30 31 32 33\n",
      " 34 35 36 37 38 39 40 41 42 43 44 45 46 47 53]\n",
      "diabolical [13 14 15 16 17 18 19 20 21 22 23 24 25 26 27 28 29 30 31 32 33 34 35 36\n",
      " 37 38 39 40 41 42 43 44 45 46 47 48 49 51 52 55]\n"
     ]
    }
   ],
   "source": [
    "print('gentle',np.array(gentle['Iterations'].value_counts().index))\n",
    "print(\"moderate\",np.array(moderate['Iterations'].value_counts().index.sort_values()))\n",
    "print('tough',np.array(tough['Iterations'].value_counts().index.sort_values()))\n",
    "print('diabolical',np.array(diabolical['Iterations'].value_counts().index.sort_values()))\n"
   ]
  },
  {
   "cell_type": "code",
   "execution_count": 192,
   "metadata": {},
   "outputs": [],
   "source": [
    "# import matplotlib.pyplot as plt\n",
    "# import pandas as pd\n",
    "\n",
    "# fig, ax = plt.subplots(nrows=1, ncols=1,figsize=(8,6))\n",
    "# # ax.bar(df2['Level'], df2['Single'],label='Single')\n",
    "# ax.bar(diabolical['Level'], diabolical['Candidate'] ,label='Candidate')\n",
    "# ax.bar(diabolical['Level'], diabolical['Twins'],label='Twins')\n",
    "# ax.bar(diabolical['Level'], diabolical['Triples'],label='Triples')\n",
    "# ax.bar(diabolical['Level'], diabolical['Guess'],label='Guess')\n",
    "# plt.legend()\n",
    "# plt.show();"
   ]
  },
  {
   "cell_type": "code",
   "execution_count": 193,
   "metadata": {},
   "outputs": [],
   "source": [
    "# df_copy['Iterations'].value_counts()"
   ]
  },
  {
   "cell_type": "code",
   "execution_count": 194,
   "metadata": {},
   "outputs": [],
   "source": [
    "# diabolical['Guess'].value_counts()"
   ]
  },
  {
   "cell_type": "code",
   "execution_count": 195,
   "metadata": {},
   "outputs": [
    {
     "data": {
      "text/plain": [
       "array([0, 1, 1])"
      ]
     },
     "execution_count": 195,
     "metadata": {},
     "output_type": "execute_result"
    }
   ],
   "source": [
    "a=[0,0,0]\n",
    "b=[0,1,1]\n",
    "\n",
    "np.add(a, b)"
   ]
  },
  {
   "cell_type": "code",
   "execution_count": 196,
   "metadata": {},
   "outputs": [],
   "source": [
    "def iterator44(values):\n",
    "    stalled = False\n",
    "    start=0\n",
    "    answ=[0,0,0,0,0]\n",
    "    while not stalled:\n",
    "        initial = transf(values)\n",
    "#         print(initial)\n",
    "        values_before = values.values()\n",
    "        values = single_position(values)\n",
    "        values_after = transf(values)\n",
    "        answ = (answ if values_before == values_after else np.add(answ, [1,0,0,0,0]))\n",
    "        \n",
    "        values_before = values_after\n",
    "        values = single_candidate(values)\n",
    "        values_after = transf(values)\n",
    "        answ = (answ if values_before == values_after else np.add(answ, [0,1,0,0,0])) \n",
    "\n",
    "        values_before = values_after\n",
    "        values = naked_twins(values)\n",
    "        values_after = transf(values)\n",
    "        answ = (answ if values_before == values_after else np.add(answ, [0,0,1,0,0])) \n",
    "        \n",
    "        values_before = values_after\n",
    "        values = naked_triple(values)\n",
    "        values_after = transf(values)\n",
    "        answ = (answ if values_before == values_after else np.add(answ, [0,0,0,1,0])) \n",
    "            \n",
    "        solved_values = len([box for box in values.keys() if len(values[box]) == 1])\n",
    "        if solved_values is 81:\n",
    "            break\n",
    " \n",
    "        stalled = solved_values == 81    \n",
    "        \n",
    "        if initial == values_after: \n",
    "            start += 1\n",
    "            aa = [(len(values[s]), s) for s in boxes if len(values[s]) > 1]\n",
    "            if len(aa) is 0:\n",
    "                pass\n",
    "            if len(aa) > 0:\n",
    "                answ = np.add(answ, [0,0,0,0,1])\n",
    "                _,s = min(aa)\n",
    "                for value in values[s]:\n",
    "                    new_sudoku = values.copy()\n",
    "                    new_sudoku[s] = value\n",
    "                    values = new_sudoku\n",
    "            if start is 10:\n",
    "                break\n",
    "    return(answ)"
   ]
  },
  {
   "cell_type": "code",
   "execution_count": 197,
   "metadata": {},
   "outputs": [
    {
     "name": "stdout",
     "output_type": "stream",
     "text": [
      "test2 [7 6 0 0 0]\n",
      "test3 [23  8  2  0  3]\n",
      "test_triple [15  4  0  0  1]\n",
      "test_triple2 [16  7  2  0  4]\n",
      "test_triple3 [10  8  0  1  0]\n",
      "test_rob [16  6  2  0  1]\n",
      "rob_example2 [24 11  4  0  5]\n"
     ]
    }
   ],
   "source": [
    "count =0\n",
    "\n",
    "for test in tests:\n",
    "    values=dict(zip(boxes, [\"123456789\" if element == \".\" else element for element in test]))\n",
    "    print(names_tests[count], iterator44(values))\n",
    "#     print(solve(test)[1])\n",
    "    count+=1"
   ]
  },
  {
   "cell_type": "code",
   "execution_count": 198,
   "metadata": {},
   "outputs": [
    {
     "data": {
      "text/html": [
       "<div>\n",
       "<style scoped>\n",
       "    .dataframe tbody tr th:only-of-type {\n",
       "        vertical-align: middle;\n",
       "    }\n",
       "\n",
       "    .dataframe tbody tr th {\n",
       "        vertical-align: top;\n",
       "    }\n",
       "\n",
       "    .dataframe thead th {\n",
       "        text-align: right;\n",
       "    }\n",
       "</style>\n",
       "<table border=\"1\" class=\"dataframe\">\n",
       "  <thead>\n",
       "    <tr style=\"text-align: right;\">\n",
       "      <th></th>\n",
       "      <th>Id</th>\n",
       "      <th>Sudoku</th>\n",
       "      <th>Solution</th>\n",
       "      <th>Level</th>\n",
       "      <th>People</th>\n",
       "      <th>Average-Time</th>\n",
       "    </tr>\n",
       "  </thead>\n",
       "  <tbody>\n",
       "    <tr>\n",
       "      <th>0</th>\n",
       "      <td>0</td>\n",
       "      <td>8...74...1.........7.5.9.4....65.4..73.....296...</td>\n",
       "      <td>8591742361648325973725698412916574837354186296...</td>\n",
       "      <td>Diabolical</td>\n",
       "      <td>254</td>\n",
       "      <td>25</td>\n",
       "    </tr>\n",
       "    <tr>\n",
       "      <th>1</th>\n",
       "      <td>1</td>\n",
       "      <td>.5.....7.9......6...21.75.8.4..69.3...8...4......</td>\n",
       "      <td>8539461729175823644621375981458692376283754197...</td>\n",
       "      <td>Moderate</td>\n",
       "      <td>281</td>\n",
       "      <td>12</td>\n",
       "    </tr>\n",
       "    <tr>\n",
       "      <th>2</th>\n",
       "      <td>2</td>\n",
       "      <td>...45.2..3.........8....4..7...94.3.9..5.2.76....</td>\n",
       "      <td>6974532183248617955819274637186945329435128762...</td>\n",
       "      <td>Diabolical</td>\n",
       "      <td>265</td>\n",
       "      <td>22</td>\n",
       "    </tr>\n",
       "    <tr>\n",
       "      <th>3</th>\n",
       "      <td>3</td>\n",
       "      <td>9......31.3...8.....5.7.9..3...4...8.916..54.4...</td>\n",
       "      <td>9274568316341982758153729643527496187916835424...</td>\n",
       "      <td>Tough</td>\n",
       "      <td>279</td>\n",
       "      <td>19</td>\n",
       "    </tr>\n",
       "    <tr>\n",
       "      <th>4</th>\n",
       "      <td>4</td>\n",
       "      <td>9.......2784.1.5.....4.....2.53.1.7...7...8......</td>\n",
       "      <td>9615387427846125395234796182953814761479568236...</td>\n",
       "      <td>Moderate</td>\n",
       "      <td>301</td>\n",
       "      <td>14</td>\n",
       "    </tr>\n",
       "  </tbody>\n",
       "</table>\n",
       "</div>"
      ],
      "text/plain": [
       "   Id                                             Sudoku  \\\n",
       "0   0  8...74...1.........7.5.9.4....65.4..73.....296...   \n",
       "1   1  .5.....7.9......6...21.75.8.4..69.3...8...4......   \n",
       "2   2  ...45.2..3.........8....4..7...94.3.9..5.2.76....   \n",
       "3   3  9......31.3...8.....5.7.9..3...4...8.916..54.4...   \n",
       "4   4  9.......2784.1.5.....4.....2.53.1.7...7...8......   \n",
       "\n",
       "                                            Solution       Level  People  \\\n",
       "0  8591742361648325973725698412916574837354186296...  Diabolical     254   \n",
       "1  8539461729175823644621375981458692376283754197...    Moderate     281   \n",
       "2  6974532183248617955819274637186945329435128762...  Diabolical     265   \n",
       "3  9274568316341982758153729643527496187916835424...       Tough     279   \n",
       "4  9615387427846125395234796182953814761479568236...    Moderate     301   \n",
       "\n",
       "   Average-Time  \n",
       "0            25  \n",
       "1            12  \n",
       "2            22  \n",
       "3            19  \n",
       "4            14  "
      ]
     },
     "execution_count": 198,
     "metadata": {},
     "output_type": "execute_result"
    }
   ],
   "source": [
    "df3 = pd.read_csv('../Omega2020/data/dataset.csv').drop('Unnamed: 0', axis=1)\n",
    "df3 = df3.drop(df3[df3.Level == 'TEST'].index)\n",
    "df3.head()"
   ]
  },
  {
   "cell_type": "code",
   "execution_count": 199,
   "metadata": {},
   "outputs": [],
   "source": [
    "df3['Tracker'] = df3['Sudoku'].apply(lambda x: iterator44(conv_values(x)))"
   ]
  },
  {
   "cell_type": "code",
   "execution_count": 200,
   "metadata": {},
   "outputs": [
    {
     "data": {
      "text/html": [
       "<div>\n",
       "<style scoped>\n",
       "    .dataframe tbody tr th:only-of-type {\n",
       "        vertical-align: middle;\n",
       "    }\n",
       "\n",
       "    .dataframe tbody tr th {\n",
       "        vertical-align: top;\n",
       "    }\n",
       "\n",
       "    .dataframe thead th {\n",
       "        text-align: right;\n",
       "    }\n",
       "</style>\n",
       "<table border=\"1\" class=\"dataframe\">\n",
       "  <thead>\n",
       "    <tr style=\"text-align: right;\">\n",
       "      <th></th>\n",
       "      <th>Id</th>\n",
       "      <th>Sudoku</th>\n",
       "      <th>Solution</th>\n",
       "      <th>Level</th>\n",
       "      <th>People</th>\n",
       "      <th>Average-Time</th>\n",
       "      <th>Tracker</th>\n",
       "    </tr>\n",
       "  </thead>\n",
       "  <tbody>\n",
       "    <tr>\n",
       "      <th>0</th>\n",
       "      <td>0</td>\n",
       "      <td>8...74...1.........7.5.9.4....65.4..73.....296...</td>\n",
       "      <td>8591742361648325973725698412916574837354186296...</td>\n",
       "      <td>Diabolical</td>\n",
       "      <td>254</td>\n",
       "      <td>25</td>\n",
       "      <td>[23, 8, 2, 0, 3]</td>\n",
       "    </tr>\n",
       "    <tr>\n",
       "      <th>1</th>\n",
       "      <td>1</td>\n",
       "      <td>.5.....7.9......6...21.75.8.4..69.3...8...4......</td>\n",
       "      <td>8539461729175823644621375981458692376283754197...</td>\n",
       "      <td>Moderate</td>\n",
       "      <td>281</td>\n",
       "      <td>12</td>\n",
       "      <td>[7, 6, 0, 0, 0]</td>\n",
       "    </tr>\n",
       "    <tr>\n",
       "      <th>2</th>\n",
       "      <td>2</td>\n",
       "      <td>...45.2..3.........8....4..7...94.3.9..5.2.76....</td>\n",
       "      <td>6974532183248617955819274637186945329435128762...</td>\n",
       "      <td>Diabolical</td>\n",
       "      <td>265</td>\n",
       "      <td>22</td>\n",
       "      <td>[11, 7, 2, 0, 2]</td>\n",
       "    </tr>\n",
       "    <tr>\n",
       "      <th>3</th>\n",
       "      <td>3</td>\n",
       "      <td>9......31.3...8.....5.7.9..3...4...8.916..54.4...</td>\n",
       "      <td>9274568316341982758153729643527496187916835424...</td>\n",
       "      <td>Tough</td>\n",
       "      <td>279</td>\n",
       "      <td>19</td>\n",
       "      <td>[9, 9, 2, 0, 0]</td>\n",
       "    </tr>\n",
       "    <tr>\n",
       "      <th>4</th>\n",
       "      <td>4</td>\n",
       "      <td>9.......2784.1.5.....4.....2.53.1.7...7...8......</td>\n",
       "      <td>9615387427846125395234796182953814761479568236...</td>\n",
       "      <td>Moderate</td>\n",
       "      <td>301</td>\n",
       "      <td>14</td>\n",
       "      <td>[6, 6, 1, 0, 0]</td>\n",
       "    </tr>\n",
       "  </tbody>\n",
       "</table>\n",
       "</div>"
      ],
      "text/plain": [
       "   Id                                             Sudoku  \\\n",
       "0   0  8...74...1.........7.5.9.4....65.4..73.....296...   \n",
       "1   1  .5.....7.9......6...21.75.8.4..69.3...8...4......   \n",
       "2   2  ...45.2..3.........8....4..7...94.3.9..5.2.76....   \n",
       "3   3  9......31.3...8.....5.7.9..3...4...8.916..54.4...   \n",
       "4   4  9.......2784.1.5.....4.....2.53.1.7...7...8......   \n",
       "\n",
       "                                            Solution       Level  People  \\\n",
       "0  8591742361648325973725698412916574837354186296...  Diabolical     254   \n",
       "1  8539461729175823644621375981458692376283754197...    Moderate     281   \n",
       "2  6974532183248617955819274637186945329435128762...  Diabolical     265   \n",
       "3  9274568316341982758153729643527496187916835424...       Tough     279   \n",
       "4  9615387427846125395234796182953814761479568236...    Moderate     301   \n",
       "\n",
       "   Average-Time           Tracker  \n",
       "0            25  [23, 8, 2, 0, 3]  \n",
       "1            12   [7, 6, 0, 0, 0]  \n",
       "2            22  [11, 7, 2, 0, 2]  \n",
       "3            19   [9, 9, 2, 0, 0]  \n",
       "4            14   [6, 6, 1, 0, 0]  "
      ]
     },
     "execution_count": 200,
     "metadata": {},
     "output_type": "execute_result"
    }
   ],
   "source": [
    "df3.head()"
   ]
  },
  {
   "cell_type": "code",
   "execution_count": 201,
   "metadata": {},
   "outputs": [],
   "source": [
    "df3[['Single', 'Candidate', 'Twins', 'Triples', 'Guess']]=  pd.DataFrame(df3['Tracker'].values.tolist(), index= df.index)"
   ]
  },
  {
   "cell_type": "code",
   "execution_count": 202,
   "metadata": {},
   "outputs": [
    {
     "data": {
      "text/html": [
       "<div>\n",
       "<style scoped>\n",
       "    .dataframe tbody tr th:only-of-type {\n",
       "        vertical-align: middle;\n",
       "    }\n",
       "\n",
       "    .dataframe tbody tr th {\n",
       "        vertical-align: top;\n",
       "    }\n",
       "\n",
       "    .dataframe thead th {\n",
       "        text-align: right;\n",
       "    }\n",
       "</style>\n",
       "<table border=\"1\" class=\"dataframe\">\n",
       "  <thead>\n",
       "    <tr style=\"text-align: right;\">\n",
       "      <th></th>\n",
       "      <th>Id</th>\n",
       "      <th>Sudoku</th>\n",
       "      <th>Solution</th>\n",
       "      <th>Level</th>\n",
       "      <th>People</th>\n",
       "      <th>Average-Time</th>\n",
       "      <th>Tracker</th>\n",
       "      <th>Single</th>\n",
       "      <th>Candidate</th>\n",
       "      <th>Twins</th>\n",
       "      <th>Triples</th>\n",
       "      <th>Guess</th>\n",
       "    </tr>\n",
       "  </thead>\n",
       "  <tbody>\n",
       "    <tr>\n",
       "      <th>0</th>\n",
       "      <td>0</td>\n",
       "      <td>8...74...1.........7.5.9.4....65.4..73.....296...</td>\n",
       "      <td>8591742361648325973725698412916574837354186296...</td>\n",
       "      <td>Diabolical</td>\n",
       "      <td>254</td>\n",
       "      <td>25</td>\n",
       "      <td>[23, 8, 2, 0, 3]</td>\n",
       "      <td>23</td>\n",
       "      <td>8</td>\n",
       "      <td>2</td>\n",
       "      <td>0</td>\n",
       "      <td>3</td>\n",
       "    </tr>\n",
       "    <tr>\n",
       "      <th>1</th>\n",
       "      <td>1</td>\n",
       "      <td>.5.....7.9......6...21.75.8.4..69.3...8...4......</td>\n",
       "      <td>8539461729175823644621375981458692376283754197...</td>\n",
       "      <td>Moderate</td>\n",
       "      <td>281</td>\n",
       "      <td>12</td>\n",
       "      <td>[7, 6, 0, 0, 0]</td>\n",
       "      <td>7</td>\n",
       "      <td>6</td>\n",
       "      <td>0</td>\n",
       "      <td>0</td>\n",
       "      <td>0</td>\n",
       "    </tr>\n",
       "    <tr>\n",
       "      <th>2</th>\n",
       "      <td>2</td>\n",
       "      <td>...45.2..3.........8....4..7...94.3.9..5.2.76....</td>\n",
       "      <td>6974532183248617955819274637186945329435128762...</td>\n",
       "      <td>Diabolical</td>\n",
       "      <td>265</td>\n",
       "      <td>22</td>\n",
       "      <td>[11, 7, 2, 0, 2]</td>\n",
       "      <td>11</td>\n",
       "      <td>7</td>\n",
       "      <td>2</td>\n",
       "      <td>0</td>\n",
       "      <td>2</td>\n",
       "    </tr>\n",
       "    <tr>\n",
       "      <th>3</th>\n",
       "      <td>3</td>\n",
       "      <td>9......31.3...8.....5.7.9..3...4...8.916..54.4...</td>\n",
       "      <td>9274568316341982758153729643527496187916835424...</td>\n",
       "      <td>Tough</td>\n",
       "      <td>279</td>\n",
       "      <td>19</td>\n",
       "      <td>[9, 9, 2, 0, 0]</td>\n",
       "      <td>9</td>\n",
       "      <td>9</td>\n",
       "      <td>2</td>\n",
       "      <td>0</td>\n",
       "      <td>0</td>\n",
       "    </tr>\n",
       "    <tr>\n",
       "      <th>4</th>\n",
       "      <td>4</td>\n",
       "      <td>9.......2784.1.5.....4.....2.53.1.7...7...8......</td>\n",
       "      <td>9615387427846125395234796182953814761479568236...</td>\n",
       "      <td>Moderate</td>\n",
       "      <td>301</td>\n",
       "      <td>14</td>\n",
       "      <td>[6, 6, 1, 0, 0]</td>\n",
       "      <td>6</td>\n",
       "      <td>6</td>\n",
       "      <td>1</td>\n",
       "      <td>0</td>\n",
       "      <td>0</td>\n",
       "    </tr>\n",
       "  </tbody>\n",
       "</table>\n",
       "</div>"
      ],
      "text/plain": [
       "   Id                                             Sudoku  \\\n",
       "0   0  8...74...1.........7.5.9.4....65.4..73.....296...   \n",
       "1   1  .5.....7.9......6...21.75.8.4..69.3...8...4......   \n",
       "2   2  ...45.2..3.........8....4..7...94.3.9..5.2.76....   \n",
       "3   3  9......31.3...8.....5.7.9..3...4...8.916..54.4...   \n",
       "4   4  9.......2784.1.5.....4.....2.53.1.7...7...8......   \n",
       "\n",
       "                                            Solution       Level  People  \\\n",
       "0  8591742361648325973725698412916574837354186296...  Diabolical     254   \n",
       "1  8539461729175823644621375981458692376283754197...    Moderate     281   \n",
       "2  6974532183248617955819274637186945329435128762...  Diabolical     265   \n",
       "3  9274568316341982758153729643527496187916835424...       Tough     279   \n",
       "4  9615387427846125395234796182953814761479568236...    Moderate     301   \n",
       "\n",
       "   Average-Time           Tracker  Single  Candidate  Twins  Triples  Guess  \n",
       "0            25  [23, 8, 2, 0, 3]      23          8      2        0      3  \n",
       "1            12   [7, 6, 0, 0, 0]       7          6      0        0      0  \n",
       "2            22  [11, 7, 2, 0, 2]      11          7      2        0      2  \n",
       "3            19   [9, 9, 2, 0, 0]       9          9      2        0      0  \n",
       "4            14   [6, 6, 1, 0, 0]       6          6      1        0      0  "
      ]
     },
     "execution_count": 202,
     "metadata": {},
     "output_type": "execute_result"
    }
   ],
   "source": [
    "df3.head()"
   ]
  },
  {
   "cell_type": "code",
   "execution_count": 203,
   "metadata": {},
   "outputs": [
    {
     "data": {
      "text/html": [
       "<div>\n",
       "<style scoped>\n",
       "    .dataframe tbody tr th:only-of-type {\n",
       "        vertical-align: middle;\n",
       "    }\n",
       "\n",
       "    .dataframe tbody tr th {\n",
       "        vertical-align: top;\n",
       "    }\n",
       "\n",
       "    .dataframe thead th {\n",
       "        text-align: right;\n",
       "    }\n",
       "</style>\n",
       "<table border=\"1\" class=\"dataframe\">\n",
       "  <thead>\n",
       "    <tr style=\"text-align: right;\">\n",
       "      <th></th>\n",
       "      <th>Id</th>\n",
       "      <th>Sudoku</th>\n",
       "      <th>Solution</th>\n",
       "      <th>Level</th>\n",
       "      <th>People</th>\n",
       "      <th>Average-Time</th>\n",
       "      <th>Tracker</th>\n",
       "      <th>Single</th>\n",
       "      <th>Candidate</th>\n",
       "      <th>Twins</th>\n",
       "      <th>Triples</th>\n",
       "      <th>Guess</th>\n",
       "    </tr>\n",
       "  </thead>\n",
       "  <tbody>\n",
       "    <tr>\n",
       "      <th>0</th>\n",
       "      <td>0</td>\n",
       "      <td>8...74...1.........7.5.9.4....65.4..73.....296...</td>\n",
       "      <td>8591742361648325973725698412916574837354186296...</td>\n",
       "      <td>Diabolical</td>\n",
       "      <td>254</td>\n",
       "      <td>25</td>\n",
       "      <td>[23, 8, 2, 0, 3]</td>\n",
       "      <td>23</td>\n",
       "      <td>8</td>\n",
       "      <td>2</td>\n",
       "      <td>0</td>\n",
       "      <td>3</td>\n",
       "    </tr>\n",
       "    <tr>\n",
       "      <th>2</th>\n",
       "      <td>2</td>\n",
       "      <td>...45.2..3.........8....4..7...94.3.9..5.2.76....</td>\n",
       "      <td>6974532183248617955819274637186945329435128762...</td>\n",
       "      <td>Diabolical</td>\n",
       "      <td>265</td>\n",
       "      <td>22</td>\n",
       "      <td>[11, 7, 2, 0, 2]</td>\n",
       "      <td>11</td>\n",
       "      <td>7</td>\n",
       "      <td>2</td>\n",
       "      <td>0</td>\n",
       "      <td>2</td>\n",
       "    </tr>\n",
       "    <tr>\n",
       "      <th>7</th>\n",
       "      <td>7</td>\n",
       "      <td>..1.4.....8.....129...7...83.5.....4..6..72..4...</td>\n",
       "      <td>6215483975873694129342716583158269748964172354...</td>\n",
       "      <td>Diabolical</td>\n",
       "      <td>262</td>\n",
       "      <td>25</td>\n",
       "      <td>[19, 7, 6, 0, 1]</td>\n",
       "      <td>19</td>\n",
       "      <td>7</td>\n",
       "      <td>6</td>\n",
       "      <td>0</td>\n",
       "      <td>1</td>\n",
       "    </tr>\n",
       "    <tr>\n",
       "      <th>9</th>\n",
       "      <td>9</td>\n",
       "      <td>5..73.....78.......2.5...9.1.......875..9..242...</td>\n",
       "      <td>5917364826784293153245817961492756387568931242...</td>\n",
       "      <td>Diabolical</td>\n",
       "      <td>253</td>\n",
       "      <td>27</td>\n",
       "      <td>[12, 9, 3, 0, 1]</td>\n",
       "      <td>12</td>\n",
       "      <td>9</td>\n",
       "      <td>3</td>\n",
       "      <td>0</td>\n",
       "      <td>1</td>\n",
       "    </tr>\n",
       "    <tr>\n",
       "      <th>14</th>\n",
       "      <td>14</td>\n",
       "      <td>.6...3.7.....6.1.49.......3..97.45..7...1...9....</td>\n",
       "      <td>8641239753259671849175486232897345617462158391...</td>\n",
       "      <td>Diabolical</td>\n",
       "      <td>238</td>\n",
       "      <td>30</td>\n",
       "      <td>[9, 8, 1, 0, 1]</td>\n",
       "      <td>9</td>\n",
       "      <td>8</td>\n",
       "      <td>1</td>\n",
       "      <td>0</td>\n",
       "      <td>1</td>\n",
       "    </tr>\n",
       "  </tbody>\n",
       "</table>\n",
       "</div>"
      ],
      "text/plain": [
       "    Id                                             Sudoku  \\\n",
       "0    0  8...74...1.........7.5.9.4....65.4..73.....296...   \n",
       "2    2  ...45.2..3.........8....4..7...94.3.9..5.2.76....   \n",
       "7    7  ..1.4.....8.....129...7...83.5.....4..6..72..4...   \n",
       "9    9  5..73.....78.......2.5...9.1.......875..9..242...   \n",
       "14  14  .6...3.7.....6.1.49.......3..97.45..7...1...9....   \n",
       "\n",
       "                                             Solution       Level  People  \\\n",
       "0   8591742361648325973725698412916574837354186296...  Diabolical     254   \n",
       "2   6974532183248617955819274637186945329435128762...  Diabolical     265   \n",
       "7   6215483975873694129342716583158269748964172354...  Diabolical     262   \n",
       "9   5917364826784293153245817961492756387568931242...  Diabolical     253   \n",
       "14  8641239753259671849175486232897345617462158391...  Diabolical     238   \n",
       "\n",
       "    Average-Time           Tracker  Single  Candidate  Twins  Triples  Guess  \n",
       "0             25  [23, 8, 2, 0, 3]      23          8      2        0      3  \n",
       "2             22  [11, 7, 2, 0, 2]      11          7      2        0      2  \n",
       "7             25  [19, 7, 6, 0, 1]      19          7      6        0      1  \n",
       "9             27  [12, 9, 3, 0, 1]      12          9      3        0      1  \n",
       "14            30   [9, 8, 1, 0, 1]       9          8      1        0      1  "
      ]
     },
     "execution_count": 203,
     "metadata": {},
     "output_type": "execute_result"
    }
   ],
   "source": [
    "diabolical=df3[df3['Level']=='Diabolical']\n",
    "gentle=df3[df3['Level']=='Gentle']\n",
    "moderate=df3[df3['Level']=='Moderate']\n",
    "tough=df3[df3['Level']=='Tough']\n",
    "diabolical.head()"
   ]
  },
  {
   "cell_type": "code",
   "execution_count": 204,
   "metadata": {},
   "outputs": [
    {
     "name": "stdout",
     "output_type": "stream",
     "text": [
      "GENTLE:\n",
      "Guess [0]\n",
      "Triples [0 1]\n",
      "Twins [0 1 2 3 4]\n",
      "Candidate [ 2  3  4  5  6  7  8 10]\n"
     ]
    }
   ],
   "source": [
    "print('GENTLE:')\n",
    "print('Guess',np.array(gentle['Guess'].value_counts().index))\n",
    "print(\"Triples\",np.array(gentle['Triples'].value_counts().index.sort_values()))\n",
    "print('Twins',np.array(gentle['Twins'].value_counts().index.sort_values()))\n",
    "print('Candidate',np.array(gentle['Candidate'].value_counts().index.sort_values()))"
   ]
  },
  {
   "cell_type": "code",
   "execution_count": 205,
   "metadata": {},
   "outputs": [
    {
     "name": "stdout",
     "output_type": "stream",
     "text": [
      "Moderate:\n",
      "Guess [0 1 2 3 5]\n",
      "Triples [0 1 2]\n",
      "Twins [0 1 2 3 4 5 6]\n",
      "Candidate [ 3  4  5  6  7  8  9 10 11 12]\n"
     ]
    }
   ],
   "source": [
    "print('Moderate:')\n",
    "print('Guess',np.array(moderate['Guess'].value_counts().index))\n",
    "print(\"Triples\",np.array(moderate['Triples'].value_counts().index.sort_values()))\n",
    "print('Twins',np.array(moderate['Twins'].value_counts().index.sort_values()))\n",
    "print('Candidate',np.array(moderate['Candidate'].value_counts().index.sort_values()))"
   ]
  },
  {
   "cell_type": "code",
   "execution_count": 206,
   "metadata": {},
   "outputs": [
    {
     "name": "stdout",
     "output_type": "stream",
     "text": [
      "Tough:\n",
      "Guess [0 1 2 3 4 5 6]\n",
      "Triples [0 1 2]\n",
      "Twins [0 1 2 3 4 5 6 7]\n",
      "Candidate [ 4  5  6  7  8  9 10 11 12 13]\n"
     ]
    }
   ],
   "source": [
    "print('Tough:')\n",
    "print('Guess',np.array(tough['Guess'].value_counts().index))\n",
    "print(\"Triples\",np.array(tough['Triples'].value_counts().index.sort_values()))\n",
    "print('Twins',np.array(tough['Twins'].value_counts().index.sort_values()))\n",
    "print('Candidate',np.array(tough['Candidate'].value_counts().index.sort_values()))"
   ]
  },
  {
   "cell_type": "code",
   "execution_count": 207,
   "metadata": {},
   "outputs": [
    {
     "name": "stdout",
     "output_type": "stream",
     "text": [
      "Diabolical:\n",
      "Guess [1 2 3 4 0 5 6 7]\n",
      "Triples [0 1 2]\n",
      "Twins [0 1 2 3 4 5 6 7 9]\n",
      "Candidate [ 4  5  6  7  8  9 10 11 12 13 14]\n"
     ]
    }
   ],
   "source": [
    "print('Diabolical:')\n",
    "print('Guess',np.array(diabolical['Guess'].value_counts().index))\n",
    "print(\"Triples\",np.array(diabolical['Triples'].value_counts().index.sort_values()))\n",
    "print('Twins',np.array(diabolical['Twins'].value_counts().index.sort_values()))\n",
    "print('Candidate',np.array(diabolical['Candidate'].value_counts().index.sort_values()))"
   ]
  },
  {
   "cell_type": "code",
   "execution_count": 208,
   "metadata": {},
   "outputs": [
    {
     "data": {
      "text/plain": [
       "((4023, 5), (1006, 5), (4023, 1), (1006, 1))"
      ]
     },
     "execution_count": 208,
     "metadata": {},
     "output_type": "execute_result"
    }
   ],
   "source": []
  },
  {
   "cell_type": "code",
   "execution_count": 209,
   "metadata": {},
   "outputs": [],
   "source": [
    "model = LogisticRegression(solver='lbfgs', multi_class='auto',max_iter=1000)\n",
    "model.fit(X_train.values, y_train.values.ravel())\n",
    "ypred = model.predict(X_test)"
   ]
  },
  {
   "cell_type": "code",
   "execution_count": 210,
   "metadata": {},
   "outputs": [
    {
     "data": {
      "text/plain": [
       "0.7127236580516899"
      ]
     },
     "execution_count": 210,
     "metadata": {},
     "output_type": "execute_result"
    }
   ],
   "source": [
    "model.score(X_test, y_test.values.ravel())"
   ]
  },
  {
   "cell_type": "code",
   "execution_count": 211,
   "metadata": {},
   "outputs": [
    {
     "data": {
      "text/plain": [
       "0.6928429423459245"
      ]
     },
     "execution_count": 211,
     "metadata": {},
     "output_type": "execute_result"
    }
   ],
   "source": [
    "model2 = RandomForestClassifier(n_estimators=10)\n",
    "model2.fit(X_train, y_train.values.ravel())\n",
    "model2.score(X_test, y_test)"
   ]
  },
  {
   "cell_type": "code",
   "execution_count": 212,
   "metadata": {},
   "outputs": [
    {
     "data": {
      "text/plain": [
       "0.6908548707753479"
      ]
     },
     "execution_count": 212,
     "metadata": {},
     "output_type": "execute_result"
    }
   ],
   "source": [
    "model3 = DecisionTreeClassifier()\n",
    "model3.fit(X_train, y_train.values.ravel())\n",
    "model3.score(X_test, y_test)"
   ]
  },
  {
   "cell_type": "code",
   "execution_count": 213,
   "metadata": {},
   "outputs": [],
   "source": [
    "from sklearn.preprocessing import LabelEncoder\n",
    "le = LabelEncoder()"
   ]
  },
  {
   "cell_type": "code",
   "execution_count": 214,
   "metadata": {},
   "outputs": [
    {
     "data": {
      "text/plain": [
       "LogisticRegression(C=1.0, class_weight=None, dual=False, fit_intercept=True,\n",
       "          intercept_scaling=1, max_iter=1000, multi_class='auto',\n",
       "          n_jobs=None, penalty='l2', random_state=None, solver='lbfgs',\n",
       "          tol=0.0001, verbose=0, warm_start=False)"
      ]
     },
     "execution_count": 214,
     "metadata": {},
     "output_type": "execute_result"
    }
   ],
   "source": [
    "model4 = LogisticRegression(solver='lbfgs', multi_class='auto',max_iter=1000)\n",
    "model4.fit(X_train,le.fit_transform(y_train.values.ravel()))"
   ]
  },
  {
   "cell_type": "code",
   "execution_count": 215,
   "metadata": {},
   "outputs": [
    {
     "data": {
      "text/plain": [
       "0.7127236580516899"
      ]
     },
     "execution_count": 215,
     "metadata": {},
     "output_type": "execute_result"
    }
   ],
   "source": [
    "model4.score(X_test, le.fit_transform(y_test.values.ravel()))"
   ]
  },
  {
   "cell_type": "code",
   "execution_count": 216,
   "metadata": {},
   "outputs": [
    {
     "name": "stderr",
     "output_type": "stream",
     "text": [
      "/home/ec2-user/anaconda3/envs/python3/lib/python3.6/site-packages/sklearn/svm/base.py:196: FutureWarning: The default value of gamma will change from 'auto' to 'scale' in version 0.22 to account better for unscaled features. Set gamma explicitly to 'auto' or 'scale' to avoid this warning.\n",
      "  \"avoid this warning.\", FutureWarning)\n"
     ]
    },
    {
     "data": {
      "text/plain": [
       "SVC(C=1.0, cache_size=200, class_weight=None, coef0=0.0,\n",
       "  decision_function_shape='ovr', degree=3, gamma='auto_deprecated',\n",
       "  kernel='rbf', max_iter=-1, probability=False, random_state=None,\n",
       "  shrinking=True, tol=0.001, verbose=False)"
      ]
     },
     "execution_count": 216,
     "metadata": {},
     "output_type": "execute_result"
    }
   ],
   "source": [
    "from sklearn.svm import SVC\n",
    "svc=SVC()\n",
    "svc.fit(X_train, y_train.values.ravel())"
   ]
  },
  {
   "cell_type": "code",
   "execution_count": 217,
   "metadata": {},
   "outputs": [
    {
     "data": {
      "text/plain": [
       "0.7206759443339961"
      ]
     },
     "execution_count": 217,
     "metadata": {},
     "output_type": "execute_result"
    }
   ],
   "source": [
    "svc.score(X_test, y_test.values.ravel())"
   ]
  },
  {
   "cell_type": "code",
   "execution_count": 218,
   "metadata": {},
   "outputs": [
    {
     "data": {
      "text/plain": [
       "array([7, 6, 0, 0, 0])"
      ]
     },
     "execution_count": 218,
     "metadata": {},
     "output_type": "execute_result"
    }
   ],
   "source": [
    "a=iterator44(conv_values(test2))\n",
    "a"
   ]
  },
  {
   "cell_type": "code",
   "execution_count": 219,
   "metadata": {},
   "outputs": [
    {
     "data": {
      "text/plain": [
       "(5,)"
      ]
     },
     "execution_count": 219,
     "metadata": {},
     "output_type": "execute_result"
    }
   ],
   "source": [
    "a.shape"
   ]
  },
  {
   "cell_type": "code",
   "execution_count": 220,
   "metadata": {},
   "outputs": [
    {
     "data": {
      "text/plain": [
       "(1, 5)"
      ]
     },
     "execution_count": 220,
     "metadata": {},
     "output_type": "execute_result"
    }
   ],
   "source": [
    "a.reshape(1, -1).shape"
   ]
  },
  {
   "cell_type": "code",
   "execution_count": 221,
   "metadata": {},
   "outputs": [
    {
     "data": {
      "text/plain": [
       "(1006, 5)"
      ]
     },
     "execution_count": 221,
     "metadata": {},
     "output_type": "execute_result"
    }
   ],
   "source": [
    "X_test.shape"
   ]
  },
  {
   "cell_type": "code",
   "execution_count": 222,
   "metadata": {},
   "outputs": [
    {
     "data": {
      "text/plain": [
       "array(['Moderate'], dtype=object)"
      ]
     },
     "execution_count": 222,
     "metadata": {},
     "output_type": "execute_result"
    }
   ],
   "source": [
    "model.predict(a.reshape(1, -1))"
   ]
  },
  {
   "cell_type": "code",
   "execution_count": 223,
   "metadata": {},
   "outputs": [
    {
     "name": "stdout",
     "output_type": "stream",
     "text": [
      "test2 ['Moderate']\n",
      "test3 ['Diabolical']\n",
      "test_triple ['Diabolical']\n",
      "test_triple2 ['Diabolical']\n",
      "test_triple3 ['Moderate']\n",
      "test_rob ['Diabolical']\n",
      "rob_example2 ['Diabolical']\n"
     ]
    }
   ],
   "source": [
    "count =0\n",
    "for test in tests:\n",
    "    values=dict(zip(boxes, [\"123456789\" if element == \".\" else element for element in test]))\n",
    "    print(names_tests[count], model.predict(iterator44(values).reshape(1, -1)))\n",
    "#     print(solve(test)[1])\n",
    "    count+=1"
   ]
  },
  {
   "cell_type": "code",
   "execution_count": 224,
   "metadata": {},
   "outputs": [
    {
     "data": {
      "text/plain": [
       "array(['Moderate'], dtype=object)"
      ]
     },
     "execution_count": 224,
     "metadata": {},
     "output_type": "execute_result"
    }
   ],
   "source": [
    "model.predict(iterator44(conv_values(test1)).reshape(1, -1))"
   ]
  },
  {
   "cell_type": "code",
   "execution_count": 232,
   "metadata": {},
   "outputs": [],
   "source": [
    "import pickle\n",
    "\n",
    "model = LogisticRegression(solver='lbfgs', multi_class='auto',max_iter=1000)\n",
    "model_trained = model.fit(X_train.values, y_train.values.ravel())"
   ]
  },
  {
   "cell_type": "code",
   "execution_count": 233,
   "metadata": {},
   "outputs": [],
   "source": [
    "outfile = open('difficulty_level_model','wb')\n",
    "pickle.dump(model_trained,outfile)\n",
    "outfile.close()"
   ]
  },
  {
   "cell_type": "code",
   "execution_count": 236,
   "metadata": {},
   "outputs": [
    {
     "name": "stdout",
     "output_type": "stream",
     "text": [
      "LogisticRegression(C=1.0, class_weight=None, dual=False, fit_intercept=True,\n",
      "          intercept_scaling=1, max_iter=1000, multi_class='auto',\n",
      "          n_jobs=None, penalty='l2', random_state=None, solver='lbfgs',\n",
      "          tol=0.0001, verbose=0, warm_start=False)\n"
     ]
    }
   ],
   "source": [
    "infile = open('difficulty_level_model','rb')\n",
    "model_unpickle = pickle.load(infile)\n",
    "infile.close()\n",
    "print(model_unpickle)\n"
   ]
  },
  {
   "cell_type": "code",
   "execution_count": 237,
   "metadata": {},
   "outputs": [
    {
     "data": {
      "text/plain": [
       "'Moderate'"
      ]
     },
     "execution_count": 237,
     "metadata": {},
     "output_type": "execute_result"
    }
   ],
   "source": [
    "model_unpickle.predict(iterator44(conv_values(test1)).reshape(1, -1))[0]"
   ]
  },
  {
   "cell_type": "code",
   "execution_count": 4,
   "metadata": {},
   "outputs": [],
   "source": [
    "import pandas as pd\n",
    "import numpy as np\n",
    "from solver import *\n",
    "from ai import *\n",
    "from sklearn.model_selection import train_test_split\n",
    "from sklearn.linear_model import LogisticRegression\n",
    "import pickle\n",
    "\n",
    "def conv_values(grid):\n",
    "     return dict(zip(boxes, [\"123456789\" if element == \".\" else element for element in grid]))\n",
    "    \n",
    "def train_model():\n",
    "    df = pd.read_csv('../Omega2020/data/dataset.csv').drop('Unnamed: 0', axis=1)\n",
    "    df = df.drop(df[df.Level == 'TEST'].index)\n",
    "    df['Tracker'] = df['Sudoku'].apply(lambda x: tracker(conv_values(x)))\n",
    "    df[['Single', 'Candidate', 'Twins', 'Triples', 'Guess']]=  pd.DataFrame(df['Tracker'].values.tolist(), index= df.index)\n",
    "    target =['Level']\n",
    "    features = ['Single','Candidate','Twins','Triples','Guess']\n",
    "    y = df[target]\n",
    "    X = df[features]\n",
    "    X_train, X_test, y_train, y_test = train_test_split(X, y, test_size=0.2, random_state=42)\n",
    "    model = LogisticRegression(solver='lbfgs', multi_class='auto',max_iter=1000)\n",
    "    model_trained = model.fit(X_train, y_train.values.ravel())\n",
    "    outfile = open('difficulty_level_model','wb')\n",
    "    pickle.dump(model_trained,outfile)\n",
    "    outfile.close()"
   ]
  },
  {
   "cell_type": "code",
   "execution_count": 5,
   "metadata": {},
   "outputs": [],
   "source": [
    "train_model()"
   ]
  },
  {
   "cell_type": "code",
   "execution_count": 6,
   "metadata": {},
   "outputs": [],
   "source": []
  },
  {
   "cell_type": "code",
   "execution_count": 7,
   "metadata": {},
   "outputs": [
    {
     "name": "stdout",
     "output_type": "stream",
     "text": [
      "test2 (1, '853946172917582364462137598145869237628375419739421856371298645294653781586714923', '.5.....7.9......6...21.75.8.4..69.3...8...4...3.42..5.3.12.86...9......1.8.....2.', 'Gentle')\n",
      "test3 (1, '859174236164832597372569841291657483735418629648293175926381754413725968587946312', '8...74...1.........7.5.9.4....65.4..73.....296.8.......2.3.1.5.........8...9....2', 'Gentle')\n",
      "test_triple (1, '615294387392178645487356129264837591839415762571629834953782416126543978748961253', '...29438....17864.48.3561....48375.1...4157..5..629834953782416126543978.4.961253', 'Gentle')\n",
      "test_triple2 (1, '481526379325917684697384215859762431213849567764135892576293148948651723132478956', '4..5..37.32......4.........8....2.3.21.84...........9..7..9.1..94.651.......7....', 'Gentle')\n",
      "test_triple3 (1, '396425718184739652527168349249381576671254983853697421965872134712943865438516297', '39....7........65.5.7...349.4938.5.66.1.54983853...4..9..8..134..294.8654.....297', 'Gentle')\n",
      "test_rob (3, 'Not Solution', '...2....58....9..4...18..2.3.....5.95......7..6.....4.........6..1.3498.92.85...3')\n",
      "rob_example2 (2, [['3', 'B3'], ['3', 'B9'], ['3', 'D9']], '...5.47..7.3.....3.....6.2..7..2..639.......543..1..7..5.2...........2.8...9.1...')\n"
     ]
    }
   ],
   "source": [
    "# count =0\n",
    "# for test in tests:\n",
    "#     print(names_tests[count], solve(test))\n",
    "# #     print(solve(test)[1])\n",
    "#     count+=1"
   ]
  },
  {
   "cell_type": "code",
   "execution_count": null,
   "metadata": {},
   "outputs": [],
   "source": [
    "infile = open('difficulty_level_model','rb')\n",
    "model_unpickle = pickle.load(infile)\n",
    "infile.close()\n",
    "print(model_unpickle)"
   ]
  },
  {
   "cell_type": "code",
   "execution_count": null,
   "metadata": {},
   "outputs": [],
   "source": []
  },
  {
   "cell_type": "code",
   "execution_count": null,
   "metadata": {},
   "outputs": [],
   "source": [
    "import pandas as pd\n",
    "import numpy as np\n",
    "from solver import *\n",
    "from ai import *\n",
    "from sklearn.model_selection import train_test_split\n",
    "from sklearn.linear_model import LogisticRegression\n",
    "import pickle\n",
    "\n",
    "def conv_values(grid):\n",
    "     return dict(zip(boxes, [\"123456789\" if element == \".\" else element for element in grid]))\n",
    "\n",
    "test1 = '88..74...1.........7.5.9.4....65.4..73.....296.8.......2.3.1.5.........8...9....2'\n",
    "test2 = '.5.....7.9......6...21.75.8.4..69.3...8...4...3.42..5.3.12.86...9......1.8.....2.'\n",
    "test3 = '8...74...1.........7.5.9.4....65.4..73.....296.8.......2.3.1.5.........8...9....2'\n",
    "test_triple = '...29438....17864.48.3561....48375.1...4157..5..629834953782416126543978.4.961253'\n",
    "test_triple2='4..5..37.32......4.........8....2.3.21.84...........9..7..9.1..94.651.......7....'\n",
    "test_triple3='39....7........65.5.7...349.4938.5.66.1.54983853...4..9..8..134..294.8654.....297'\n",
    "test_rob='...2....58....9..4...18..2.3.....5.95......7..6.....4.........6..1.3498.92.85...3'\n",
    "rob_example2='...5.47..7.3.....3.....6.2..7..2..639.......543..1..7..5.2...........2.8...9.1...'\n",
    "names_tests= ['test2','test3','test_triple','test_triple2','test_triple3','test_rob','rob_example2']\n",
    "tests= [test2,test3,test_triple,test_triple2,test_triple3,test_rob,rob_example2]\n",
    "\n",
    "df = pd.read_csv('../Omega2020/data/dataset.csv').drop('Unnamed: 0', axis=1)\n",
    "df = df.drop(df[df.Level == 'TEST'].index)\n",
    "df['Tracker'] = df['Sudoku'].apply(lambda x: tracker(conv_values(x)))\n",
    "df[['Single', 'Candidate', 'Twins', 'Triples', 'Guess']]=  pd.DataFrame(df['Tracker'].values.tolist(), index= df.index)\n",
    "target =['Level']\n",
    "features = ['Single','Candidate','Twins','Triples','Guess']\n",
    "# features = ['Candidate','Twins','Triples','Guess']\n",
    "y = df[target]\n",
    "X = df[features]\n",
    "X_train, X_test, y_train, y_test = train_test_split(X, y, test_size=0.2, random_state=42)"
   ]
  },
  {
   "cell_type": "code",
   "execution_count": null,
   "metadata": {},
   "outputs": [],
   "source": [
    "for test in tests:  \n",
    "    print(tracker(conv_values(test)))"
   ]
  },
  {
   "cell_type": "code",
   "execution_count": 6,
   "metadata": {},
   "outputs": [
    {
     "data": {
      "text/plain": [
       "RandomForestClassifier(bootstrap=True, class_weight=None, criterion='gini',\n",
       "            max_depth=10, max_features='auto', max_leaf_nodes=None,\n",
       "            min_impurity_decrease=0.0, min_impurity_split=None,\n",
       "            min_samples_leaf=1, min_samples_split=2,\n",
       "            min_weight_fraction_leaf=0.0, n_estimators=25, n_jobs=None,\n",
       "            oob_score=False, random_state=None, verbose=0,\n",
       "            warm_start=False)"
      ]
     },
     "execution_count": 6,
     "metadata": {},
     "output_type": "execute_result"
    }
   ],
   "source": [
    "from sklearn.ensemble import RandomForestClassifier\n",
    "r = RandomForestClassifier(n_estimators=25,max_depth=10)\n",
    "r.fit(X_train.values, y_train.values.ravel())"
   ]
  },
  {
   "cell_type": "code",
   "execution_count": 7,
   "metadata": {},
   "outputs": [
    {
     "name": "stdout",
     "output_type": "stream",
     "text": [
      "Score:  0.7107355864811133\n",
      "test2 Moderate\n",
      "test3 Moderate\n",
      "test_triple Moderate\n",
      "test_triple2 Moderate\n",
      "test_triple3 Moderate\n",
      "test_rob Moderate\n",
      "rob_example2 Moderate\n"
     ]
    }
   ],
   "source": [
    "print('Score: ',r.score(X_test.values, y_test.values.ravel()))\n",
    "\n",
    "count =0\n",
    "for test in tests:\n",
    "#     print(names_tests[count], solve(test))\n",
    "    print(names_tests[count], r.predict(tracker(conv_values(test1))[1:].reshape(1, -1))[0])\n",
    "    count+=1"
   ]
  },
  {
   "cell_type": "code",
   "execution_count": null,
   "metadata": {},
   "outputs": [],
   "source": [
    "model = LogisticRegression(solver='lbfgs', multi_class='auto',max_iter=1000)\n",
    "# model.fit(X, y.values.ravel())\n",
    "model.fit(X_train, y_train.values.ravel())"
   ]
  },
  {
   "cell_type": "code",
   "execution_count": null,
   "metadata": {},
   "outputs": [],
   "source": []
  },
  {
   "cell_type": "code",
   "execution_count": 2,
   "metadata": {},
   "outputs": [
    {
     "name": "stdout",
     "output_type": "stream",
     "text": [
      "Score:  0.7147117296222664\n",
      "test2 Moderate\n",
      "test3 Moderate\n",
      "test_triple Moderate\n",
      "test_triple2 Moderate\n",
      "test_triple3 Moderate\n",
      "test_rob Moderate\n",
      "rob_example2 Moderate\n"
     ]
    }
   ],
   "source": [
    "# model_trained = model.fit(X_train, y_train.values.ravel())\n",
    "print('Score: ',model.score(X_test, y_test.values.ravel()))\n",
    "\n",
    "count =0\n",
    "for test in tests:\n",
    "#     print(names_tests[count], solve(test))\n",
    "    print(names_tests[count], model.predict(tracker(conv_values(test1))[1:].reshape(1, -1))[0])\n",
    "    count+=1"
   ]
  },
  {
   "cell_type": "code",
   "execution_count": null,
   "metadata": {},
   "outputs": [],
   "source": [
    "outfile = open('difficulty_level_model','wb')\n",
    "pickle.dump(model.fit(X_train, y_train.values.ravel()),outfile)\n",
    "outfile.close()"
   ]
  },
  {
   "cell_type": "code",
   "execution_count": 5,
   "metadata": {},
   "outputs": [
    {
     "data": {
      "text/plain": [
       "array([7, 3, 0, 0])"
      ]
     },
     "execution_count": 5,
     "metadata": {},
     "output_type": "execute_result"
    }
   ],
   "source": [
    "# tracker(conv_values(test1))\n",
    "# array([17,  7,  3,  0,  0])\n",
    "tracker(conv_values(test1))[1:]"
   ]
  },
  {
   "cell_type": "code",
   "execution_count": 3,
   "metadata": {},
   "outputs": [
    {
     "name": "stdout",
     "output_type": "stream",
     "text": [
      "LogisticRegression(C=1.0, class_weight=None, dual=False, fit_intercept=True,\n",
      "          intercept_scaling=1, max_iter=1000, multi_class='auto',\n",
      "          n_jobs=None, penalty='l2', random_state=None, solver='lbfgs',\n",
      "          tol=0.0001, verbose=0, warm_start=False)\n"
     ]
    }
   ],
   "source": [
    "infile = open('difficulty_level_model','rb')\n",
    "model_unpickle = pickle.load(infile)\n",
    "infile.close()\n",
    "print(model_unpickle)"
   ]
  },
  {
   "cell_type": "code",
   "execution_count": 4,
   "metadata": {},
   "outputs": [
    {
     "name": "stdout",
     "output_type": "stream",
     "text": [
      "Moderate\n",
      "Moderate\n",
      "Moderate\n",
      "Moderate\n",
      "Moderate\n",
      "Moderate\n",
      "Moderate\n"
     ]
    }
   ],
   "source": [
    "\n",
    "count =0\n",
    "for test in tests:\n",
    "#     print(names_tests[count], solve(test))\n",
    "    print(model_unpickle.predict(tracker(conv_values(test1)).reshape(1, -1))[0])\n",
    "    count+=1"
   ]
  },
  {
   "cell_type": "code",
   "execution_count": null,
   "metadata": {},
   "outputs": [],
   "source": []
  }
 ],
 "metadata": {
  "kernelspec": {
   "display_name": "conda_python3",
   "language": "python",
   "name": "conda_python3"
  },
  "language_info": {
   "codemirror_mode": {
    "name": "ipython",
    "version": 3
   },
   "file_extension": ".py",
   "mimetype": "text/x-python",
   "name": "python",
   "nbconvert_exporter": "python",
   "pygments_lexer": "ipython3",
   "version": "3.6.5"
  }
 },
 "nbformat": 4,
 "nbformat_minor": 4
}
