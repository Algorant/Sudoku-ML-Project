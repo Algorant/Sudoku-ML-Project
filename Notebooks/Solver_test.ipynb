{
 "cells": [
  {
   "cell_type": "code",
   "execution_count": 1,
   "metadata": {},
   "outputs": [],
   "source": [
    "from main import *\n",
    "from ai import *\n",
    "import pandas as pd\n",
    "import numpy as np"
   ]
  },
  {
   "cell_type": "markdown",
   "metadata": {},
   "source": [
    "### Scenarios"
   ]
  },
  {
   "cell_type": "code",
   "execution_count": 4,
   "metadata": {},
   "outputs": [],
   "source": [
    "test1 = '88..74...1.........7.5.9.4....65.4..73.....296.8.......2.3.1.5.........8...9....2'\n",
    "test2 = '.5.....7.9......6...21.75.8.4..69.3...8...4...3.42..5.3.12.86...9......1.8.....2.'\n",
    "test3 = '8...74...1.........7.5.9.4....65.4..73.....296.8.......2.3.1.5.........8...9....2'\n",
    "test_triple = '...29438....17864.48.3561....48375.1...4157..5..629834953782416126543978.4.961253'\n",
    "test_triple2='4..5..37.32......4.........8....2.3.21.84...........9..7..9.1..94.651.......7....'\n",
    "test_triple3='39....7........65.5.7...349.4938.5.66.1.54983853...4..9..8..134..294.8654.....297'\n",
    "test_rob='...2....58....9..4...18..2.3.....5.95......7..6.....4.........6..1.3498.92.85...3'\n",
    "names_tests= ['test2','test3','test_triple','test_triple2','test_triple3','test_rob']\n",
    "tests= [test2,test3,test_triple,test_triple2,test_triple3,test_rob]\n",
    "# tests= [test2,test3,test_triple,test_triple3,test_rob]"
   ]
  },
  {
   "cell_type": "markdown",
   "metadata": {},
   "source": [
    "## Testing all the possible scenarios \n",
    "##### Except when the puzzle is invalid in the beginning (doesn't follow the Sudoku rules) after loading the image"
   ]
  },
  {
   "cell_type": "code",
   "execution_count": 8,
   "metadata": {},
   "outputs": [
    {
     "name": "stdout",
     "output_type": "stream",
     "text": [
      "test2 :\n",
      " Solved\n",
      "test3 :\n",
      " Solved\n",
      "test_triple :\n",
      " Solved\n",
      "test_triple2 :\n",
      " Solved\n",
      "test_triple3 :\n",
      " Solved\n",
      "test_rob :\n",
      " Invalid Sudoku: Error 404\n"
     ]
    }
   ],
   "source": [
    "# Solve\n",
    "count=0\n",
    "for test in tests:\n",
    "    print(names_tests[count]+' :'+\"\\n\",solve(test)[0])\n",
    "    count+=1\n",
    "    "
   ]
  },
  {
   "cell_type": "code",
   "execution_count": 5,
   "metadata": {},
   "outputs": [
    {
     "name": "stdout",
     "output_type": "stream",
     "text": [
      "test2 :\n",
      "Solved \n",
      "\n",
      "123456789     5     123456789 |123456789 123456789 123456789 |123456789     7     123456789 \n",
      "    9     123456789 123456789 |123456789 123456789 123456789 |123456789     6     123456789 \n",
      "123456789 123456789     2     |    1     123456789     7     |    5     123456789     8     \n",
      "------------------------------+------------------------------+------------------------------\n",
      "123456789     4     123456789 |123456789     6         9     |123456789     3     123456789 \n",
      "123456789 123456789     8     |123456789 123456789 123456789 |    4     123456789 123456789 \n",
      "123456789     3     123456789 |    4         2     123456789 |123456789     5     123456789 \n",
      "------------------------------+------------------------------+------------------------------\n",
      "    3     123456789     1     |    2     123456789     8     |    6     123456789 123456789 \n",
      "123456789     9     123456789 |123456789 123456789 123456789 |123456789 123456789     1     \n",
      "123456789     8     123456789 |123456789 123456789 123456789 |123456789     2     123456789 \n",
      "\n",
      "8 5 3 |9 4 6 |1 7 2 \n",
      "9 1 7 |5 8 2 |3 6 4 \n",
      "4 6 2 |1 3 7 |5 9 8 \n",
      "------+------+------\n",
      "1 4 5 |8 6 9 |2 3 7 \n",
      "6 2 8 |3 7 5 |4 1 9 \n",
      "7 3 9 |4 2 1 |8 5 6 \n",
      "------+------+------\n",
      "3 7 1 |2 9 8 |6 4 5 \n",
      "2 9 4 |6 5 3 |7 8 1 \n",
      "5 8 6 |7 1 4 |9 2 3 \n",
      "\n",
      "test3 :\n",
      "Solved \n",
      "\n",
      "    8     123456789 123456789 |123456789     7         4     |123456789 123456789 123456789 \n",
      "    1     123456789 123456789 |123456789 123456789 123456789 |123456789 123456789 123456789 \n",
      "123456789     7     123456789 |    5     123456789     9     |123456789     4     123456789 \n",
      "------------------------------+------------------------------+------------------------------\n",
      "123456789 123456789 123456789 |    6         5     123456789 |    4     123456789 123456789 \n",
      "    7         3     123456789 |123456789 123456789 123456789 |123456789     2         9     \n",
      "    6     123456789     8     |123456789 123456789 123456789 |123456789 123456789 123456789 \n",
      "------------------------------+------------------------------+------------------------------\n",
      "123456789     2     123456789 |    3     123456789     1     |123456789     5     123456789 \n",
      "123456789 123456789 123456789 |123456789 123456789 123456789 |123456789 123456789     8     \n",
      "123456789 123456789 123456789 |    9     123456789 123456789 |123456789 123456789     2     \n",
      "\n",
      "8 5 9 |1 7 4 |2 3 6 \n",
      "1 6 4 |8 3 2 |5 9 7 \n",
      "3 7 2 |5 6 9 |8 4 1 \n",
      "------+------+------\n",
      "2 9 1 |6 5 7 |4 8 3 \n",
      "7 3 5 |4 1 8 |6 2 9 \n",
      "6 4 8 |2 9 3 |1 7 5 \n",
      "------+------+------\n",
      "9 2 6 |3 8 1 |7 5 4 \n",
      "4 1 3 |7 2 5 |9 6 8 \n",
      "5 8 7 |9 4 6 |3 1 2 \n",
      "\n",
      "test_triple :\n",
      "Solved \n",
      "\n",
      "123456789 123456789 123456789 |    2         9         4     |    3         8     123456789 \n",
      "123456789 123456789 123456789 |    1         7         8     |    6         4     123456789 \n",
      "    4         8     123456789 |    3         5         6     |    1     123456789 123456789 \n",
      "------------------------------+------------------------------+------------------------------\n",
      "123456789 123456789     4     |    8         3         7     |    5     123456789     1     \n",
      "123456789 123456789 123456789 |    4         1         5     |    7     123456789 123456789 \n",
      "    5     123456789 123456789 |    6         2         9     |    8         3         4     \n",
      "------------------------------+------------------------------+------------------------------\n",
      "    9         5         3     |    7         8         2     |    4         1         6     \n",
      "    1         2         6     |    5         4         3     |    9         7         8     \n",
      "123456789     4     123456789 |    9         6         1     |    2         5         3     \n",
      "\n",
      "6 1 5 |2 9 4 |3 8 7 \n",
      "3 9 2 |1 7 8 |6 4 5 \n",
      "4 8 7 |3 5 6 |1 2 9 \n",
      "------+------+------\n",
      "2 6 4 |8 3 7 |5 9 1 \n",
      "8 3 9 |4 1 5 |7 6 2 \n",
      "5 7 1 |6 2 9 |8 3 4 \n",
      "------+------+------\n",
      "9 5 3 |7 8 2 |4 1 6 \n",
      "1 2 6 |5 4 3 |9 7 8 \n",
      "7 4 8 |9 6 1 |2 5 3 \n",
      "\n",
      "test_triple2 :\n",
      "Solved \n",
      "\n",
      "    4     123456789 123456789 |    5     123456789 123456789 |    3         7     123456789 \n",
      "    3         2     123456789 |123456789 123456789 123456789 |123456789 123456789     4     \n",
      "123456789 123456789 123456789 |123456789 123456789 123456789 |123456789 123456789 123456789 \n",
      "------------------------------+------------------------------+------------------------------\n",
      "    8     123456789 123456789 |123456789 123456789     2     |123456789     3     123456789 \n",
      "    2         1     123456789 |    8         4     123456789 |123456789 123456789 123456789 \n",
      "123456789 123456789 123456789 |123456789 123456789 123456789 |123456789     9     123456789 \n",
      "------------------------------+------------------------------+------------------------------\n",
      "123456789     7     123456789 |123456789     9     123456789 |    1     123456789 123456789 \n",
      "    9         4     123456789 |    6         5         1     |123456789 123456789 123456789 \n",
      "123456789 123456789 123456789 |123456789     7     123456789 |123456789 123456789 123456789 \n",
      "\n",
      "4 8 1 |5 2 6 |3 7 9 \n",
      "3 2 5 |9 1 7 |6 8 4 \n",
      "6 9 7 |3 8 4 |2 1 5 \n",
      "------+------+------\n",
      "8 5 9 |7 6 2 |4 3 1 \n",
      "2 1 3 |8 4 9 |5 6 7 \n",
      "7 6 4 |1 3 5 |8 9 2 \n",
      "------+------+------\n",
      "5 7 6 |2 9 3 |1 4 8 \n",
      "9 4 8 |6 5 1 |7 2 3 \n",
      "1 3 2 |4 7 8 |9 5 6 \n",
      "\n",
      "test_triple3 :\n",
      "Solved \n",
      "\n",
      "    3         9     123456789 |123456789 123456789 123456789 |    7     123456789 123456789 \n",
      "123456789 123456789 123456789 |123456789 123456789 123456789 |    6         5     123456789 \n",
      "    5     123456789     7     |123456789 123456789 123456789 |    3         4         9     \n",
      "------------------------------+------------------------------+------------------------------\n",
      "123456789     4         9     |    3         8     123456789 |    5     123456789     6     \n",
      "    6     123456789     1     |123456789     5         4     |    9         8         3     \n",
      "    8         5         3     |123456789 123456789 123456789 |    4     123456789 123456789 \n",
      "------------------------------+------------------------------+------------------------------\n",
      "    9     123456789 123456789 |    8     123456789 123456789 |    1         3         4     \n",
      "123456789 123456789     2     |    9         4     123456789 |    8         6         5     \n",
      "    4     123456789 123456789 |123456789 123456789 123456789 |    2         9         7     \n",
      "\n",
      "3 9 6 |4 2 5 |7 1 8 \n",
      "1 8 4 |7 3 9 |6 5 2 \n",
      "5 2 7 |1 6 8 |3 4 9 \n",
      "------+------+------\n",
      "2 4 9 |3 8 1 |5 7 6 \n",
      "6 7 1 |2 5 4 |9 8 3 \n",
      "8 5 3 |6 9 7 |4 2 1 \n",
      "------+------+------\n",
      "9 6 5 |8 7 2 |1 3 4 \n",
      "7 1 2 |9 4 3 |8 6 5 \n",
      "4 3 8 |5 1 6 |2 9 7 \n",
      "\n",
      "test_rob :\n",
      "Invalid Sudoku: Error 404 \n",
      "\n",
      "123456789 123456789 123456789 |    2     123456789 123456789 |123456789 123456789     5     \n",
      "    8     123456789 123456789 |123456789 123456789     9     |123456789 123456789     4     \n",
      "123456789 123456789 123456789 |    1         8     123456789 |123456789     2     123456789 \n",
      "------------------------------+------------------------------+------------------------------\n",
      "    3     123456789 123456789 |123456789 123456789 123456789 |    5     123456789     9     \n",
      "    5     123456789 123456789 |123456789 123456789 123456789 |123456789     7     123456789 \n",
      "123456789     6     123456789 |123456789 123456789 123456789 |123456789     4     123456789 \n",
      "------------------------------+------------------------------+------------------------------\n",
      "123456789 123456789 123456789 |123456789 123456789 123456789 |123456789 123456789     6     \n",
      "123456789 123456789     1     |123456789     3         4     |    9         8     123456789 \n",
      "    9         2     123456789 |    8         5     123456789 |123456789 123456789     3     \n",
      "\n",
      ". . . |2 . . |. . 5 \n",
      "8 . . |. . 9 |. . 4 \n",
      ". . . |1 8 . |. 2 . \n",
      "------+------+------\n",
      "3 . . |. . . |5 . 9 \n",
      "5 . . |. . . |. 7 . \n",
      ". 6 . |. . . |. 4 . \n",
      "------+------+------\n",
      ". . . |. . . |. . 6 \n",
      ". . 1 |. 3 4 |9 8 . \n",
      "9 2 . |8 5 . |. . 3 \n",
      "\n"
     ]
    }
   ],
   "source": [
    "count=0\n",
    "for test in tests:\n",
    "    print(names_tests[count]+' :')\n",
    "    grid = dict(zip(boxes, [\"123456789\" if element == \".\" else element for element in test]))\n",
    "    count+=1\n",
    "    print(solve(test)[0]+' \\n')\n",
    "    display(grid)\n",
    "    display(solve(test)[2])"
   ]
  },
  {
   "cell_type": "markdown",
   "metadata": {},
   "source": [
    "### Testing scenario when the puzzle is invalid from the beginning (doesn't follow the Sudoku rules) after loading the image"
   ]
  },
  {
   "cell_type": "code",
   "execution_count": 6,
   "metadata": {},
   "outputs": [
    {
     "data": {
      "text/plain": [
       "('Ivalid Sudoku', ['8', 'A1'], ['8', 'A2'])"
      ]
     },
     "execution_count": 6,
     "metadata": {},
     "output_type": "execute_result"
    }
   ],
   "source": [
    "solve(test1)"
   ]
  },
  {
   "cell_type": "markdown",
   "metadata": {},
   "source": [
    "### Individual Testing"
   ]
  },
  {
   "cell_type": "code",
   "execution_count": 7,
   "metadata": {},
   "outputs": [
    {
     "data": {
      "text/plain": [
       "81"
      ]
     },
     "execution_count": 7,
     "metadata": {},
     "output_type": "execute_result"
    }
   ],
   "source": [
    "test_individual = tests[3]\n",
    "grid_test_individual = dict(zip(boxes, [\"123456789\" if element == \".\" else element for element in test_individual]))\n",
    "len(test_individual)"
   ]
  },
  {
   "cell_type": "code",
   "execution_count": null,
   "metadata": {},
   "outputs": [],
   "source": [
    "solve(test_individual)"
   ]
  },
  {
   "cell_type": "code",
   "execution_count": null,
   "metadata": {},
   "outputs": [],
   "source": [
    "search(grid_test_individual)"
   ]
  },
  {
   "cell_type": "code",
   "execution_count": null,
   "metadata": {},
   "outputs": [],
   "source": [
    "reduce_puzzle(grid_test_individual)"
   ]
  },
  {
   "cell_type": "code",
   "execution_count": null,
   "metadata": {},
   "outputs": [],
   "source": [
    "solve_technique(test_individual,'single_position')"
   ]
  },
  {
   "cell_type": "code",
   "execution_count": null,
   "metadata": {},
   "outputs": [],
   "source": [
    "solve_technique(test_individual,'single_candidate')"
   ]
  },
  {
   "cell_type": "code",
   "execution_count": null,
   "metadata": {},
   "outputs": [],
   "source": [
    "solve_technique(test_individual,'naked_twins')"
   ]
  },
  {
   "cell_type": "code",
   "execution_count": null,
   "metadata": {},
   "outputs": [],
   "source": [
    "solve_technique(test_individual,'naked_triple')"
   ]
  },
  {
   "cell_type": "markdown",
   "metadata": {},
   "source": [
    "### Testing solver with dataset"
   ]
  },
  {
   "cell_type": "code",
   "execution_count": 9,
   "metadata": {},
   "outputs": [
    {
     "data": {
      "text/html": [
       "<div>\n",
       "<style scoped>\n",
       "    .dataframe tbody tr th:only-of-type {\n",
       "        vertical-align: middle;\n",
       "    }\n",
       "\n",
       "    .dataframe tbody tr th {\n",
       "        vertical-align: top;\n",
       "    }\n",
       "\n",
       "    .dataframe thead th {\n",
       "        text-align: right;\n",
       "    }\n",
       "</style>\n",
       "<table border=\"1\" class=\"dataframe\">\n",
       "  <thead>\n",
       "    <tr style=\"text-align: right;\">\n",
       "      <th></th>\n",
       "      <th>Id</th>\n",
       "      <th>Sudoku</th>\n",
       "      <th>Solution</th>\n",
       "      <th>Level</th>\n",
       "      <th>People</th>\n",
       "      <th>Average-Time</th>\n",
       "    </tr>\n",
       "  </thead>\n",
       "  <tbody>\n",
       "    <tr>\n",
       "      <th>0</th>\n",
       "      <td>0</td>\n",
       "      <td>8...74...1.........7.5.9.4....65.4..73.....296...</td>\n",
       "      <td>8591742361648325973725698412916574837354186296...</td>\n",
       "      <td>Diabolical</td>\n",
       "      <td>254</td>\n",
       "      <td>25</td>\n",
       "    </tr>\n",
       "    <tr>\n",
       "      <th>1</th>\n",
       "      <td>1</td>\n",
       "      <td>.5.....7.9......6...21.75.8.4..69.3...8...4......</td>\n",
       "      <td>8539461729175823644621375981458692376283754197...</td>\n",
       "      <td>Moderate</td>\n",
       "      <td>281</td>\n",
       "      <td>12</td>\n",
       "    </tr>\n",
       "    <tr>\n",
       "      <th>2</th>\n",
       "      <td>2</td>\n",
       "      <td>...45.2..3.........8....4..7...94.3.9..5.2.76....</td>\n",
       "      <td>6974532183248617955819274637186945329435128762...</td>\n",
       "      <td>Diabolical</td>\n",
       "      <td>265</td>\n",
       "      <td>22</td>\n",
       "    </tr>\n",
       "    <tr>\n",
       "      <th>3</th>\n",
       "      <td>3</td>\n",
       "      <td>9......31.3...8.....5.7.9..3...4...8.916..54.4...</td>\n",
       "      <td>9274568316341982758153729643527496187916835424...</td>\n",
       "      <td>Tough</td>\n",
       "      <td>279</td>\n",
       "      <td>19</td>\n",
       "    </tr>\n",
       "    <tr>\n",
       "      <th>4</th>\n",
       "      <td>4</td>\n",
       "      <td>9.......2784.1.5.....4.....2.53.1.7...7...8......</td>\n",
       "      <td>9615387427846125395234796182953814761479568236...</td>\n",
       "      <td>Moderate</td>\n",
       "      <td>301</td>\n",
       "      <td>14</td>\n",
       "    </tr>\n",
       "  </tbody>\n",
       "</table>\n",
       "</div>"
      ],
      "text/plain": [
       "   Id                                             Sudoku  \\\n",
       "0   0  8...74...1.........7.5.9.4....65.4..73.....296...   \n",
       "1   1  .5.....7.9......6...21.75.8.4..69.3...8...4......   \n",
       "2   2  ...45.2..3.........8....4..7...94.3.9..5.2.76....   \n",
       "3   3  9......31.3...8.....5.7.9..3...4...8.916..54.4...   \n",
       "4   4  9.......2784.1.5.....4.....2.53.1.7...7...8......   \n",
       "\n",
       "                                            Solution       Level  People  \\\n",
       "0  8591742361648325973725698412916574837354186296...  Diabolical     254   \n",
       "1  8539461729175823644621375981458692376283754197...    Moderate     281   \n",
       "2  6974532183248617955819274637186945329435128762...  Diabolical     265   \n",
       "3  9274568316341982758153729643527496187916835424...       Tough     279   \n",
       "4  9615387427846125395234796182953814761479568236...    Moderate     301   \n",
       "\n",
       "   Average-Time  \n",
       "0            25  \n",
       "1            12  \n",
       "2            22  \n",
       "3            19  \n",
       "4            14  "
      ]
     },
     "execution_count": 9,
     "metadata": {},
     "output_type": "execute_result"
    }
   ],
   "source": [
    "df = pd.read_csv('../Omega2020/data/dataset.csv').drop('Unnamed: 0', axis=1)\n",
    "df.head()"
   ]
  },
  {
   "cell_type": "code",
   "execution_count": 10,
   "metadata": {
    "collapsed": true,
    "jupyter": {
     "outputs_hidden": true
    }
   },
   "outputs": [
    {
     "data": {
      "text/plain": [
       "('Solved',\n",
       " '859174236164832597372569841291657483735418629648293175926381754413725968587946312',\n",
       " {'A1': '8',\n",
       "  'A2': '5',\n",
       "  'A3': '9',\n",
       "  'A4': '1',\n",
       "  'A5': '7',\n",
       "  'A6': '4',\n",
       "  'A7': '2',\n",
       "  'A8': '3',\n",
       "  'A9': '6',\n",
       "  'B1': '1',\n",
       "  'B2': '6',\n",
       "  'B3': '4',\n",
       "  'B4': '8',\n",
       "  'B5': '3',\n",
       "  'B6': '2',\n",
       "  'B7': '5',\n",
       "  'B8': '9',\n",
       "  'B9': '7',\n",
       "  'C1': '3',\n",
       "  'C2': '7',\n",
       "  'C3': '2',\n",
       "  'C4': '5',\n",
       "  'C5': '6',\n",
       "  'C6': '9',\n",
       "  'C7': '8',\n",
       "  'C8': '4',\n",
       "  'C9': '1',\n",
       "  'D1': '2',\n",
       "  'D2': '9',\n",
       "  'D3': '1',\n",
       "  'D4': '6',\n",
       "  'D5': '5',\n",
       "  'D6': '7',\n",
       "  'D7': '4',\n",
       "  'D8': '8',\n",
       "  'D9': '3',\n",
       "  'E1': '7',\n",
       "  'E2': '3',\n",
       "  'E3': '5',\n",
       "  'E4': '4',\n",
       "  'E5': '1',\n",
       "  'E6': '8',\n",
       "  'E7': '6',\n",
       "  'E8': '2',\n",
       "  'E9': '9',\n",
       "  'F1': '6',\n",
       "  'F2': '4',\n",
       "  'F3': '8',\n",
       "  'F4': '2',\n",
       "  'F5': '9',\n",
       "  'F6': '3',\n",
       "  'F7': '1',\n",
       "  'F8': '7',\n",
       "  'F9': '5',\n",
       "  'G1': '9',\n",
       "  'G2': '2',\n",
       "  'G3': '6',\n",
       "  'G4': '3',\n",
       "  'G5': '8',\n",
       "  'G6': '1',\n",
       "  'G7': '7',\n",
       "  'G8': '5',\n",
       "  'G9': '4',\n",
       "  'H1': '4',\n",
       "  'H2': '1',\n",
       "  'H3': '3',\n",
       "  'H4': '7',\n",
       "  'H5': '2',\n",
       "  'H6': '5',\n",
       "  'H7': '9',\n",
       "  'H8': '6',\n",
       "  'H9': '8',\n",
       "  'I1': '5',\n",
       "  'I2': '8',\n",
       "  'I3': '7',\n",
       "  'I4': '9',\n",
       "  'I5': '4',\n",
       "  'I6': '6',\n",
       "  'I7': '3',\n",
       "  'I8': '1',\n",
       "  'I9': '2'},\n",
       " {'A1': '8',\n",
       "  'A2': '.',\n",
       "  'A3': '.',\n",
       "  'A4': '.',\n",
       "  'A5': '7',\n",
       "  'A6': '4',\n",
       "  'A7': '.',\n",
       "  'A8': '.',\n",
       "  'A9': '.',\n",
       "  'B1': '1',\n",
       "  'B2': '.',\n",
       "  'B3': '.',\n",
       "  'B4': '.',\n",
       "  'B5': '.',\n",
       "  'B6': '.',\n",
       "  'B7': '.',\n",
       "  'B8': '.',\n",
       "  'B9': '.',\n",
       "  'C1': '.',\n",
       "  'C2': '7',\n",
       "  'C3': '.',\n",
       "  'C4': '5',\n",
       "  'C5': '.',\n",
       "  'C6': '9',\n",
       "  'C7': '.',\n",
       "  'C8': '4',\n",
       "  'C9': '.',\n",
       "  'D1': '.',\n",
       "  'D2': '.',\n",
       "  'D3': '.',\n",
       "  'D4': '6',\n",
       "  'D5': '5',\n",
       "  'D6': '.',\n",
       "  'D7': '4',\n",
       "  'D8': '.',\n",
       "  'D9': '.',\n",
       "  'E1': '7',\n",
       "  'E2': '3',\n",
       "  'E3': '.',\n",
       "  'E4': '.',\n",
       "  'E5': '.',\n",
       "  'E6': '.',\n",
       "  'E7': '.',\n",
       "  'E8': '2',\n",
       "  'E9': '9',\n",
       "  'F1': '6',\n",
       "  'F2': '.',\n",
       "  'F3': '8',\n",
       "  'F4': '.',\n",
       "  'F5': '.',\n",
       "  'F6': '.',\n",
       "  'F7': '.',\n",
       "  'F8': '.',\n",
       "  'F9': '.',\n",
       "  'G1': '.',\n",
       "  'G2': '2',\n",
       "  'G3': '.',\n",
       "  'G4': '3',\n",
       "  'G5': '.',\n",
       "  'G6': '1',\n",
       "  'G7': '.',\n",
       "  'G8': '5',\n",
       "  'G9': '.',\n",
       "  'H1': '.',\n",
       "  'H2': '.',\n",
       "  'H3': '.',\n",
       "  'H4': '.',\n",
       "  'H5': '.',\n",
       "  'H6': '.',\n",
       "  'H7': '.',\n",
       "  'H8': '.',\n",
       "  'H9': '8',\n",
       "  'I1': '.',\n",
       "  'I2': '.',\n",
       "  'I3': '.',\n",
       "  'I4': '9',\n",
       "  'I5': '.',\n",
       "  'I6': '.',\n",
       "  'I7': '.',\n",
       "  'I8': '.',\n",
       "  'I9': '2'})"
      ]
     },
     "execution_count": 10,
     "metadata": {},
     "output_type": "execute_result"
    }
   ],
   "source": [
    "solve(df['Sudoku'][0])"
   ]
  },
  {
   "cell_type": "code",
   "execution_count": 11,
   "metadata": {},
   "outputs": [],
   "source": [
    "import json\n",
    "a =solve(df['Sudoku'][0])[2]"
   ]
  },
  {
   "cell_type": "code",
   "execution_count": 12,
   "metadata": {},
   "outputs": [
    {
     "data": {
      "text/plain": [
       "'859174236164832597372569841291657483735418629648293175926381754413725968587946312'"
      ]
     },
     "execution_count": 12,
     "metadata": {},
     "output_type": "execute_result"
    }
   ],
   "source": [
    "\"\".join([value if len(value) == 1 else \".\" for value in a.values()])"
   ]
  },
  {
   "cell_type": "code",
   "execution_count": 13,
   "metadata": {},
   "outputs": [
    {
     "name": "stdout",
     "output_type": "stream",
     "text": [
      "8 5 9 |1 7 4 |2 3 6 \n",
      "1 6 4 |8 3 2 |5 9 7 \n",
      "3 7 2 |5 6 9 |8 4 1 \n",
      "------+------+------\n",
      "2 9 1 |6 5 7 |4 8 3 \n",
      "7 3 5 |4 1 8 |6 2 9 \n",
      "6 4 8 |2 9 3 |1 7 5 \n",
      "------+------+------\n",
      "9 2 6 |3 8 1 |7 5 4 \n",
      "4 1 3 |7 2 5 |9 6 8 \n",
      "5 8 7 |9 4 6 |3 1 2 \n",
      "\n"
     ]
    }
   ],
   "source": [
    "display(a)"
   ]
  },
  {
   "cell_type": "code",
   "execution_count": 14,
   "metadata": {},
   "outputs": [],
   "source": [
    "df['Solver'] = df['Sudoku'].apply(lambda x: solve(x)[0])"
   ]
  },
  {
   "cell_type": "code",
   "execution_count": 15,
   "metadata": {},
   "outputs": [
    {
     "data": {
      "text/html": [
       "<div>\n",
       "<style scoped>\n",
       "    .dataframe tbody tr th:only-of-type {\n",
       "        vertical-align: middle;\n",
       "    }\n",
       "\n",
       "    .dataframe tbody tr th {\n",
       "        vertical-align: top;\n",
       "    }\n",
       "\n",
       "    .dataframe thead th {\n",
       "        text-align: right;\n",
       "    }\n",
       "</style>\n",
       "<table border=\"1\" class=\"dataframe\">\n",
       "  <thead>\n",
       "    <tr style=\"text-align: right;\">\n",
       "      <th></th>\n",
       "      <th>Id</th>\n",
       "      <th>Sudoku</th>\n",
       "      <th>Solution</th>\n",
       "      <th>Level</th>\n",
       "      <th>People</th>\n",
       "      <th>Average-Time</th>\n",
       "      <th>Solver</th>\n",
       "    </tr>\n",
       "  </thead>\n",
       "  <tbody>\n",
       "    <tr>\n",
       "      <th>0</th>\n",
       "      <td>0</td>\n",
       "      <td>8...74...1.........7.5.9.4....65.4..73.....296...</td>\n",
       "      <td>8591742361648325973725698412916574837354186296...</td>\n",
       "      <td>Diabolical</td>\n",
       "      <td>254</td>\n",
       "      <td>25</td>\n",
       "      <td>Solved</td>\n",
       "    </tr>\n",
       "    <tr>\n",
       "      <th>1</th>\n",
       "      <td>1</td>\n",
       "      <td>.5.....7.9......6...21.75.8.4..69.3...8...4......</td>\n",
       "      <td>8539461729175823644621375981458692376283754197...</td>\n",
       "      <td>Moderate</td>\n",
       "      <td>281</td>\n",
       "      <td>12</td>\n",
       "      <td>Solved</td>\n",
       "    </tr>\n",
       "    <tr>\n",
       "      <th>2</th>\n",
       "      <td>2</td>\n",
       "      <td>...45.2..3.........8....4..7...94.3.9..5.2.76....</td>\n",
       "      <td>6974532183248617955819274637186945329435128762...</td>\n",
       "      <td>Diabolical</td>\n",
       "      <td>265</td>\n",
       "      <td>22</td>\n",
       "      <td>Solved</td>\n",
       "    </tr>\n",
       "    <tr>\n",
       "      <th>3</th>\n",
       "      <td>3</td>\n",
       "      <td>9......31.3...8.....5.7.9..3...4...8.916..54.4...</td>\n",
       "      <td>9274568316341982758153729643527496187916835424...</td>\n",
       "      <td>Tough</td>\n",
       "      <td>279</td>\n",
       "      <td>19</td>\n",
       "      <td>Solved</td>\n",
       "    </tr>\n",
       "    <tr>\n",
       "      <th>4</th>\n",
       "      <td>4</td>\n",
       "      <td>9.......2784.1.5.....4.....2.53.1.7...7...8......</td>\n",
       "      <td>9615387427846125395234796182953814761479568236...</td>\n",
       "      <td>Moderate</td>\n",
       "      <td>301</td>\n",
       "      <td>14</td>\n",
       "      <td>Solved</td>\n",
       "    </tr>\n",
       "  </tbody>\n",
       "</table>\n",
       "</div>"
      ],
      "text/plain": [
       "   Id                                             Sudoku  \\\n",
       "0   0  8...74...1.........7.5.9.4....65.4..73.....296...   \n",
       "1   1  .5.....7.9......6...21.75.8.4..69.3...8...4......   \n",
       "2   2  ...45.2..3.........8....4..7...94.3.9..5.2.76....   \n",
       "3   3  9......31.3...8.....5.7.9..3...4...8.916..54.4...   \n",
       "4   4  9.......2784.1.5.....4.....2.53.1.7...7...8......   \n",
       "\n",
       "                                            Solution       Level  People  \\\n",
       "0  8591742361648325973725698412916574837354186296...  Diabolical     254   \n",
       "1  8539461729175823644621375981458692376283754197...    Moderate     281   \n",
       "2  6974532183248617955819274637186945329435128762...  Diabolical     265   \n",
       "3  9274568316341982758153729643527496187916835424...       Tough     279   \n",
       "4  9615387427846125395234796182953814761479568236...    Moderate     301   \n",
       "\n",
       "   Average-Time  Solver  \n",
       "0            25  Solved  \n",
       "1            12  Solved  \n",
       "2            22  Solved  \n",
       "3            19  Solved  \n",
       "4            14  Solved  "
      ]
     },
     "execution_count": 15,
     "metadata": {},
     "output_type": "execute_result"
    }
   ],
   "source": [
    "df.head()"
   ]
  },
  {
   "cell_type": "code",
   "execution_count": 16,
   "metadata": {},
   "outputs": [
    {
     "data": {
      "text/plain": [
       "Solved    5029\n",
       "Name: Solver, dtype: int64"
      ]
     },
     "execution_count": 16,
     "metadata": {},
     "output_type": "execute_result"
    }
   ],
   "source": [
    "df['Solver'].value_counts()"
   ]
  },
  {
   "cell_type": "markdown",
   "metadata": {},
   "source": [
    "### Testing solver by technique with dataset"
   ]
  },
  {
   "cell_type": "code",
   "execution_count": 17,
   "metadata": {},
   "outputs": [],
   "source": [
    "df['Solved_single_position'] = df['Sudoku'].apply(lambda x: solve_technique(x, 'single_position')[0])"
   ]
  },
  {
   "cell_type": "code",
   "execution_count": 18,
   "metadata": {},
   "outputs": [
    {
     "data": {
      "text/plain": [
       "Not solved    4813\n",
       "Solved         216\n",
       "Name: Solved_single_position, dtype: int64"
      ]
     },
     "execution_count": 18,
     "metadata": {},
     "output_type": "execute_result"
    }
   ],
   "source": [
    "df['Solved_single_position'].value_counts()"
   ]
  },
  {
   "cell_type": "code",
   "execution_count": 19,
   "metadata": {},
   "outputs": [],
   "source": [
    "df['Solved_single_candidate'] = df['Sudoku'].apply(lambda x: solve_technique(x, 'single_candidate')[0])"
   ]
  },
  {
   "cell_type": "code",
   "execution_count": 20,
   "metadata": {},
   "outputs": [
    {
     "data": {
      "text/plain": [
       "Solved        2786\n",
       "Not solved    2243\n",
       "Name: Solved_single_candidate, dtype: int64"
      ]
     },
     "execution_count": 20,
     "metadata": {},
     "output_type": "execute_result"
    }
   ],
   "source": [
    "df['Solved_single_candidate'].value_counts()"
   ]
  },
  {
   "cell_type": "code",
   "execution_count": 21,
   "metadata": {},
   "outputs": [],
   "source": [
    "df['Solved_naked_twins']= df['Sudoku'].apply(lambda x: solve_technique(x, 'naked_twins')[0])"
   ]
  },
  {
   "cell_type": "code",
   "execution_count": 22,
   "metadata": {},
   "outputs": [
    {
     "data": {
      "text/plain": [
       "Not solved    3658\n",
       "Solved        1371\n",
       "Name: Solved_naked_twins, dtype: int64"
      ]
     },
     "execution_count": 22,
     "metadata": {},
     "output_type": "execute_result"
    }
   ],
   "source": [
    "df['Solved_naked_twins'].value_counts()"
   ]
  },
  {
   "cell_type": "code",
   "execution_count": 23,
   "metadata": {},
   "outputs": [],
   "source": [
    "df['Solved_naked_triple']= df['Sudoku'].apply(lambda x: solve_technique(x, 'naked_triple')[0])"
   ]
  },
  {
   "cell_type": "code",
   "execution_count": 24,
   "metadata": {},
   "outputs": [
    {
     "data": {
      "text/plain": [
       "Not solved    4790\n",
       "Solved         239\n",
       "Name: Solved_naked_triple, dtype: int64"
      ]
     },
     "execution_count": 24,
     "metadata": {},
     "output_type": "execute_result"
    }
   ],
   "source": [
    "df['Solved_naked_triple'].value_counts()"
   ]
  },
  {
   "cell_type": "code",
   "execution_count": 25,
   "metadata": {},
   "outputs": [
    {
     "data": {
      "text/html": [
       "<div>\n",
       "<style scoped>\n",
       "    .dataframe tbody tr th:only-of-type {\n",
       "        vertical-align: middle;\n",
       "    }\n",
       "\n",
       "    .dataframe tbody tr th {\n",
       "        vertical-align: top;\n",
       "    }\n",
       "\n",
       "    .dataframe thead th {\n",
       "        text-align: right;\n",
       "    }\n",
       "</style>\n",
       "<table border=\"1\" class=\"dataframe\">\n",
       "  <thead>\n",
       "    <tr style=\"text-align: right;\">\n",
       "      <th></th>\n",
       "      <th>Id</th>\n",
       "      <th>Sudoku</th>\n",
       "      <th>Solution</th>\n",
       "      <th>Level</th>\n",
       "      <th>People</th>\n",
       "      <th>Average-Time</th>\n",
       "      <th>Solver</th>\n",
       "      <th>Solved_single_position</th>\n",
       "      <th>Solved_single_candidate</th>\n",
       "      <th>Solved_naked_twins</th>\n",
       "      <th>Solved_naked_triple</th>\n",
       "    </tr>\n",
       "  </thead>\n",
       "  <tbody>\n",
       "    <tr>\n",
       "      <th>0</th>\n",
       "      <td>0</td>\n",
       "      <td>8...74...1.........7.5.9.4....65.4..73.....296...</td>\n",
       "      <td>8591742361648325973725698412916574837354186296...</td>\n",
       "      <td>Diabolical</td>\n",
       "      <td>254</td>\n",
       "      <td>25</td>\n",
       "      <td>Solved</td>\n",
       "      <td>Not solved</td>\n",
       "      <td>Not solved</td>\n",
       "      <td>Not solved</td>\n",
       "      <td>Not solved</td>\n",
       "    </tr>\n",
       "    <tr>\n",
       "      <th>1</th>\n",
       "      <td>1</td>\n",
       "      <td>.5.....7.9......6...21.75.8.4..69.3...8...4......</td>\n",
       "      <td>8539461729175823644621375981458692376283754197...</td>\n",
       "      <td>Moderate</td>\n",
       "      <td>281</td>\n",
       "      <td>12</td>\n",
       "      <td>Solved</td>\n",
       "      <td>Not solved</td>\n",
       "      <td>Solved</td>\n",
       "      <td>Solved</td>\n",
       "      <td>Not solved</td>\n",
       "    </tr>\n",
       "    <tr>\n",
       "      <th>2</th>\n",
       "      <td>2</td>\n",
       "      <td>...45.2..3.........8....4..7...94.3.9..5.2.76....</td>\n",
       "      <td>6974532183248617955819274637186945329435128762...</td>\n",
       "      <td>Diabolical</td>\n",
       "      <td>265</td>\n",
       "      <td>22</td>\n",
       "      <td>Solved</td>\n",
       "      <td>Not solved</td>\n",
       "      <td>Not solved</td>\n",
       "      <td>Not solved</td>\n",
       "      <td>Not solved</td>\n",
       "    </tr>\n",
       "    <tr>\n",
       "      <th>3</th>\n",
       "      <td>3</td>\n",
       "      <td>9......31.3...8.....5.7.9..3...4...8.916..54.4...</td>\n",
       "      <td>9274568316341982758153729643527496187916835424...</td>\n",
       "      <td>Tough</td>\n",
       "      <td>279</td>\n",
       "      <td>19</td>\n",
       "      <td>Solved</td>\n",
       "      <td>Not solved</td>\n",
       "      <td>Not solved</td>\n",
       "      <td>Not solved</td>\n",
       "      <td>Not solved</td>\n",
       "    </tr>\n",
       "    <tr>\n",
       "      <th>4</th>\n",
       "      <td>4</td>\n",
       "      <td>9.......2784.1.5.....4.....2.53.1.7...7...8......</td>\n",
       "      <td>9615387427846125395234796182953814761479568236...</td>\n",
       "      <td>Moderate</td>\n",
       "      <td>301</td>\n",
       "      <td>14</td>\n",
       "      <td>Solved</td>\n",
       "      <td>Not solved</td>\n",
       "      <td>Solved</td>\n",
       "      <td>Solved</td>\n",
       "      <td>Not solved</td>\n",
       "    </tr>\n",
       "  </tbody>\n",
       "</table>\n",
       "</div>"
      ],
      "text/plain": [
       "   Id                                             Sudoku  \\\n",
       "0   0  8...74...1.........7.5.9.4....65.4..73.....296...   \n",
       "1   1  .5.....7.9......6...21.75.8.4..69.3...8...4......   \n",
       "2   2  ...45.2..3.........8....4..7...94.3.9..5.2.76....   \n",
       "3   3  9......31.3...8.....5.7.9..3...4...8.916..54.4...   \n",
       "4   4  9.......2784.1.5.....4.....2.53.1.7...7...8......   \n",
       "\n",
       "                                            Solution       Level  People  \\\n",
       "0  8591742361648325973725698412916574837354186296...  Diabolical     254   \n",
       "1  8539461729175823644621375981458692376283754197...    Moderate     281   \n",
       "2  6974532183248617955819274637186945329435128762...  Diabolical     265   \n",
       "3  9274568316341982758153729643527496187916835424...       Tough     279   \n",
       "4  9615387427846125395234796182953814761479568236...    Moderate     301   \n",
       "\n",
       "   Average-Time  Solver Solved_single_position Solved_single_candidate  \\\n",
       "0            25  Solved             Not solved              Not solved   \n",
       "1            12  Solved             Not solved                  Solved   \n",
       "2            22  Solved             Not solved              Not solved   \n",
       "3            19  Solved             Not solved              Not solved   \n",
       "4            14  Solved             Not solved                  Solved   \n",
       "\n",
       "  Solved_naked_twins Solved_naked_triple  \n",
       "0         Not solved          Not solved  \n",
       "1             Solved          Not solved  \n",
       "2         Not solved          Not solved  \n",
       "3         Not solved          Not solved  \n",
       "4             Solved          Not solved  "
      ]
     },
     "execution_count": 25,
     "metadata": {},
     "output_type": "execute_result"
    }
   ],
   "source": [
    "df.head()"
   ]
  },
  {
   "cell_type": "code",
   "execution_count": null,
   "metadata": {},
   "outputs": [],
   "source": []
  }
 ],
 "metadata": {
  "kernelspec": {
   "display_name": "conda_python3",
   "language": "python",
   "name": "conda_python3"
  },
  "language_info": {
   "codemirror_mode": {
    "name": "ipython",
    "version": 3
   },
   "file_extension": ".py",
   "mimetype": "text/x-python",
   "name": "python",
   "nbconvert_exporter": "python",
   "pygments_lexer": "ipython3",
   "version": "3.6.5"
  }
 },
 "nbformat": 4,
 "nbformat_minor": 4
}
